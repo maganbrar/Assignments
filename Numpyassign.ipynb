{
 "cells": [
  {
   "cell_type": "markdown",
   "id": "5dfad5ab-a0d5-4949-b11a-98e0a3f9a741",
   "metadata": {},
   "source": [
    "## 1. Create a NumPy array named arr containing integers from 0 to 5. Print its data type."
   ]
  },
  {
   "cell_type": "code",
   "execution_count": 2,
   "id": "59db0533-e6d7-485b-ac51-0471a44ee20f",
   "metadata": {},
   "outputs": [
    {
     "name": "stdout",
     "output_type": "stream",
     "text": [
      "int64\n"
     ]
    }
   ],
   "source": [
    "import numpy as np \n",
    "\n",
    "arr=np.array([0,1,2,3,4,5])\n",
    "\n",
    "print(arr.dtype)"
   ]
  },
  {
   "cell_type": "markdown",
   "id": "479b207a-c7a6-420c-a2dd-f89af6534596",
   "metadata": {},
   "source": [
    "## 2.Given a NumPy array 'arr', check if its data type is float64.\n",
    "\n",
    "### arr = np.array([1.5, 2.6, 3.7])"
   ]
  },
  {
   "cell_type": "code",
   "execution_count": 3,
   "id": "db70b06b-b2aa-46d2-beba-9bb873b046d6",
   "metadata": {},
   "outputs": [
    {
     "name": "stdout",
     "output_type": "stream",
     "text": [
      "True\n"
     ]
    }
   ],
   "source": [
    "import numpy as np \n",
    "arr = np.array([1.5, 2.6, 3.7])\n",
    "\n",
    "print(arr.dtype=='float64')"
   ]
  },
  {
   "cell_type": "markdown",
   "id": "81179837-beaf-4269-aa58-b3526921afad",
   "metadata": {},
   "source": [
    "## 3.Create a NumPy array 'arr' with a data type of complex128 containing three complex numbers."
   ]
  },
  {
   "cell_type": "code",
   "execution_count": 4,
   "id": "e3e49770-22bf-4aaa-9082-e7a595425001",
   "metadata": {},
   "outputs": [
    {
     "name": "stdout",
     "output_type": "stream",
     "text": [
      "complex128\n"
     ]
    }
   ],
   "source": [
    "import numpy as np\n",
    "\n",
    "arr=np.array([1+3j,2+4j,5+6j])\n",
    "\n",
    "print(arr.dtype)"
   ]
  },
  {
   "cell_type": "markdown",
   "id": "8839d870-d76a-4a23-9eb9-aec000e1fd5c",
   "metadata": {},
   "source": [
    "## 4. Convert an existing NumPy array 'arr' of integers to float32 data type."
   ]
  },
  {
   "cell_type": "code",
   "execution_count": 9,
   "id": "30ef4697-0e8d-4108-b1f2-cd083b71fb9f",
   "metadata": {},
   "outputs": [
    {
     "name": "stdout",
     "output_type": "stream",
     "text": [
      "[0 1 2 3 4 5]\n",
      "float32\n",
      "[0. 1. 2. 3. 4. 5.]\n"
     ]
    }
   ],
   "source": [
    "import numpy as np \n",
    "\n",
    "arr=np.array([0,1,2,3,4,5])\n",
    "\n",
    "print(arr)\n",
    "\n",
    "arr_float32=arr.astype(np.float32)\n",
    "\n",
    "print(arr_float32.dtype)\n",
    "print(arr_float32)\n"
   ]
  },
  {
   "cell_type": "markdown",
   "id": "87ef7979-4fc5-49d3-8ba4-8db2cbe61796",
   "metadata": {},
   "source": [
    "## 5. Given a NumPy array 'arr' with float64 data type, convert it to float32 to reduce decimal precision."
   ]
  },
  {
   "cell_type": "code",
   "execution_count": 15,
   "id": "a7bdd83d-9eca-40fa-9ae3-d48deb2a313b",
   "metadata": {},
   "outputs": [
    {
     "name": "stdout",
     "output_type": "stream",
     "text": [
      "Original array data type: float64\n",
      "Converted array data type: float32\n",
      "Converted array: [1.1 2.2 3.3]\n"
     ]
    }
   ],
   "source": [
    "import numpy as np\n",
    "\n",
    "\n",
    "arr = np.array([1.1, 2.2, 3.3], dtype=np.float64)\n",
    "\n",
    "arr_float32 = arr.astype(np.float32)\n",
    "\n",
    "print(\"Original array data type:\", arr.dtype)\n",
    "print(\"Converted array data type:\", arr_float32.dtype)\n",
    "print(\"Converted array:\", arr_float32)\n"
   ]
  },
  {
   "cell_type": "markdown",
   "id": "ca02ce31-d819-4a79-91f6-8f8c0665cb71",
   "metadata": {},
   "source": [
    "## 6.Write a function array_attributes that takes a NumPy array as input and returns its shape, size, and data type."
   ]
  },
  {
   "cell_type": "code",
   "execution_count": 16,
   "id": "2a8ebee5-56d9-4cda-ad71-10bfb7ed9c9c",
   "metadata": {},
   "outputs": [
    {
     "name": "stdout",
     "output_type": "stream",
     "text": [
      "Shape: (2, 3)\n",
      "Size: 6\n",
      "Data type: int64\n"
     ]
    }
   ],
   "source": [
    "import numpy as np\n",
    "\n",
    "def array_attributes(arr):\n",
    "    \n",
    "    shape = arr.shape\n",
    "    size = arr.size\n",
    "    dtype = arr.dtype\n",
    "    return shape, size, dtype\n",
    "\n",
    "\n",
    "arr = np.array([[1, 2, 3], [4, 5, 6]])\n",
    "attributes = array_attributes(arr)\n",
    "print(\"Shape:\", attributes[0])\n",
    "print(\"Size:\", attributes[1])\n",
    "print(\"Data type:\", attributes[2])\n"
   ]
  },
  {
   "cell_type": "markdown",
   "id": "9b8f6a18-fdf1-4ff9-9af2-72bc210ffcb8",
   "metadata": {},
   "source": [
    "## 7.Create a function array_dimension that takes a NumPy array as input and returns its dimensionality."
   ]
  },
  {
   "cell_type": "code",
   "execution_count": 17,
   "id": "5bbf3348-6354-428e-9be1-93e9ef1230d4",
   "metadata": {},
   "outputs": [
    {
     "name": "stdout",
     "output_type": "stream",
     "text": [
      "Dimensionality: 2\n"
     ]
    }
   ],
   "source": [
    "import numpy as np\n",
    "\n",
    "def array_dimension(arr):\n",
    "    \n",
    "    return arr.ndim\n",
    "\n",
    "# Example usage\n",
    "arr = np.array([[1, 2, 3], [4, 5, 6]])\n",
    "dimension = array_dimension(arr)\n",
    "print(\"Dimensionality:\", dimension)\n"
   ]
  },
  {
   "cell_type": "markdown",
   "id": "b37243e6-5dfd-4c56-9508-51046adb97f7",
   "metadata": {},
   "source": [
    "## 8.Design a function item_size_info that takes a NumPy array as input and returns the item size and the total size in bytes."
   ]
  },
  {
   "cell_type": "code",
   "execution_count": 18,
   "id": "b58da645-58a5-4544-ac10-791c8e8e7c5e",
   "metadata": {},
   "outputs": [
    {
     "name": "stdout",
     "output_type": "stream",
     "text": [
      "Item size (in bytes): 4\n",
      "Total size (in bytes): 24\n"
     ]
    }
   ],
   "source": [
    "import numpy as np\n",
    "\n",
    "def item_size_info(arr):\n",
    "    \n",
    "    item_size = arr.itemsize  # Size of each element in bytes\n",
    "    total_size = arr.nbytes   # Total size of the array in bytes\n",
    "    return item_size, total_size\n",
    "\n",
    "# Example usage\n",
    "arr = np.array([[1, 2, 3], [4, 5, 6]], dtype=np.int32)\n",
    "size_info = item_size_info(arr)\n",
    "print(\"Item size (in bytes):\", size_info[0])\n",
    "print(\"Total size (in bytes):\", size_info[1])\n"
   ]
  },
  {
   "cell_type": "markdown",
   "id": "d06cd92c-0e0b-433b-8f95-ae76259426f2",
   "metadata": {},
   "source": [
    "## 9. Create a function array_strides that takes a NumPy array as input and returns the strides of the array."
   ]
  },
  {
   "cell_type": "code",
   "execution_count": 19,
   "id": "e62e0891-5d46-4927-8f24-938b97619601",
   "metadata": {},
   "outputs": [
    {
     "name": "stdout",
     "output_type": "stream",
     "text": [
      "Strides: (24, 8)\n"
     ]
    }
   ],
   "source": [
    "import numpy as np\n",
    "\n",
    "def array_strides(arr):\n",
    "   \n",
    "    return arr.strides\n",
    "\n",
    "\n",
    "arr = np.array([[1, 2, 3], [4, 5, 6]])\n",
    "strides = array_strides(arr)\n",
    "print(\"Strides:\", strides)\n"
   ]
  },
  {
   "cell_type": "markdown",
   "id": "1ccf54a1-92c5-4395-b90e-ca3b478e7069",
   "metadata": {},
   "source": [
    "## 10.Design a function shape_stride_relationship that takes a NumPy array as input and returns the shape and strides of the array."
   ]
  },
  {
   "cell_type": "code",
   "execution_count": 20,
   "id": "1d33d128-157a-4a59-9664-bbbedb007e2d",
   "metadata": {},
   "outputs": [
    {
     "name": "stdout",
     "output_type": "stream",
     "text": [
      "Shape: (2, 3)\n",
      "Strides: (24, 8)\n"
     ]
    }
   ],
   "source": [
    "import numpy as np\n",
    "\n",
    "def shape_stride_relationship(arr):\n",
    "   \n",
    "    shape = arr.shape\n",
    "    strides = arr.strides\n",
    "    return shape, strides\n",
    "\n",
    "\n",
    "arr = np.array([[1, 2, 3], [4, 5, 6]])\n",
    "shape_strides = shape_stride_relationship(arr)\n",
    "print(\"Shape:\", shape_strides[0])\n",
    "print(\"Strides:\", shape_strides[1])\n"
   ]
  },
  {
   "cell_type": "markdown",
   "id": "31cbeeec-3cf5-4da1-984b-952896b6e8e2",
   "metadata": {},
   "source": [
    "## 11.Create a function create_zeros_array that takes an integer n as input and returns a NumPy array of zeros with n elements."
   ]
  },
  {
   "cell_type": "code",
   "execution_count": 21,
   "id": "b3c2696c-9e7b-4d81-8821-15cbf7ed15a9",
   "metadata": {},
   "outputs": [
    {
     "name": "stdout",
     "output_type": "stream",
     "text": [
      "[0. 0. 0. 0. 0.]\n"
     ]
    }
   ],
   "source": [
    "import numpy as np\n",
    "\n",
    "def create_zeros_array(n):\n",
    "    return np.zeros(n)\n",
    "\n",
    "# Example usage\n",
    "arr = create_zeros_array(5)\n",
    "print(arr)\n"
   ]
  },
  {
   "cell_type": "markdown",
   "id": "74e04298-08c5-427a-9b48-36abca8dc688",
   "metadata": {},
   "source": [
    "## 12.Write a function create_ones_matrix that takes integers rows and cols as inputs and generates a 2D NumPy array filled with ones of size rows x cols."
   ]
  },
  {
   "cell_type": "code",
   "execution_count": 22,
   "id": "54475816-e679-490b-b8d3-b75b2df98197",
   "metadata": {},
   "outputs": [
    {
     "name": "stdout",
     "output_type": "stream",
     "text": [
      "[[1. 1. 1. 1.]\n",
      " [1. 1. 1. 1.]\n",
      " [1. 1. 1. 1.]]\n"
     ]
    }
   ],
   "source": [
    "import numpy as np\n",
    "\n",
    "def create_ones_matrix(rows, cols):\n",
    "    return np.ones((rows, cols))\n",
    "\n",
    "matrix = create_ones_matrix(3, 4)\n",
    "print(matrix)\n"
   ]
  },
  {
   "cell_type": "markdown",
   "id": "9b050598-183c-4839-aa9b-87d5c5150255",
   "metadata": {},
   "source": [
    "## 13.Write a function generate_range_array that takes three integers start, stop, and step as arguments and creates a NumPy array with a range starting from start, ending at stop (exclusive), and with the specified step."
   ]
  },
  {
   "cell_type": "code",
   "execution_count": 23,
   "id": "8eb53482-82db-419a-b0a7-da0474117c27",
   "metadata": {},
   "outputs": [
    {
     "name": "stdout",
     "output_type": "stream",
     "text": [
      "[1 3 5 7 9]\n"
     ]
    }
   ],
   "source": [
    "import numpy as np\n",
    "\n",
    "def generate_range_array(start, stop, step):\n",
    "    return np.arange(start, stop, step)\n",
    "\n",
    "\n",
    "range_array = generate_range_array(1, 10, 2)\n",
    "print(range_array)\n"
   ]
  },
  {
   "cell_type": "markdown",
   "id": "c1f00f6d-0f2e-49b3-a938-847e3b55e6eb",
   "metadata": {},
   "source": [
    "## 14. Design a function generate_linear_space that takes two floats start, stop, and an integer num as arguments and generates a NumPy array with num equally spaced values between start and stop (inclusive)."
   ]
  },
  {
   "cell_type": "code",
   "execution_count": 24,
   "id": "0e238bd5-08fe-4a06-8105-644e50923c3c",
   "metadata": {},
   "outputs": [
    {
     "name": "stdout",
     "output_type": "stream",
     "text": [
      "[0.   0.25 0.5  0.75 1.  ]\n"
     ]
    }
   ],
   "source": [
    "import numpy as np\n",
    "\n",
    "def generate_linear_space(start, stop, num):\n",
    "    return np.linspace(start, stop, num)\n",
    "\n",
    "\n",
    "linear_space_array = generate_linear_space(0.0, 1.0, 5)\n",
    "print(linear_space_array)\n"
   ]
  },
  {
   "cell_type": "markdown",
   "id": "fdff9fb1-b1fa-4ea5-a407-8711000b4671",
   "metadata": {},
   "source": [
    "## 15. Create a function create_identity_matrix that takes an integer n as input and generates a square identity matrix of size n x n using numpy.eye."
   ]
  },
  {
   "cell_type": "code",
   "execution_count": 25,
   "id": "1e0774b8-ede2-4413-91c2-82627ed11469",
   "metadata": {},
   "outputs": [
    {
     "name": "stdout",
     "output_type": "stream",
     "text": [
      "[[1. 0. 0. 0.]\n",
      " [0. 1. 0. 0.]\n",
      " [0. 0. 1. 0.]\n",
      " [0. 0. 0. 1.]]\n"
     ]
    }
   ],
   "source": [
    "import numpy as np\n",
    "\n",
    "def create_identity_matrix(n):\n",
    "    return np.eye(n)\n",
    "\n",
    "identity_matrix = create_identity_matrix(4)\n",
    "print(identity_matrix)\n"
   ]
  },
  {
   "cell_type": "markdown",
   "id": "a5f3b1a5-6a00-430b-b208-3c780cab17ac",
   "metadata": {},
   "source": [
    "## 16. Write a function that takes a Python list and converts it into a NumPy array."
   ]
  },
  {
   "cell_type": "code",
   "execution_count": 26,
   "id": "7f90dfd5-208c-4e76-8fb4-2eadd584783b",
   "metadata": {},
   "outputs": [
    {
     "name": "stdout",
     "output_type": "stream",
     "text": [
      "[1 2 3 4 5]\n"
     ]
    }
   ],
   "source": [
    "import numpy as np\n",
    "\n",
    "def list_to_array(py_list):\n",
    "    return np.array(py_list)\n",
    "\n",
    "py_list = [1, 2, 3, 4, 5]\n",
    "array = list_to_array(py_list)\n",
    "print(array)\n"
   ]
  },
  {
   "cell_type": "markdown",
   "id": "c7738ab8-ad1d-42a8-9c99-fc00e2b8d5dd",
   "metadata": {},
   "source": [
    "## 17.Create a NumPy array and demonstrate the use of numpy.view to create a new array object with the same data"
   ]
  },
  {
   "cell_type": "code",
   "execution_count": 27,
   "id": "860d3402-6177-4055-a069-19ea2ed2bf50",
   "metadata": {},
   "outputs": [
    {
     "name": "stdout",
     "output_type": "stream",
     "text": [
      "Original array:\n",
      "[[1 2 3]\n",
      " [4 5 6]]\n",
      "\n",
      "Array view:\n",
      "[[1 2 3]\n",
      " [4 5 6]]\n"
     ]
    }
   ],
   "source": [
    "import numpy as np\n",
    "\n",
    "# Create a NumPy array\n",
    "original_array = np.array([[1, 2, 3], [4, 5, 6]])\n",
    "\n",
    "# Create a new array view of the original array\n",
    "array_view = original_array.view()\n",
    "\n",
    "# Print the original array and its view\n",
    "print(\"Original array:\")\n",
    "print(original_array)\n",
    "\n",
    "print(\"\\nArray view:\")\n",
    "print(array_view)\n",
    "\n",
    "\n"
   ]
  },
  {
   "cell_type": "code",
   "execution_count": 28,
   "id": "0649df76-5034-4884-8d26-16af190048f6",
   "metadata": {},
   "outputs": [
    {
     "name": "stdout",
     "output_type": "stream",
     "text": [
      "\n",
      "Modified original array:\n",
      "[[99  2  3]\n",
      " [ 4  5  6]]\n",
      "\n",
      "Modified array view:\n",
      "[[99  2  3]\n",
      " [ 4  5  6]]\n"
     ]
    }
   ],
   "source": [
    "# Modify the original array\n",
    "original_array[0, 0] = 99\n",
    "\n",
    "print(\"\\nModified original array:\")\n",
    "print(original_array)\n",
    "\n",
    "print(\"\\nModified array view:\")\n",
    "print(array_view)\n"
   ]
  },
  {
   "cell_type": "markdown",
   "id": "c28dcc61-5a36-4c1c-ad7a-d2314e8d6063",
   "metadata": {},
   "source": [
    "## 18. Write a function that takes two NumPy arrays and concatenates them along a specified axis."
   ]
  },
  {
   "cell_type": "code",
   "execution_count": 29,
   "id": "cb8cc817-a916-4ea6-b583-01b3968aa001",
   "metadata": {},
   "outputs": [
    {
     "name": "stdout",
     "output_type": "stream",
     "text": [
      "[[ 1  2  3]\n",
      " [ 4  5  6]\n",
      " [ 7  8  9]\n",
      " [10 11 12]]\n"
     ]
    }
   ],
   "source": [
    "import numpy as np\n",
    "\n",
    "def concatenate_arrays(arr1, arr2, axis):\n",
    "    return np.concatenate((arr1, arr2), axis=axis)\n",
    "\n",
    "# Example usage\n",
    "arr1 = np.array([[1, 2, 3], [4, 5, 6]])\n",
    "arr2 = np.array([[7, 8, 9], [10, 11, 12]])\n",
    "concatenated_array = concatenate_arrays(arr1, arr2, axis=0)\n",
    "print(concatenated_array)\n"
   ]
  },
  {
   "cell_type": "markdown",
   "id": "558959dd-8c1d-4365-b857-5c8ed556db29",
   "metadata": {},
   "source": [
    "## 19.Create two NumPy arrays with different shapes and concatenate them horizontally using `numpy.concatenate`."
   ]
  },
  {
   "cell_type": "code",
   "execution_count": 30,
   "id": "58823bae-063b-4e23-ae05-a14eb202469d",
   "metadata": {},
   "outputs": [
    {
     "name": "stdout",
     "output_type": "stream",
     "text": [
      "[[ 1  2  3  7  8  9]\n",
      " [ 4  5  6 10 11 12]]\n"
     ]
    }
   ],
   "source": [
    "import numpy as np\n",
    "\n",
    "arr1 = np.array([[1, 2, 3], [4, 5, 6]])\n",
    "arr2 = np.array([[7, 8, 9], [10, 11, 12]])\n",
    "concatenated_array = np.concatenate((arr1, arr2), axis=1)\n",
    "print(concatenated_array)\n"
   ]
  },
  {
   "cell_type": "markdown",
   "id": "2e2c0ad4-de3a-4b72-b758-0aedbef28409",
   "metadata": {},
   "source": [
    "## 20. Write a function that vertically stacks multiple NumPy arrays given as a list."
   ]
  },
  {
   "cell_type": "code",
   "execution_count": 31,
   "id": "5378004f-92b3-4935-a641-8b55a3ff5c17",
   "metadata": {},
   "outputs": [
    {
     "name": "stdout",
     "output_type": "stream",
     "text": [
      "[[1 2 3]\n",
      " [4 5 6]\n",
      " [7 8 9]]\n"
     ]
    }
   ],
   "source": [
    "import numpy as np\n",
    "\n",
    "def vertical_stack(arrays):\n",
    "    return np.vstack(arrays)\n",
    "\n",
    "# Example usage\n",
    "arr1 = np.array([1, 2, 3])\n",
    "arr2 = np.array([4, 5, 6])\n",
    "arr3 = np.array([7, 8, 9])\n",
    "stacked_array = vertical_stack([arr1, arr2, arr3])\n",
    "print(stacked_array)\n"
   ]
  },
  {
   "cell_type": "markdown",
   "id": "b889a65d-b849-43b7-8fbc-3391ad89e5f0",
   "metadata": {},
   "source": [
    "## 21. Write a Python function using NumPy to create an array of integers within a specified range (inclusive) with a given step size."
   ]
  },
  {
   "cell_type": "code",
   "execution_count": 32,
   "id": "039f2125-e15e-416d-9d1d-d9bb6e7a061d",
   "metadata": {},
   "outputs": [
    {
     "name": "stdout",
     "output_type": "stream",
     "text": [
      "[1 3 5 7 9]\n"
     ]
    }
   ],
   "source": [
    "import numpy as np\n",
    "\n",
    "def range_array(start, stop, step):\n",
    "    return np.arange(start, stop + 1, step)\n",
    "\n",
    "# Example usage\n",
    "range_arr = range_array(1, 10, 2)\n",
    "print(range_arr)\n"
   ]
  },
  {
   "cell_type": "markdown",
   "id": "27468275-924d-4cbe-a8d4-283562ad7b14",
   "metadata": {},
   "source": [
    "## 22. Write a Python function using NumPy to generate an array of 10 equally spaced values between 0 and 1 (inclusive)."
   ]
  },
  {
   "cell_type": "code",
   "execution_count": 33,
   "id": "f7e21861-798f-43d7-a750-576c7405a087",
   "metadata": {},
   "outputs": [
    {
     "name": "stdout",
     "output_type": "stream",
     "text": [
      "[0.         0.11111111 0.22222222 0.33333333 0.44444444 0.55555556\n",
      " 0.66666667 0.77777778 0.88888889 1.        ]\n"
     ]
    }
   ],
   "source": [
    "import numpy as np\n",
    "\n",
    "def generate_linear_space():\n",
    "    return np.linspace(0, 1, 10)\n",
    "\n",
    "# Example usage\n",
    "linear_space_array = generate_linear_space()\n",
    "print(linear_space_array)\n"
   ]
  },
  {
   "cell_type": "markdown",
   "id": "09ccb605-d62f-4933-b964-d967635e1d2a",
   "metadata": {},
   "source": [
    "## 23. Write a Python function using NumPy to create an array of 5 logarithmically spaced values between 1 and 1000 (inclusive)."
   ]
  },
  {
   "cell_type": "code",
   "execution_count": 34,
   "id": "51916de8-8338-4194-a72f-8c1ef693d4a4",
   "metadata": {},
   "outputs": [
    {
     "name": "stdout",
     "output_type": "stream",
     "text": [
      "[   1.            5.62341325   31.6227766   177.827941   1000.        ]\n"
     ]
    }
   ],
   "source": [
    "import numpy as np\n",
    "\n",
    "def log_space_array():\n",
    "    return np.logspace(0, 3, 5)\n",
    "\n",
    "# Example usage\n",
    "log_space_arr = log_space_array()\n",
    "print(log_space_arr)\n"
   ]
  },
  {
   "cell_type": "markdown",
   "id": "b55cb5ac-9573-480f-95fc-3d111c382547",
   "metadata": {},
   "source": [
    "## 24. Create a Pandas DataFrame using a NumPy array that contains 5 rows and 3 columns, where the values are random integers between 1 and 100."
   ]
  },
  {
   "cell_type": "code",
   "execution_count": 35,
   "id": "7ca234ad-2b37-48ab-a5c8-3792b4afb177",
   "metadata": {},
   "outputs": [
    {
     "name": "stdout",
     "output_type": "stream",
     "text": [
      "   Column1  Column2  Column3\n",
      "0       91       56       40\n",
      "1       78       47       97\n",
      "2       48       70       93\n",
      "3       47       12       95\n",
      "4       31       65       66\n"
     ]
    }
   ],
   "source": [
    "import pandas as pd\n",
    "import numpy as np\n",
    "\n",
    "# Create a NumPy array with random integers\n",
    "array = np.random.randint(1, 101, size=(5, 3))\n",
    "\n",
    "# Create a Pandas DataFrame\n",
    "df = pd.DataFrame(array, columns=['Column1', 'Column2', 'Column3'])\n",
    "print(df)\n"
   ]
  },
  {
   "cell_type": "markdown",
   "id": "3f44b10c-d770-4a35-b2b4-cb6783b02e0d",
   "metadata": {},
   "source": [
    "## 25. Write a function that takes a Pandas DataFrame and replaces all negative values in a specific column with zeros. Use NumPy operations within the Pandas DataFrame."
   ]
  },
  {
   "cell_type": "code",
   "execution_count": 36,
   "id": "7bfb6fce-e3e8-4c10-9a3d-7c1e193f78bd",
   "metadata": {},
   "outputs": [
    {
     "name": "stdout",
     "output_type": "stream",
     "text": [
      "   A   B\n",
      "0  1 -10\n",
      "1  0  20\n",
      "2  3 -30\n",
      "3  0  40\n",
      "4  5  50\n"
     ]
    }
   ],
   "source": [
    "import pandas as pd\n",
    "import numpy as np\n",
    "\n",
    "def replace_negatives(df, column_name):\n",
    "    df[column_name] = np.where(df[column_name] < 0, 0, df[column_name])\n",
    "    return df\n",
    "\n",
    "# Example usage\n",
    "data = {'A': [1, -2, 3, -4, 5], 'B': [-10, 20, -30, 40, 50]}\n",
    "df = pd.DataFrame(data)\n",
    "df = replace_negatives(df, 'A')\n",
    "print(df)\n"
   ]
  },
  {
   "cell_type": "markdown",
   "id": "ec4760f6-f87f-49f1-acf9-89432294ee48",
   "metadata": {},
   "source": [
    "## 26.Access the 3rd element from the given NumPy array.\n",
    "####  arr = np.array([10, 20, 30, 40, 50])"
   ]
  },
  {
   "cell_type": "code",
   "execution_count": 37,
   "id": "8a67ef2f-1397-4699-8e18-8c9674e93db9",
   "metadata": {},
   "outputs": [
    {
     "name": "stdout",
     "output_type": "stream",
     "text": [
      "The 3rd element is: 30\n"
     ]
    }
   ],
   "source": [
    "import numpy as np\n",
    "\n",
    "arr = np.array([10, 20, 30, 40, 50])\n",
    "\n",
    "# Access the 3rd element (index 2 since indexing starts from 0)\n",
    "third_element = arr[2]\n",
    "\n",
    "print(\"The 3rd element is:\", third_element)\n"
   ]
  },
  {
   "cell_type": "markdown",
   "id": "0463a392-40bf-4d23-b752-c336c60861de",
   "metadata": {},
   "source": [
    "## 27.Retrieve the element at index (1, 2) from the 2D NumPy array.\n",
    "   arr_2d = np.array([[1, 2, 3], ",
    "\n",
    "                  [4, 5, 6], ",
    "\n",
    "                  [7, 8, 9]])"
   ]
  },
  {
   "cell_type": "code",
   "execution_count": 38,
   "id": "721faaa5-c418-41e7-8d7d-a5064e5c1201",
   "metadata": {},
   "outputs": [
    {
     "name": "stdout",
     "output_type": "stream",
     "text": [
      "The element at index (1, 2) is: 6\n"
     ]
    }
   ],
   "source": [
    "import numpy as np\n",
    "\n",
    "arr_2d = np.array([[1, 2, 3],\n",
    "                   [4, 5, 6],\n",
    "                   [7, 8, 9]])\n",
    "\n",
    "# Access the element at index (1, 2)\n",
    "element = arr_2d[1, 2]\n",
    "\n",
    "print(\"The element at index (1, 2) is:\", element)\n"
   ]
  },
  {
   "cell_type": "markdown",
   "id": "d4249a2c-0df1-44d8-bd31-7f5f6fdaa497",
   "metadata": {},
   "source": [
    "## 28. Using boolean indexing, extract elements greater than 5 from the given NumPy array.\n",
    "\n",
    "#### arr = np.array([3, 8, 2, 10, 5, 7])"
   ]
  },
  {
   "cell_type": "code",
   "execution_count": 39,
   "id": "145f43a0-5a94-43d9-8b1a-45db8b78699c",
   "metadata": {},
   "outputs": [
    {
     "name": "stdout",
     "output_type": "stream",
     "text": [
      "Elements greater than 5: [ 8 10  7]\n"
     ]
    }
   ],
   "source": [
    "import numpy as np\n",
    "\n",
    "arr = np.array([3, 8, 2, 10, 5, 7])\n",
    "\n",
    "# Extract elements greater than 5 using boolean indexing\n",
    "elements_greater_than_5 = arr[arr > 5]\n",
    "\n",
    "print(\"Elements greater than 5:\", elements_greater_than_5)\n"
   ]
  },
  {
   "cell_type": "markdown",
   "id": "6e47d99e-3a17-413c-ace9-327d2732e4b9",
   "metadata": {},
   "source": [
    "## 29. Perform basic slicing to extract elements from index 2 to 5 (inclusive) from the given NumPy array.\n",
    "\n",
    "#### arr = np.array([1, 2, 3, 4, 5, 6, 7, 8, 9])\n"
   ]
  },
  {
   "cell_type": "code",
   "execution_count": 40,
   "id": "9c334de5-be05-426b-8d0c-25d5fcfe474f",
   "metadata": {},
   "outputs": [
    {
     "name": "stdout",
     "output_type": "stream",
     "text": [
      "Elements from index 2 to 5: [3 4 5 6]\n"
     ]
    }
   ],
   "source": [
    "import numpy as np\n",
    "\n",
    "arr = np.array([1, 2, 3, 4, 5, 6, 7, 8, 9])\n",
    "\n",
    "# Extract elements from index 2 to 5 (inclusive)\n",
    "sliced_elements = arr[2:6]  # Slicing stops at index 6, which is exclusive\n",
    "\n",
    "print(\"Elements from index 2 to 5:\", sliced_elements)\n"
   ]
  },
  {
   "cell_type": "markdown",
   "id": "ecc9fe4b-8623-487c-bc54-c09b229fd1f6",
   "metadata": {},
   "source": [
    "## 30.Slice the 2D NumPy array to extract the sub-array `[[2, 3], [5, 6]]` from the given array\n",
    "      arr_2d = np.array([[1, 2, 3], ",
    "\n",
    "                   [4, 5, 6], ",
    "\n",
    "                   [7, 8, 9]])\n"
   ]
  },
  {
   "cell_type": "code",
   "execution_count": 41,
   "id": "5f78f34c-f6c5-4a2f-b006-ef447bd211f1",
   "metadata": {},
   "outputs": [
    {
     "name": "stdout",
     "output_type": "stream",
     "text": [
      "Extracted sub-array:\n",
      "[[2 3]\n",
      " [5 6]]\n"
     ]
    }
   ],
   "source": [
    "import numpy as np\n",
    "\n",
    "arr_2d = np.array([[1, 2, 3],\n",
    "                   [4, 5, 6],\n",
    "                   [7, 8, 9]])\n",
    "\n",
    "# Slice to extract the sub-array [[2, 3], [5, 6]]\n",
    "sub_array = arr_2d[0:2, 1:3]\n",
    "\n",
    "print(\"Extracted sub-array:\")\n",
    "print(sub_array)\n"
   ]
  },
  {
   "cell_type": "markdown",
   "id": "4b50c95b-e413-4539-bc39-8a2244a79369",
   "metadata": {},
   "source": [
    "## 31. Write a NumPy function to extract elements in specific order from a given 2D array based on indices provided in another array. "
   ]
  },
  {
   "cell_type": "code",
   "execution_count": 42,
   "id": "8c1e8038-145c-4d4a-8b45-d602b11ec8ef",
   "metadata": {},
   "outputs": [
    {
     "name": "stdout",
     "output_type": "stream",
     "text": [
      "[2 6 7]\n"
     ]
    }
   ],
   "source": [
    "import numpy as np\n",
    "\n",
    "def extract_elements(arr, row_indices, col_indices):\n",
    "    return arr[row_indices, col_indices]\n",
    "\n",
    "# Example usage\n",
    "arr = np.array([[1, 2, 3], [4, 5, 6], [7, 8, 9]])\n",
    "row_indices = np.array([0, 1, 2])\n",
    "col_indices = np.array([1, 2, 0])\n",
    "extracted_elements = extract_elements(arr, row_indices, col_indices)\n",
    "print(extracted_elements)  # Output: [2, 6, 7]\n"
   ]
  },
  {
   "cell_type": "markdown",
   "id": "c1bf572c-a57b-4466-85ad-b35dbd2f0932",
   "metadata": {},
   "source": [
    "## 32. Create a NumPy function that filters elements greater than a threshold from a given 1D array using boolean indexing."
   ]
  },
  {
   "cell_type": "code",
   "execution_count": 43,
   "id": "a22e2230-8917-4d8f-a34a-a8a282781c09",
   "metadata": {},
   "outputs": [
    {
     "name": "stdout",
     "output_type": "stream",
     "text": [
      "[5 8 7]\n"
     ]
    }
   ],
   "source": [
    "import numpy as np\n",
    "\n",
    "def filter_greater_than(arr, threshold):\n",
    "    return arr[arr > threshold]\n",
    "\n",
    "# Example usage\n",
    "arr = np.array([1, 5, 8, 3, 7])\n",
    "filtered_arr = filter_greater_than(arr, 4)\n",
    "print(filtered_arr)  # Output: [5, 8, 7]\n"
   ]
  },
  {
   "cell_type": "markdown",
   "id": "351ae0eb-18e1-416d-8541-e7f3a2628650",
   "metadata": {},
   "source": [
    "## 33. Develop a NumPy function that extracts specific elements from a 3D array using indices provided in threeseparate arrays for each dimension."
   ]
  },
  {
   "cell_type": "code",
   "execution_count": 44,
   "id": "387b8798-5eb1-4bce-b5b2-84c2b865f27f",
   "metadata": {},
   "outputs": [
    {
     "name": "stdout",
     "output_type": "stream",
     "text": [
      "[ 5 10 24]\n"
     ]
    }
   ],
   "source": [
    "import numpy as np\n",
    "\n",
    "def extract_3d_elements(arr, idx1, idx2, idx3):\n",
    "    return arr[idx1, idx2, idx3]\n",
    "\n",
    "# Example usage\n",
    "arr = np.arange(27).reshape(3, 3, 3)\n",
    "idx1 = np.array([0, 1, 2])\n",
    "idx2 = np.array([1, 0, 2])\n",
    "idx3 = np.array([2, 1, 0])\n",
    "extracted_elements = extract_3d_elements(arr, idx1, idx2, idx3)\n",
    "print(extracted_elements)  # Output: [ 5,  9, 18]\n"
   ]
  },
  {
   "cell_type": "markdown",
   "id": "31cbdacc-c44d-42a1-9772-639e47beeff8",
   "metadata": {},
   "source": [
    "## 34. Write a NumPy function that returns elements from an array where both two conditions are satisfied using boolean indexing."
   ]
  },
  {
   "cell_type": "code",
   "execution_count": 45,
   "id": "d1945c78-4534-4d20-884f-3f324b90f545",
   "metadata": {},
   "outputs": [
    {
     "name": "stdout",
     "output_type": "stream",
     "text": [
      "[5 7]\n"
     ]
    }
   ],
   "source": [
    "import numpy as np\n",
    "\n",
    "def elements_with_conditions(arr):\n",
    "    return arr[(arr > 3) & (arr < 8)]\n",
    "\n",
    "# Example usage\n",
    "arr = np.array([1, 3, 5, 7, 9])\n",
    "filtered_arr = elements_with_conditions(arr)\n",
    "print(filtered_arr)  # Output: [5, 7]\n"
   ]
  },
  {
   "cell_type": "markdown",
   "id": "d8f3f827-fb40-4fe2-9e6c-c7edf5d5884c",
   "metadata": {},
   "source": [
    "## 35. Create a NumPy function that extracts elements from a 2D array using row and column indices provided in separate arrays."
   ]
  },
  {
   "cell_type": "code",
   "execution_count": 46,
   "id": "481834f7-439d-4274-ab2b-e3779acf7e51",
   "metadata": {},
   "outputs": [
    {
     "name": "stdout",
     "output_type": "stream",
     "text": [
      "[3 5]\n"
     ]
    }
   ],
   "source": [
    "import numpy as np\n",
    "\n",
    "def extract_with_row_col_indices(arr, row_indices, col_indices):\n",
    "    return arr[row_indices, col_indices]\n",
    "\n",
    "# Example usage\n",
    "arr = np.array([[1, 2, 3], [4, 5, 6], [7, 8, 9]])\n",
    "row_indices = np.array([0, 1])\n",
    "col_indices = np.array([2, 1])\n",
    "extracted_elements = extract_with_row_col_indices(arr, row_indices, col_indices)\n",
    "print(extracted_elements)  # Output: [3, 5]\n"
   ]
  },
  {
   "cell_type": "markdown",
   "id": "14aafb3c-1f52-48fa-8d9a-c04610b8467f",
   "metadata": {},
   "source": [
    "## 36. Given an array arr of shape (3, 3), add a scalar value of 5 to each element using NumPy broadcasting."
   ]
  },
  {
   "cell_type": "code",
   "execution_count": 47,
   "id": "6b6ed9cc-fd05-44a1-ac47-2f8ae36d13a1",
   "metadata": {},
   "outputs": [
    {
     "name": "stdout",
     "output_type": "stream",
     "text": [
      "[[ 6  7  8]\n",
      " [ 9 10 11]\n",
      " [12 13 14]]\n"
     ]
    }
   ],
   "source": [
    "import numpy as np\n",
    "\n",
    "arr = np.array([[1, 2, 3], [4, 5, 6], [7, 8, 9]])\n",
    "result = arr + 5\n",
    "print(result)\n",
    "# Output:\n",
    "# [[ 6  7  8]\n",
    "#  [ 9 10 11]\n",
    "#  [12 13 14]]\n"
   ]
  },
  {
   "cell_type": "markdown",
   "id": "312989f0-af7e-4a21-acd0-889bebefaeb4",
   "metadata": {},
   "source": [
    "## 37. Consider two arrays arr1 of shape (1, 3) and arr2 of shape (3, 4). Multiply each row of arr2 by the corresponding element in arr1 using NumPy broadcasting."
   ]
  },
  {
   "cell_type": "code",
   "execution_count": 48,
   "id": "f32849ff-e32f-49c1-ab46-e40096e50ccd",
   "metadata": {},
   "outputs": [
    {
     "name": "stdout",
     "output_type": "stream",
     "text": [
      "[[ 2  4  6  8]\n",
      " [15 18 21 24]\n",
      " [36 40 44 48]]\n"
     ]
    }
   ],
   "source": [
    "import numpy as np\n",
    "\n",
    "arr1 = np.array([[2, 3, 4]])  # Shape (1, 3)\n",
    "arr2 = np.array([[1, 2, 3, 4], [5, 6, 7, 8], [9, 10, 11, 12]])  # Shape (3, 4)\n",
    "result = arr1.T * arr2\n",
    "print(result)\n",
    "# Output:\n",
    "# [[ 2  4  6  8]\n",
    "#  [15 18 21 24]\n",
    "#  [36 40 44 48]]\n"
   ]
  },
  {
   "cell_type": "markdown",
   "id": "21442e3f-a754-4396-9dae-8ba5e898e9ac",
   "metadata": {},
   "source": [
    "## 38. Given a 1D array arr1 of shape (1, 4) and a 2D array arr2 of shape (4, 3), add arr1 to each row of arr2 using NumPy broadcasting."
   ]
  },
  {
   "cell_type": "code",
   "execution_count": 49,
   "id": "fcd04935-db71-49e4-9745-6662721bb3f6",
   "metadata": {},
   "outputs": [
    {
     "name": "stdout",
     "output_type": "stream",
     "text": [
      "[[ 6 10 14 18]\n",
      " [ 7 11 15 19]\n",
      " [ 8 12 16 20]]\n"
     ]
    }
   ],
   "source": [
    "import numpy as np\n",
    "\n",
    "arr1 = np.array([[1, 2, 3, 4]])  # Shape (1, 4)\n",
    "arr2 = np.array([[5, 6, 7], [8, 9, 10], [11, 12, 13], [14, 15, 16]])  # Shape (4, 3)\n",
    "result = arr1 + arr2.T\n",
    "print(result)\n",
    "# Output:\n",
    "# [[ 6 10 14]\n",
    "#  [ 7 11 15]\n",
    "#  [ 8 12 16]\n",
    "#  [ 9 13 17]]\n"
   ]
  },
  {
   "cell_type": "markdown",
   "id": "a5fccef0-3812-4014-87f5-3b734dd412f3",
   "metadata": {},
   "source": [
    "## 39. Consider two arrays arr1 of shape (3, 1) and arr2 of shape (1, 3). Add these arrays using NumPy broadcasting."
   ]
  },
  {
   "cell_type": "code",
   "execution_count": 50,
   "id": "bc968889-8d99-46ca-af3f-ec79a53c2cd4",
   "metadata": {},
   "outputs": [
    {
     "name": "stdout",
     "output_type": "stream",
     "text": [
      "[[5 6 7]\n",
      " [6 7 8]\n",
      " [7 8 9]]\n"
     ]
    }
   ],
   "source": [
    "import numpy as np\n",
    "\n",
    "arr1 = np.array([[1], [2], [3]])  # Shape (3, 1)\n",
    "arr2 = np.array([[4, 5, 6]])      # Shape (1, 3)\n",
    "result = arr1 + arr2\n",
    "print(result)\n",
    "# Output:\n",
    "# [[5 6 7]\n",
    "#  [6 7 8]\n",
    "#  [7 8 9]]\n"
   ]
  },
  {
   "cell_type": "markdown",
   "id": "68ad8295-2e6e-42de-a888-312c06f7d9b7",
   "metadata": {},
   "source": [
    "## 40. Given arrays arr1 of shape (2, 3) and arr2 of shape (2, 2), perform multiplication using NumPy broadcasting. Handle the shape incompatibility"
   ]
  },
  {
   "cell_type": "code",
   "execution_count": 51,
   "id": "9e8f92f5-9257-428d-8c85-9e3f86e7cbf6",
   "metadata": {},
   "outputs": [
    {
     "name": "stdout",
     "output_type": "stream",
     "text": [
      "[[ 1  4]\n",
      " [12 20]]\n"
     ]
    }
   ],
   "source": [
    "import numpy as np\n",
    "\n",
    "arr1 = np.array([[1, 2, 3], [4, 5, 6]])  # Shape (2, 3)\n",
    "arr2 = np.array([[1, 2], [3, 4]])        # Shape (2, 2)\n",
    "\n",
    "# To multiply these arrays, we need to adjust the shape\n",
    "# Broadcast arr1 by adding extra dimensions to match arr2 if logical\n",
    "try:\n",
    "    result = arr1[:, :arr2.shape[1]] * arr2  # Broadcasting after slicing\n",
    "    print(result)\n",
    "except ValueError as e:\n",
    "    print(\"Error:\", e)\n",
    "# Output: Cannot broadcast due to shape incompatibility\n"
   ]
  },
  {
   "cell_type": "markdown",
   "id": "f435a917-1452-4e38-aac1-29bab668163e",
   "metadata": {},
   "source": [
    "## 41. Calculate column wise mean for the given array:\n",
    "   ## arr = np.array([[1, 2, 3], [4, 5, 6]]) "
   ]
  },
  {
   "cell_type": "code",
   "execution_count": 52,
   "id": "df40c9d5-c31e-481c-a1ed-ab50ccacebb0",
   "metadata": {},
   "outputs": [
    {
     "name": "stdout",
     "output_type": "stream",
     "text": [
      "Column-wise mean: [2.5 3.5 4.5]\n"
     ]
    }
   ],
   "source": [
    "import numpy as np\n",
    "\n",
    "arr = np.array([[1, 2, 3], \n",
    "                [4, 5, 6]])\n",
    "\n",
    "# Calculate the column-wise mean\n",
    "column_mean = np.mean(arr, axis=0)\n",
    "\n",
    "print(\"Column-wise mean:\", column_mean)\n"
   ]
  },
  {
   "cell_type": "markdown",
   "id": "c6015680-a63e-4508-aaf2-599c6717e4a6",
   "metadata": {},
   "source": [
    "## 42.  Find maximum value in each row of the given array:\n",
    " ## arr = np.array([[1, 2, 3], [4, 5, 6]])"
   ]
  },
  {
   "cell_type": "code",
   "execution_count": 53,
   "id": "d2a3dc1b-5c2f-4842-b133-1577d9566013",
   "metadata": {},
   "outputs": [
    {
     "name": "stdout",
     "output_type": "stream",
     "text": [
      "Maximum values in each row: [3 6]\n"
     ]
    }
   ],
   "source": [
    "import numpy as np\n",
    "\n",
    "arr = np.array([[1, 2, 3], \n",
    "                [4, 5, 6]])\n",
    "\n",
    "# Find the maximum value in each row\n",
    "row_max = np.max(arr, axis=1)\n",
    "\n",
    "print(\"Maximum values in each row:\", row_max)\n"
   ]
  },
  {
   "cell_type": "markdown",
   "id": "0da37393-374b-4f7b-b170-3e49cbebf55b",
   "metadata": {},
   "source": [
    "## 43. For the given array, find indices of maximum value in each column.\n",
    "##arr = np.array([[1, 2, 3], [4, 5, 6]])"
   ]
  },
  {
   "cell_type": "code",
   "execution_count": 54,
   "id": "5375fb22-9dcd-4229-97c5-368ba1008d74",
   "metadata": {},
   "outputs": [
    {
     "name": "stdout",
     "output_type": "stream",
     "text": [
      "Indices of maximum values in each column: [1 1 1]\n"
     ]
    }
   ],
   "source": [
    "import numpy as np\n",
    "\n",
    "arr = np.array([[1, 2, 3], \n",
    "                [4, 5, 6]])\n",
    "\n",
    "# Find the indices of the maximum value in each column\n",
    "column_max_indices = np.argmax(arr, axis=0)\n",
    "\n",
    "print(\"Indices of maximum values in each column:\", column_max_indices)\n"
   ]
  },
  {
   "cell_type": "markdown",
   "id": "d6630938-9ae0-40bf-9e7e-9342191337e6",
   "metadata": {},
   "source": [
    "## 44. For the given array, apply custom function to calculate moving sum along rows\n",
    "\n",
    "## arr = np.array([[1, 2, 3], [4, 5, 6]])"
   ]
  },
  {
   "cell_type": "code",
   "execution_count": 1,
   "id": "593dd8c9-d0fc-4445-9a53-c27872b95f23",
   "metadata": {},
   "outputs": [
    {
     "name": "stdout",
     "output_type": "stream",
     "text": [
      "[[ 3  5  0]\n",
      " [ 9 11  0]]\n"
     ]
    }
   ],
   "source": [
    "import numpy as np\n",
    "\n",
    "# Define the array\n",
    "arr = np.array([[1, 2, 3], [4, 5, 6]])\n",
    "\n",
    "# Define the custom function to calculate moving sum\n",
    "def moving_sum(arr, window_size):\n",
    "    # Initialize an empty array to store the moving sums\n",
    "    result = np.zeros_like(arr)\n",
    "\n",
    "    # Loop through each row\n",
    "    for i in range(arr.shape[0]):\n",
    "        # Loop through each element in the row, applying the moving sum\n",
    "        for j in range(arr.shape[1] - window_size + 1):\n",
    "            result[i, j] = np.sum(arr[i, j:j + window_size])\n",
    "    \n",
    "    return result\n",
    "\n",
    "# Apply the custom function with window size 2\n",
    "moving_sum_result = moving_sum(arr, window_size=2)\n",
    "print(moving_sum_result)\n"
   ]
  },
  {
   "cell_type": "markdown",
   "id": "1a0c61b1-9bd8-42e9-b6ad-e3f6de579fa6",
   "metadata": {},
   "source": [
    "## 45. In the given array, check if all elements in each column are even.\n",
    "\n",
    "##  arr = np.array([[2, 4, 6], [3, 5, 7]])"
   ]
  },
  {
   "cell_type": "code",
   "execution_count": 2,
   "id": "5ce1ee3d-b60e-4d9a-964b-c5f90d7fa644",
   "metadata": {},
   "outputs": [
    {
     "name": "stdout",
     "output_type": "stream",
     "text": [
      "[False False False]\n"
     ]
    }
   ],
   "source": [
    "import numpy as np\n",
    "\n",
    "arr = np.array([[2, 4, 6], [3, 5, 7]])\n",
    "result = np.all(arr % 2 == 0, axis=0)\n",
    "print(result)\n"
   ]
  },
  {
   "cell_type": "markdown",
   "id": "8528910e-e8c7-4063-bfa6-2060641bf33e",
   "metadata": {},
   "source": [
    "## 46. Given a NumPy array arr, reshape it into a matrix of dimensions `m` rows and `n` columns. Return the reshaped matrix.\n",
    "## original_array = np.array([1, 2, 3, 4, 5, 6])"
   ]
  },
  {
   "cell_type": "code",
   "execution_count": 3,
   "id": "47152bec-7c6e-4121-8a7e-730a8fd517d4",
   "metadata": {},
   "outputs": [
    {
     "name": "stdout",
     "output_type": "stream",
     "text": [
      "[[1 2 3]\n",
      " [4 5 6]]\n"
     ]
    }
   ],
   "source": [
    "import numpy as np\n",
    "\n",
    "original_array = np.array([1, 2, 3, 4, 5, 6])\n",
    "m, n = 2, 3\n",
    "reshaped_array = original_array.reshape(m, n)\n",
    "print(reshaped_array)\n"
   ]
  },
  {
   "cell_type": "markdown",
   "id": "746ee386-5f56-41fd-abea-b9b3a8698c73",
   "metadata": {},
   "source": [
    "## 47. Create a function that takes a matrix as input and returns the flattened array.\n",
    "\n",
    "## input_matrix = np.array([[1, 2, 3], [4, 5, 6]])"
   ]
  },
  {
   "cell_type": "code",
   "execution_count": 4,
   "id": "7f922793-875a-4735-bf62-6823d2bd647f",
   "metadata": {},
   "outputs": [
    {
     "name": "stdout",
     "output_type": "stream",
     "text": [
      "[1 2 3 4 5 6]\n"
     ]
    }
   ],
   "source": [
    "import numpy as np\n",
    "\n",
    "def flatten_matrix(matrix):\n",
    "    return matrix.flatten()\n",
    "\n",
    "input_matrix = np.array([[1, 2, 3], [4, 5, 6]])\n",
    "flattened_array = flatten_matrix(input_matrix)\n",
    "print(flattened_array)\n"
   ]
  },
  {
   "cell_type": "markdown",
   "id": "0f4f153f-d227-4c9a-aeaa-4a99fb0ac235",
   "metadata": {},
   "source": [
    "## 48. Write a function that concatenates two given arrays along a specified axis\n",
    "## array1 = np.array([[1, 2], [3, 4]])\n",
    "##  array2 = np.array([[5, 6], [7, 8]])"
   ]
  },
  {
   "cell_type": "code",
   "execution_count": 5,
   "id": "12cc58f3-9cf8-4299-8042-98761b3c10ba",
   "metadata": {},
   "outputs": [
    {
     "name": "stdout",
     "output_type": "stream",
     "text": [
      "[[1 2]\n",
      " [3 4]\n",
      " [5 6]\n",
      " [7 8]]\n"
     ]
    }
   ],
   "source": [
    "import numpy as np\n",
    "\n",
    "def concatenate_arrays(arr1, arr2, axis):\n",
    "    return np.concatenate((arr1, arr2), axis=axis)\n",
    "\n",
    "array1 = np.array([[1, 2], [3, 4]])\n",
    "array2 = np.array([[5, 6], [7, 8]])\n",
    "concatenated_array = concatenate_arrays(array1, array2, axis=0)\n",
    "print(concatenated_array)\n"
   ]
  },
  {
   "cell_type": "markdown",
   "id": "a30df612-814a-4f6c-80cc-1109d6597dc6",
   "metadata": {},
   "source": [
    "## 49. Create a function that splits an array into multiple sub-arrays along a specified axis.\n",
    "original_array = np.array([[1, 2, 3], [4, 5, 6], [7, 8, 9]])"
   ]
  },
  {
   "cell_type": "code",
   "execution_count": 6,
   "id": "cdeffcc6-fb6e-4744-ac36-c015e4c74fd8",
   "metadata": {},
   "outputs": [
    {
     "name": "stdout",
     "output_type": "stream",
     "text": [
      "[array([[1, 2, 3]]), array([[4, 5, 6]]), array([[7, 8, 9]])]\n"
     ]
    }
   ],
   "source": [
    "import numpy as np\n",
    "\n",
    "def split_array(arr, sections, axis):\n",
    "    return np.array_split(arr, sections, axis=axis)\n",
    "\n",
    "original_array = np.array([[1, 2, 3], [4, 5, 6], [7, 8, 9]])\n",
    "split_arrays = split_array(original_array, 3, axis=0)\n",
    "print(split_arrays)\n"
   ]
  },
  {
   "cell_type": "markdown",
   "id": "f8147699-3ab3-43a6-9071-26667d71e0ec",
   "metadata": {},
   "source": [
    "## 50. Write a function that inserts and then deletes elements from a given array at specified indices.\n",
    "\n",
    "original_array = np.array([1, 2, 3, 4, 5]) ",
    "\n",
    "indices_to_insert = [2, 4] ",
    "\n",
    "values_to_insert = [10, 11] ",
    "\n",
    "indices_to_delete = [1, 3]"
   ]
  },
  {
   "cell_type": "code",
   "execution_count": 7,
   "id": "5a067db9-c788-47f7-bdff-c158a8f4ac43",
   "metadata": {},
   "outputs": [
    {
     "name": "stdout",
     "output_type": "stream",
     "text": [
      "[ 1 10  4 11  5]\n"
     ]
    }
   ],
   "source": [
    "import numpy as np\n",
    "\n",
    "def insert_and_delete(arr, indices_to_insert, values_to_insert, indices_to_delete):\n",
    "    arr = np.insert(arr, indices_to_insert, values_to_insert)\n",
    "    arr = np.delete(arr, indices_to_delete)\n",
    "    return arr\n",
    "\n",
    "original_array = np.array([1, 2, 3, 4, 5])\n",
    "indices_to_insert = [2, 4]\n",
    "values_to_insert = [10, 11]\n",
    "indices_to_delete = [1, 3]\n",
    "\n",
    "result_array = insert_and_delete(original_array, indices_to_insert, values_to_insert, indices_to_delete)\n",
    "print(result_array)\n"
   ]
  },
  {
   "cell_type": "markdown",
   "id": "6480b984-848f-4f96-b4e8-0eca26c04a6e",
   "metadata": {},
   "source": [
    "## 51. Create a NumPy array arr1 with random integers and another array arr2 with integers from 1 to 10. Perform element-wise addition between arr1 and arr2."
   ]
  },
  {
   "cell_type": "code",
   "execution_count": 8,
   "id": "26974b94-6a0e-423e-9731-78c3b4d9d294",
   "metadata": {},
   "outputs": [
    {
     "name": "stdout",
     "output_type": "stream",
     "text": [
      "[ 4  9  6  6 12  7 14 17 11 11]\n"
     ]
    }
   ],
   "source": [
    "import numpy as np\n",
    "\n",
    "arr1 = np.random.randint(1, 10, 10)  # Array with random integers\n",
    "arr2 = np.arange(1, 11)  # Array with integers from 1 to 10\n",
    "\n",
    "result_add = arr1 + arr2\n",
    "print(result_add)\n"
   ]
  },
  {
   "cell_type": "markdown",
   "id": "656a0e1d-bb1c-4d4c-91fa-27fa2c93f63b",
   "metadata": {},
   "source": [
    "## 52. Generate a NumPy array arr1 with sequential integers from 10 to 1 and another array arr2 with integers from 1 to 10. Subtract arr2 from arr1 element-wise."
   ]
  },
  {
   "cell_type": "code",
   "execution_count": 9,
   "id": "b2b06150-df3f-43de-b8e1-66664b8c2c70",
   "metadata": {},
   "outputs": [
    {
     "name": "stdout",
     "output_type": "stream",
     "text": [
      "[ 9  7  5  3  1 -1 -3 -5 -7 -9]\n"
     ]
    }
   ],
   "source": [
    "import numpy as np\n",
    "\n",
    "arr1 = np.arange(10, 0, -1)  # Sequential integers from 10 to 1\n",
    "arr2 = np.arange(1, 11)  # Integers from 1 to 10\n",
    "\n",
    "result_subtract = arr1 - arr2\n",
    "print(result_subtract)\n"
   ]
  },
  {
   "cell_type": "markdown",
   "id": "2c4e5d49-3647-4851-8382-16a4be9aedfe",
   "metadata": {},
   "source": [
    "## 53. Create a NumPy array arr1 with random integers and another array arr2 with integers from 1 to 5. Perform element-wise multiplication between arr1 and arr2.\n"
   ]
  },
  {
   "cell_type": "code",
   "execution_count": 10,
   "id": "e8808590-496d-4465-854e-33706e94c9a5",
   "metadata": {},
   "outputs": [
    {
     "name": "stdout",
     "output_type": "stream",
     "text": [
      "[ 7  4 15 28 45]\n"
     ]
    }
   ],
   "source": [
    "import numpy as np\n",
    "\n",
    "arr1 = np.random.randint(1, 10, 5)  # Array with random integers\n",
    "arr2 = np.arange(1, 6)  # Integers from 1 to 5\n",
    "\n",
    "result_multiply = arr1 * arr2\n",
    "print(result_multiply)\n"
   ]
  },
  {
   "cell_type": "markdown",
   "id": "346921b0-b97d-4cb2-890a-4e76b94fd75c",
   "metadata": {},
   "source": [
    "## 54. Generate a NumPy array arr1 with even integers from 2 to 10 and another array arr2 with integers from 1 to 5. Perform element-wise division of arr1 by arr2."
   ]
  },
  {
   "cell_type": "code",
   "execution_count": 11,
   "id": "6b090364-8f67-43fc-b308-33166682ed79",
   "metadata": {},
   "outputs": [
    {
     "name": "stdout",
     "output_type": "stream",
     "text": [
      "[2. 2. 2. 2. 2.]\n"
     ]
    }
   ],
   "source": [
    "import numpy as np\n",
    "\n",
    "arr1 = np.arange(2, 11, 2)  # Even integers from 2 to 10\n",
    "arr2 = np.arange(1, 6)  # Integers from 1 to 5\n",
    "\n",
    "result_division = arr1 / arr2\n",
    "print(result_division)\n"
   ]
  },
  {
   "cell_type": "markdown",
   "id": "476a12c7-1c43-42b4-8990-79b563810f5d",
   "metadata": {},
   "source": [
    "## 55. Create a NumPy array arr1 with integers from 1 to 5 and another array arr2 with the same numbers reversed. Calculate the exponentiation of arr1 raised to the power of arr2 element-wise."
   ]
  },
  {
   "cell_type": "code",
   "execution_count": 12,
   "id": "d0816b36-fbab-40f7-baed-8c1dab687d8f",
   "metadata": {},
   "outputs": [
    {
     "name": "stdout",
     "output_type": "stream",
     "text": [
      "[ 1 16 27 16  5]\n"
     ]
    }
   ],
   "source": [
    "import numpy as np\n",
    "\n",
    "arr1 = np.arange(1, 6)  # Integers from 1 to 5\n",
    "arr2 = arr1[::-1]  # Reversed array of arr1 (5, 4, 3, 2, 1)\n",
    "\n",
    "result_exponentiation = arr1 ** arr2\n",
    "print(result_exponentiation)\n"
   ]
  },
  {
   "cell_type": "markdown",
   "id": "1fcd34df-ad86-4640-b310-611a282ac4c4",
   "metadata": {},
   "source": [
    "## 56. Write a function that counts the occurrences of a specific substring within a NumPy array of strings.\n",
    "\n",
    "#### arr = np.array(['hello', 'world', 'hello', 'numpy', 'hello'])"
   ]
  },
  {
   "cell_type": "code",
   "execution_count": 13,
   "id": "d3964319-fb72-49bd-b1ee-fe20c0841875",
   "metadata": {},
   "outputs": [
    {
     "name": "stdout",
     "output_type": "stream",
     "text": [
      "3\n"
     ]
    }
   ],
   "source": [
    "import numpy as np\n",
    "\n",
    "def count_substring_occurrences(arr, substring):\n",
    "    return np.char.count(arr, substring).sum()\n",
    "\n",
    "arr = np.array(['hello', 'world', 'hello', 'numpy', 'hello'])\n",
    "substring = 'hello'\n",
    "occurrences = count_substring_occurrences(arr, substring)\n",
    "print(occurrences)\n"
   ]
  },
  {
   "cell_type": "markdown",
   "id": "3f31b3b8-fa48-4518-ada5-f0bfcb8b2087",
   "metadata": {},
   "source": [
    "## 57. Write a function that extracts uppercase characters from a NumPy array of strings. arr = np.array(['Hello', 'World', 'OpenAI', 'GPT'])\n",
    "#### arr = np.array(['Hello', 'World', 'OpenAI', 'GPT'])"
   ]
  },
  {
   "cell_type": "code",
   "execution_count": 15,
   "id": "d31b007e-d4ec-4b9f-802c-963bf3d9293d",
   "metadata": {},
   "outputs": [
    {
     "name": "stdout",
     "output_type": "stream",
     "text": [
      "['H' 'W' 'OAI' 'GPT']\n"
     ]
    }
   ],
   "source": [
    "import numpy as np\n",
    "\n",
    "def extract_uppercase(arr):\n",
    "    return np.array([''.join([char for char in string if char.isupper()]) for string in arr])\n",
    "\n",
    "arr = np.array(['Hello', 'World', 'OpenAI', 'GPT'])\n",
    "uppercase_characters = extract_uppercase(arr)\n",
    "print(uppercase_characters)\n",
    "\n"
   ]
  },
  {
   "cell_type": "markdown",
   "id": "bec372d0-87d3-4192-acc4-235d3e88cf14",
   "metadata": {},
   "source": [
    "## 58. Write a function that replaces occurrences of a substring in a NumPy array of strings with a new string.\n",
    "#### arr = np.array(['apple', 'banana', 'grape', 'pineapple'])"
   ]
  },
  {
   "cell_type": "code",
   "execution_count": 16,
   "id": "b34049a0-ee08-467f-9490-d8fcd851d0bf",
   "metadata": {},
   "outputs": [
    {
     "name": "stdout",
     "output_type": "stream",
     "text": [
      "['orange' 'banana' 'grape' 'pineorange']\n"
     ]
    }
   ],
   "source": [
    "import numpy as np\n",
    "\n",
    "def replace_substring(arr, old_substring, new_substring):\n",
    "    return np.char.replace(arr, old_substring, new_substring)\n",
    "\n",
    "arr = np.array(['apple', 'banana', 'grape', 'pineapple'])\n",
    "old_substring = 'apple'\n",
    "new_substring = 'orange'\n",
    "replaced_array = replace_substring(arr, old_substring, new_substring)\n",
    "print(replaced_array)\n"
   ]
  },
  {
   "cell_type": "markdown",
   "id": "b8e7f15e-79d4-4c8e-8027-920b353737d0",
   "metadata": {},
   "source": [
    "## 59. Write a function that concatenates strings in a NumPy array element-wise.\n",
    "\n",
    "  arr1 = np.array(['Hello', 'World']) ",
    "arr2 = np.array(['Open', 'AI'])"
   ]
  },
  {
   "cell_type": "code",
   "execution_count": 17,
   "id": "a74677f3-c5de-46a0-83d2-cee01d9803fe",
   "metadata": {},
   "outputs": [
    {
     "name": "stdout",
     "output_type": "stream",
     "text": [
      "['HelloOpen' 'WorldAI']\n"
     ]
    }
   ],
   "source": [
    "import numpy as np\n",
    "\n",
    "def concatenate_strings(arr1, arr2):\n",
    "    return np.char.add(arr1, arr2)\n",
    "\n",
    "arr1 = np.array(['Hello', 'World'])\n",
    "arr2 = np.array(['Open', 'AI'])\n",
    "concatenated_array = concatenate_strings(arr1, arr2)\n",
    "print(concatenated_array)\n"
   ]
  },
  {
   "cell_type": "markdown",
   "id": "52241833-ba74-4b55-868f-85a575589727",
   "metadata": {},
   "source": [
    "## 60. Write a function that finds the length of the longest string in a NumPy array. arr = np.array(['apple', 'banana', 'grape', 'pineapple'])\n",
    "arr = np.array(['apple', 'banana', 'grape', 'pineapple'])"
   ]
  },
  {
   "cell_type": "code",
   "execution_count": 18,
   "id": "1951c7f1-089a-4341-bb8a-77935ea18e64",
   "metadata": {},
   "outputs": [
    {
     "name": "stdout",
     "output_type": "stream",
     "text": [
      "9\n"
     ]
    }
   ],
   "source": [
    "import numpy as np\n",
    "\n",
    "def longest_string_length(arr):\n",
    "    return np.max(np.char.str_len(arr))\n",
    "\n",
    "arr = np.array(['apple', 'banana', 'grape', 'pineapple'])\n",
    "length_of_longest_string = longest_string_length(arr)\n",
    "print(length_of_longest_string)\n"
   ]
  },
  {
   "cell_type": "markdown",
   "id": "1d253ede-c979-4c24-a177-600cad08bb6b",
   "metadata": {},
   "source": [
    "## 61. Create a dataset of 100 random integers between 1 and 1000. Compute the mean, median, variance, and standard deviation of the dataset using NumPy's functions."
   ]
  },
  {
   "cell_type": "code",
   "execution_count": 19,
   "id": "1a154365-394c-4a68-ab25-f3fe02b1313e",
   "metadata": {},
   "outputs": [
    {
     "name": "stdout",
     "output_type": "stream",
     "text": [
      "Mean: 538.79\n",
      "Median: 561.0\n",
      "Variance: 89663.2059\n",
      "Standard Deviation: 299.43815037499814\n"
     ]
    }
   ],
   "source": [
    "import numpy as np\n",
    "\n",
    "# Create dataset\n",
    "data = np.random.randint(1, 1001, 100)\n",
    "\n",
    "# Compute statistics\n",
    "mean = np.mean(data)\n",
    "median = np.median(data)\n",
    "variance = np.var(data)\n",
    "std_dev = np.std(data)\n",
    "\n",
    "print(f\"Mean: {mean}\")\n",
    "print(f\"Median: {median}\")\n",
    "print(f\"Variance: {variance}\")\n",
    "print(f\"Standard Deviation: {std_dev}\")\n"
   ]
  },
  {
   "cell_type": "markdown",
   "id": "4e829337-16ff-4ca1-842d-1783be32fa23",
   "metadata": {},
   "source": [
    "## 62. Generate an array of 50 random numbers between 1 and 100. Find the 25th and 75th percentiles of the dataset."
   ]
  },
  {
   "cell_type": "code",
   "execution_count": 20,
   "id": "06cd8e7d-3311-4cbd-836f-9c3995a53182",
   "metadata": {},
   "outputs": [
    {
     "name": "stdout",
     "output_type": "stream",
     "text": [
      "25th Percentile: 29.75\n",
      "75th Percentile: 84.5\n"
     ]
    }
   ],
   "source": [
    "import numpy as np\n",
    "\n",
    "# Generate random numbers\n",
    "data = np.random.randint(1, 101, 50)\n",
    "\n",
    "# Compute percentiles\n",
    "percentile_25 = np.percentile(data, 25)\n",
    "percentile_75 = np.percentile(data, 75)\n",
    "\n",
    "print(f\"25th Percentile: {percentile_25}\")\n",
    "print(f\"75th Percentile: {percentile_75}\")\n"
   ]
  },
  {
   "cell_type": "markdown",
   "id": "b5a18557-03aa-469c-93d0-9376842f0c4d",
   "metadata": {},
   "source": [
    "## 63. Create two arrays representing two sets of variables. Compute the correlation coefficient between these arrays using NumPy's corrcoef function."
   ]
  },
  {
   "cell_type": "code",
   "execution_count": 21,
   "id": "e1630255-f178-401e-927c-8438630545c3",
   "metadata": {},
   "outputs": [
    {
     "name": "stdout",
     "output_type": "stream",
     "text": [
      "Correlation Coefficient: -0.03406280506789443\n"
     ]
    }
   ],
   "source": [
    "import numpy as np\n",
    "\n",
    "# Create two arrays\n",
    "arr1 = np.random.rand(100)\n",
    "arr2 = np.random.rand(100)\n",
    "\n",
    "# Compute correlation coefficient\n",
    "correlation_matrix = np.corrcoef(arr1, arr2)\n",
    "correlation_coefficient = correlation_matrix[0, 1]\n",
    "\n",
    "print(f\"Correlation Coefficient: {correlation_coefficient}\")\n"
   ]
  },
  {
   "cell_type": "markdown",
   "id": "46ccc155-4b49-48de-b012-b376fcda6cbd",
   "metadata": {},
   "source": [
    "## 64. Create two matrices and perform matrix multiplication using NumPy's dot function."
   ]
  },
  {
   "cell_type": "code",
   "execution_count": 22,
   "id": "51a2288b-4a13-43b6-9769-77df104726ce",
   "metadata": {},
   "outputs": [
    {
     "name": "stdout",
     "output_type": "stream",
     "text": [
      "Matrix 1:\n",
      "[[1 1 8]\n",
      " [7 3 8]\n",
      " [6 4 5]]\n",
      "Matrix 2:\n",
      "[[1 4 2]\n",
      " [1 8 5]\n",
      " [4 2 4]]\n",
      "Result of Matrix Multiplication:\n",
      "[[34 28 39]\n",
      " [42 68 61]\n",
      " [30 66 52]]\n"
     ]
    }
   ],
   "source": [
    "import numpy as np\n",
    "\n",
    "# Create two matrices\n",
    "matrix1 = np.random.randint(1, 10, (3, 3))\n",
    "matrix2 = np.random.randint(1, 10, (3, 3))\n",
    "\n",
    "# Perform matrix multiplication\n",
    "result = np.dot(matrix1, matrix2)\n",
    "\n",
    "print(\"Matrix 1:\")\n",
    "print(matrix1)\n",
    "print(\"Matrix 2:\")\n",
    "print(matrix2)\n",
    "print(\"Result of Matrix Multiplication:\")\n",
    "print(result)\n"
   ]
  },
  {
   "cell_type": "markdown",
   "id": "905a54c4-a2c5-4506-bf66-0ecb0060a636",
   "metadata": {},
   "source": [
    "## 65. Create an array of 50 integers between 10 and 1000. Calculate the 10th, 50th (median), and 90th percentiles along with the first and third quartiles."
   ]
  },
  {
   "cell_type": "code",
   "execution_count": 23,
   "id": "3bf3830d-f5ee-4ce5-9b68-98f0eef08d2d",
   "metadata": {},
   "outputs": [
    {
     "name": "stdout",
     "output_type": "stream",
     "text": [
      "10th Percentile: 86.0\n",
      "50th Percentile (Median): 449.5\n",
      "90th Percentile: 867.7\n",
      "1st Quartile: 206.0\n",
      "3rd Quartile: 656.0\n"
     ]
    }
   ],
   "source": [
    "import numpy as np\n",
    "\n",
    "# Create array of integers\n",
    "data = np.random.randint(10, 1001, 50)\n",
    "\n",
    "# Calculate percentiles and quartiles\n",
    "percentile_10 = np.percentile(data, 10)\n",
    "percentile_50 = np.percentile(data, 50)  # Median\n",
    "percentile_90 = np.percentile(data, 90)\n",
    "quartile_1 = np.percentile(data, 25)\n",
    "quartile_3 = np.percentile(data, 75)\n",
    "\n",
    "print(f\"10th Percentile: {percentile_10}\")\n",
    "print(f\"50th Percentile (Median): {percentile_50}\")\n",
    "print(f\"90th Percentile: {percentile_90}\")\n",
    "print(f\"1st Quartile: {quartile_1}\")\n",
    "print(f\"3rd Quartile: {quartile_3}\")\n"
   ]
  },
  {
   "cell_type": "markdown",
   "id": "46d3e1ee-121a-48af-aa2d-fe6146828447",
   "metadata": {},
   "source": [
    "## 66. Create a NumPy array of integers and find the index of a specific element."
   ]
  },
  {
   "cell_type": "code",
   "execution_count": 24,
   "id": "b60d560e-cebd-4098-8071-3e8f4f44e423",
   "metadata": {},
   "outputs": [
    {
     "name": "stdout",
     "output_type": "stream",
     "text": [
      "Index of element 30: 2\n"
     ]
    }
   ],
   "source": [
    "import numpy as np\n",
    "\n",
    "# Create an array of integers\n",
    "arr = np.array([10, 20, 30, 40, 50])\n",
    "\n",
    "# Find the index of a specific element\n",
    "element = 30\n",
    "index = np.where(arr == element)[0][0]\n",
    "\n",
    "print(f\"Index of element {element}: {index}\")\n"
   ]
  },
  {
   "cell_type": "markdown",
   "id": "11a9e256-72b3-4846-a451-af5aa0ca7e8f",
   "metadata": {},
   "source": [
    "## 67. Generate a random NumPy array and sort it in ascending order"
   ]
  },
  {
   "cell_type": "code",
   "execution_count": 26,
   "id": "02849628-5417-4542-9f06-cd20359718df",
   "metadata": {},
   "outputs": [
    {
     "name": "stdout",
     "output_type": "stream",
     "text": [
      "Original Array:\n",
      "[0.94081404 0.0079542  0.6445719  0.60069006 0.06411255 0.18155432\n",
      " 0.17137565 0.85431468 0.9703843  0.86675422]\n",
      "Sorted Array:\n",
      "[0.0079542  0.06411255 0.17137565 0.18155432 0.60069006 0.6445719\n",
      " 0.85431468 0.86675422 0.94081404 0.9703843 ]\n"
     ]
    }
   ],
   "source": [
    "import numpy as np\n",
    "\n",
    "# Generate a random array\n",
    "arr = np.random.rand(10)\n",
    "\n",
    "# Sort the array in ascending order\n",
    "sorted_arr = np.sort(arr)\n",
    "\n",
    "print(\"Original Array:\")\n",
    "print(arr)\n",
    "print(\"Sorted Array:\")\n",
    "print(sorted_arr)\n"
   ]
  },
  {
   "cell_type": "markdown",
   "id": "a2f29d8d-23d0-460c-bdd3-72f9f4c3914e",
   "metadata": {},
   "source": [
    "## 68. Filter elements >20  in the given NumPy array.\n",
    "\n",
    "#### arr = np.array([12, 25, 6, 42, 8, 30])"
   ]
  },
  {
   "cell_type": "code",
   "execution_count": 27,
   "id": "13e67360-5b60-4ff8-9e55-f7c7384772e8",
   "metadata": {},
   "outputs": [
    {
     "name": "stdout",
     "output_type": "stream",
     "text": [
      "[25 42 30]\n"
     ]
    }
   ],
   "source": [
    "import numpy as np\n",
    "\n",
    "arr = np.array([12, 25, 6, 42, 8, 30])\n",
    "\n",
    "# Filter elements greater than 20\n",
    "filtered_arr = arr[arr > 20]\n",
    "\n",
    "print(filtered_arr)\n"
   ]
  },
  {
   "cell_type": "markdown",
   "id": "585d1c09-18ec-45f4-893d-f29637d0b0bc",
   "metadata": {},
   "source": [
    "## 69. Filter elements which are divisible by 3 from a given NumPy array.\n",
    "\n",
    "#### arr = np.array([1, 5, 8, 12, 15])"
   ]
  },
  {
   "cell_type": "code",
   "execution_count": 28,
   "id": "0ec66a74-3763-45b1-8cf9-c389f2340529",
   "metadata": {},
   "outputs": [
    {
     "name": "stdout",
     "output_type": "stream",
     "text": [
      "[12 15]\n"
     ]
    }
   ],
   "source": [
    "import numpy as np\n",
    "\n",
    "arr = np.array([1, 5, 8, 12, 15])\n",
    "\n",
    "# Filter elements divisible by 3\n",
    "filtered_arr = arr[arr % 3 == 0]\n",
    "\n",
    "print(filtered_arr)\n"
   ]
  },
  {
   "cell_type": "markdown",
   "id": "efd58e92-a03c-493d-b1b7-75927b64230f",
   "metadata": {},
   "source": [
    "## 70. Filter elements which are ≥ 20 and ≤ 40 from a given NumPy array.\n",
    "\n",
    "#### arr = np.array([10, 20, 30, 40, 50])"
   ]
  },
  {
   "cell_type": "code",
   "execution_count": 29,
   "id": "e3d7058c-e522-467d-bad0-a1fdc2176455",
   "metadata": {},
   "outputs": [
    {
     "name": "stdout",
     "output_type": "stream",
     "text": [
      "[20 30 40]\n"
     ]
    }
   ],
   "source": [
    "import numpy as np\n",
    "\n",
    "arr = np.array([10, 20, 30, 40, 50])\n",
    "\n",
    "# Filter elements between 20 and 40 inclusive\n",
    "filtered_arr = arr[(arr >= 20) & (arr <= 40)]\n",
    "\n",
    "print(filtered_arr)\n"
   ]
  },
  {
   "cell_type": "markdown",
   "id": "e2c07294-9e94-44b7-b001-34233cb7d9f8",
   "metadata": {},
   "source": [
    "## 71. For the given NumPy array, check its byte order using the `dtype` attribute byteorder.\n",
    "####  arr = np.array([1, 2, 3])"
   ]
  },
  {
   "cell_type": "code",
   "execution_count": 30,
   "id": "d02ac40d-aa39-40d5-a6c4-d591688f043c",
   "metadata": {},
   "outputs": [
    {
     "name": "stdout",
     "output_type": "stream",
     "text": [
      "Byte order: =\n"
     ]
    }
   ],
   "source": [
    "import numpy as np\n",
    "\n",
    "arr = np.array([1, 2, 3])\n",
    "\n",
    "# Check the byte order\n",
    "byte_order = arr.dtype.byteorder\n",
    "\n",
    "print(f\"Byte order: {byte_order}\")\n"
   ]
  },
  {
   "cell_type": "markdown",
   "id": "0abda9b9-fd49-4e8e-964e-38749bb9b89e",
   "metadata": {},
   "source": [
    "## 72. For the given NumPy array, perform byte swapping in place using `byteswap()`.\n",
    "#### arr = np.array([1, 2, 3], dtype=np.int32)"
   ]
  },
  {
   "cell_type": "code",
   "execution_count": 31,
   "id": "65048857-12df-450d-98e1-653f09e34527",
   "metadata": {},
   "outputs": [
    {
     "name": "stdout",
     "output_type": "stream",
     "text": [
      "[16777216 33554432 50331648]\n"
     ]
    }
   ],
   "source": [
    "import numpy as np\n",
    "\n",
    "arr = np.array([1, 2, 3], dtype=np.int32)\n",
    "\n",
    "# Perform byte swapping in place\n",
    "arr.byteswap(inplace=True)\n",
    "\n",
    "print(arr)\n"
   ]
  },
  {
   "cell_type": "markdown",
   "id": "54c0ea21-de35-4adb-ac29-0294b9616374",
   "metadata": {},
   "source": [
    "## 73. For the given NumPy array, swap its byte order without modifying the original array using `newbyteorder()`.\n",
    "\n",
    "####  arr = np.array([1, 2, 3], dtype=np.int32)"
   ]
  },
  {
   "cell_type": "code",
   "execution_count": 33,
   "id": "9e941ea9-04d9-40d5-9961-62bcd2c78b45",
   "metadata": {},
   "outputs": [
    {
     "name": "stdout",
     "output_type": "stream",
     "text": [
      "Original array:\n",
      "[1 2 3]\n",
      "Array with swapped byte order:\n",
      "[1 2 3]\n"
     ]
    }
   ],
   "source": [
    "import numpy as np\n",
    "\n",
    "arr = np.array([1, 2, 3], dtype=np.int32)\n",
    "\n",
    "# Create a view with swapped byte order\n",
    "swapped_arr = np.asarray(arr, dtype=arr.dtype.newbyteorder())\n",
    "\n",
    "print(\"Original array:\")\n",
    "print(arr)\n",
    "print(\"Array with swapped byte order:\")\n",
    "print(swapped_arr)\n",
    "\n"
   ]
  },
  {
   "cell_type": "markdown",
   "id": "0e02a688-4cea-40e6-beef-f09e74684744",
   "metadata": {},
   "source": [
    "## 74. For the given NumPy array and swap its byte order conditionally based on system endianness using `newbyteorder()`.\n",
    "\n",
    "#### arr = np.array([1, 2, 3], dtype=np.int32)"
   ]
  },
  {
   "cell_type": "code",
   "execution_count": 34,
   "id": "55131703-47c5-442f-9a61-19faddd36703",
   "metadata": {},
   "outputs": [
    {
     "name": "stdout",
     "output_type": "stream",
     "text": [
      "Original array:\n",
      "[1 2 3]\n",
      "Array with swapped byte order (if needed):\n",
      "[1 2 3]\n"
     ]
    }
   ],
   "source": [
    "import numpy as np\n",
    "import sys\n",
    "\n",
    "arr = np.array([1, 2, 3], dtype=np.int32)\n",
    "\n",
    "# Determine system endianness\n",
    "system_endianness = '=' if sys.byteorder == 'little' else '>'\n",
    "\n",
    "# Swap byte order conditionally based on system endianness\n",
    "if arr.dtype.byteorder != system_endianness:\n",
    "    swapped_arr = arr.newbyteorder()\n",
    "else:\n",
    "    swapped_arr = arr\n",
    "\n",
    "print(\"Original array:\")\n",
    "print(arr)\n",
    "print(\"Array with swapped byte order (if needed):\")\n",
    "print(swapped_arr)\n"
   ]
  },
  {
   "cell_type": "markdown",
   "id": "4bea40f8-b74a-4032-9e2d-4bd70aac254d",
   "metadata": {},
   "source": [
    "## 75. For the given NumPy array, check if byte swapping is necessary for the current system using `dtype` attribute `byteorder`.\n",
    "\n",
    "#### arr = np.array([1, 2, 3], dtype=np.int32)"
   ]
  },
  {
   "cell_type": "code",
   "execution_count": 35,
   "id": "dc692ca4-0dd8-4310-8815-5615788687af",
   "metadata": {},
   "outputs": [
    {
     "name": "stdout",
     "output_type": "stream",
     "text": [
      "Byte swapping is not necessary.\n"
     ]
    }
   ],
   "source": [
    "import numpy as np\n",
    "import sys\n",
    "\n",
    "arr = np.array([1, 2, 3], dtype=np.int32)\n",
    "\n",
    "# Determine system's native byte order\n",
    "system_byteorder = '=' if sys.byteorder == 'little' else '>'\n",
    "\n",
    "# Check if byte swapping is necessary\n",
    "if arr.dtype.byteorder not in ('=', system_byteorder):\n",
    "    print(\"Byte swapping is necessary.\")\n",
    "else:\n",
    "    print(\"Byte swapping is not necessary.\")\n"
   ]
  },
  {
   "cell_type": "markdown",
   "id": "a7e05aa1-7d3c-458c-8a16-0ebc0580107d",
   "metadata": {},
   "source": [
    "## 76. Create a NumPy array arr1 with values from 1 to 10. Create a copy of arr1 named copy_arr and modify an element in copy_arr. Check if modifying copy_arr affects arr1."
   ]
  },
  {
   "cell_type": "code",
   "execution_count": 36,
   "id": "a6660a9f-c4eb-4c63-90e0-0a9de2407f8a",
   "metadata": {},
   "outputs": [
    {
     "name": "stdout",
     "output_type": "stream",
     "text": [
      "Original array (arr1):\n",
      "[ 1  2  3  4  5  6  7  8  9 10]\n",
      "Modified copy (copy_arr):\n",
      "[100   2   3   4   5   6   7   8   9  10]\n"
     ]
    }
   ],
   "source": [
    "import numpy as np\n",
    "\n",
    "arr1 = np.arange(1, 11)\n",
    "copy_arr = arr1.copy()\n",
    "\n",
    "# Modify an element in copy_arr\n",
    "copy_arr[0] = 100\n",
    "\n",
    "print(\"Original array (arr1):\")\n",
    "print(arr1)\n",
    "print(\"Modified copy (copy_arr):\")\n",
    "print(copy_arr)\n"
   ]
  },
  {
   "cell_type": "markdown",
   "id": "9712fa3c-3d9f-4231-8d47-0df60348f035",
   "metadata": {},
   "source": [
    "## 77. Create a 2D NumPy array matrix of shape (3, 3) with random integers. Extract a slice view_slice from the matrix. Modify an element in view_slice and observe if it changes the original matrix."
   ]
  },
  {
   "cell_type": "code",
   "execution_count": 37,
   "id": "d8d4644f-ce3d-435f-afae-fd7f733bd810",
   "metadata": {},
   "outputs": [
    {
     "name": "stdout",
     "output_type": "stream",
     "text": [
      "Original matrix:\n",
      "[[ 8  7  1]\n",
      " [ 6 99  9]\n",
      " [ 7  6  8]]\n",
      "Modified view_slice:\n",
      "[[99  9]\n",
      " [ 6  8]]\n"
     ]
    }
   ],
   "source": [
    "import numpy as np\n",
    "\n",
    "matrix = np.random.randint(1, 10, (3, 3))\n",
    "view_slice = matrix[1:, 1:]\n",
    "\n",
    "# Modify an element in view_slice\n",
    "view_slice[0, 0] = 99\n",
    "\n",
    "print(\"Original matrix:\")\n",
    "print(matrix)\n",
    "print(\"Modified view_slice:\")\n",
    "print(view_slice)\n"
   ]
  },
  {
   "cell_type": "markdown",
   "id": "34a10576-cff1-47c6-9ffa-41f97970ab45",
   "metadata": {},
   "source": [
    "## 78. Create a NumPy array array_a of shape (4, 3) with sequential integers from 1 to 12. Extract a slice view_b from array_a and broadcast the addition of 5 to view_b. Check if it alters the original array_a."
   ]
  },
  {
   "cell_type": "code",
   "execution_count": 38,
   "id": "15d8ea49-3b12-49b1-9227-83bf6fdeac92",
   "metadata": {},
   "outputs": [
    {
     "name": "stdout",
     "output_type": "stream",
     "text": [
      "Original array_a:\n",
      "[[ 1  2  3]\n",
      " [ 4 10 11]\n",
      " [ 7 13 14]\n",
      " [10 16 17]]\n",
      "Modified view_b:\n",
      "[[10 11]\n",
      " [13 14]\n",
      " [16 17]]\n"
     ]
    }
   ],
   "source": [
    "import numpy as np\n",
    "\n",
    "array_a = np.arange(1, 13).reshape(4, 3)\n",
    "view_b = array_a[1:, 1:]\n",
    "\n",
    "# Broadcast addition of 5 to view_b\n",
    "view_b += 5\n",
    "\n",
    "print(\"Original array_a:\")\n",
    "print(array_a)\n",
    "print(\"Modified view_b:\")\n",
    "print(view_b)\n"
   ]
  },
  {
   "cell_type": "markdown",
   "id": "70a610b4-fcc2-4115-8269-8daaf009b7c9",
   "metadata": {},
   "source": [
    "## 79. Create a NumPy array orig_array of shape (2, 4) with values from 1 to 8. Create a reshaped view reshaped_view of shape (4, 2) from orig_array. Modify an element in reshaped_view and check if it reflects changes in the original orig_array."
   ]
  },
  {
   "cell_type": "code",
   "execution_count": 39,
   "id": "53efeabe-28aa-4165-a3f6-3048f90f8721",
   "metadata": {},
   "outputs": [
    {
     "name": "stdout",
     "output_type": "stream",
     "text": [
      "Original orig_array:\n",
      "[[99  2  3  4]\n",
      " [ 5  6  7  8]]\n",
      "Modified reshaped_view:\n",
      "[[99  2]\n",
      " [ 3  4]\n",
      " [ 5  6]\n",
      " [ 7  8]]\n"
     ]
    }
   ],
   "source": [
    "import numpy as np\n",
    "\n",
    "orig_array = np.arange(1, 9).reshape(2, 4)\n",
    "reshaped_view = orig_array.reshape(4, 2)\n",
    "\n",
    "# Modify an element in reshaped_view\n",
    "reshaped_view[0, 0] = 99\n",
    "\n",
    "print(\"Original orig_array:\")\n",
    "print(orig_array)\n",
    "print(\"Modified reshaped_view:\")\n",
    "print(reshaped_view)\n"
   ]
  },
  {
   "cell_type": "markdown",
   "id": "7a9ee2a1-6ff8-490d-8214-b48796ad7f1e",
   "metadata": {},
   "source": [
    "## 80. Create a NumPy array data of shape (3, 4) with random integers. Extract a copy data_copy of elements greater than 5. Modify an element in data_copy and verify if it affects the original data."
   ]
  },
  {
   "cell_type": "code",
   "execution_count": 40,
   "id": "f7fb0fc6-a4a6-4cff-9490-402aaec646ea",
   "metadata": {},
   "outputs": [
    {
     "name": "stdout",
     "output_type": "stream",
     "text": [
      "Original data:\n",
      "[[8 3 7 3]\n",
      " [6 2 8 8]\n",
      " [9 9 8 4]]\n",
      "Modified data_copy:\n",
      "[99  7  6  8  8  9  9  8]\n"
     ]
    }
   ],
   "source": [
    "import numpy as np\n",
    "\n",
    "data = np.random.randint(1, 10, (3, 4))\n",
    "data_copy = data[data > 5].copy()\n",
    "\n",
    "# Modify an element in data_copy\n",
    "data_copy[0] = 99\n",
    "\n",
    "print(\"Original data:\")\n",
    "print(data)\n",
    "print(\"Modified data_copy:\")\n",
    "print(data_copy)\n"
   ]
  },
  {
   "cell_type": "markdown",
   "id": "e839a775-d1d1-47cb-977e-df602a8f51e3",
   "metadata": {},
   "source": [
    "## 81. Create two matrices A and B of identical shape containing integers and perform addition and subtraction operations between them."
   ]
  },
  {
   "cell_type": "code",
   "execution_count": 41,
   "id": "f20ac1b9-40e1-41a6-8bc5-460e131b8225",
   "metadata": {},
   "outputs": [
    {
     "name": "stdout",
     "output_type": "stream",
     "text": [
      "Matrix A:\n",
      "[[1 2]\n",
      " [3 4]]\n",
      "Matrix B:\n",
      "[[5 6]\n",
      " [7 8]]\n",
      "Addition result:\n",
      "[[ 6  8]\n",
      " [10 12]]\n",
      "Subtraction result:\n",
      "[[-4 -4]\n",
      " [-4 -4]]\n"
     ]
    }
   ],
   "source": [
    "import numpy as np\n",
    "\n",
    "A = np.array([[1, 2], [3, 4]])\n",
    "B = np.array([[5, 6], [7, 8]])\n",
    "\n",
    "# Addition and subtraction\n",
    "addition_result = A + B\n",
    "subtraction_result = A - B\n",
    "\n",
    "print(\"Matrix A:\")\n",
    "print(A)\n",
    "print(\"Matrix B:\")\n",
    "print(B)\n",
    "print(\"Addition result:\")\n",
    "print(addition_result)\n",
    "print(\"Subtraction result:\")\n",
    "print(subtraction_result)\n"
   ]
  },
  {
   "cell_type": "markdown",
   "id": "653db462-68d1-4742-b21a-5c64f25ce022",
   "metadata": {},
   "source": [
    "## 82. Generate two matrices C (3x2) and D (2x4) and perform matrix multiplication.\n"
   ]
  },
  {
   "cell_type": "code",
   "execution_count": 42,
   "id": "821d1c84-527c-4292-bb9a-22b7e4161e49",
   "metadata": {},
   "outputs": [
    {
     "name": "stdout",
     "output_type": "stream",
     "text": [
      "Matrix C:\n",
      "[[6 6]\n",
      " [4 3]\n",
      " [7 5]]\n",
      "Matrix D:\n",
      "[[1 7 9 1]\n",
      " [7 3 2 8]]\n",
      "Matrix multiplication result:\n",
      "[[48 60 66 54]\n",
      " [25 37 42 28]\n",
      " [42 64 73 47]]\n"
     ]
    }
   ],
   "source": [
    "import numpy as np\n",
    "\n",
    "C = np.random.randint(1, 10, (3, 2))\n",
    "D = np.random.randint(1, 10, (2, 4))\n",
    "\n",
    "# Matrix multiplication\n",
    "multiplication_result = np.dot(C, D)\n",
    "\n",
    "print(\"Matrix C:\")\n",
    "print(C)\n",
    "print(\"Matrix D:\")\n",
    "print(D)\n",
    "print(\"Matrix multiplication result:\")\n",
    "print(multiplication_result)\n"
   ]
  },
  {
   "cell_type": "markdown",
   "id": "71fcdee1-f03d-4f84-bd25-98fc5c74fb30",
   "metadata": {},
   "source": [
    "## 83. Create a matrix E and find its transpose."
   ]
  },
  {
   "cell_type": "code",
   "execution_count": 43,
   "id": "4d85a8aa-e1eb-47cb-b894-e73cf9955b8d",
   "metadata": {},
   "outputs": [
    {
     "name": "stdout",
     "output_type": "stream",
     "text": [
      "Matrix C:\n",
      "[[7 6]\n",
      " [3 9]\n",
      " [6 1]]\n",
      "Matrix D:\n",
      "[[1 8 9 4]\n",
      " [1 1 8 6]]\n",
      "Matrix multiplication result:\n",
      "[[ 13  62 111  64]\n",
      " [ 12  33  99  66]\n",
      " [  7  49  62  30]]\n"
     ]
    }
   ],
   "source": [
    "import numpy as np\n",
    "\n",
    "C = np.random.randint(1, 10, (3, 2))\n",
    "D = np.random.randint(1, 10, (2, 4))\n",
    "\n",
    "# Matrix multiplication\n",
    "multiplication_result = np.dot(C, D)\n",
    "\n",
    "print(\"Matrix C:\")\n",
    "print(C)\n",
    "print(\"Matrix D:\")\n",
    "print(D)\n",
    "print(\"Matrix multiplication result:\")\n",
    "print(multiplication_result)\n"
   ]
  },
  {
   "cell_type": "markdown",
   "id": "7791df4e-df9b-47bb-9be9-66ebdf8728ed",
   "metadata": {},
   "source": [
    "## 84. Generate a square matrix F and compute its determinant."
   ]
  },
  {
   "cell_type": "markdown",
   "id": "7d5f5ce6-1f86-4087-ab64-717054d86104",
   "metadata": {},
   "source": [
    "## 85. Create a square matrix G and find its inverse."
   ]
  },
  {
   "cell_type": "code",
   "execution_count": null,
   "id": "25cdd615-c878-4538-9247-68baf245ad07",
   "metadata": {},
   "outputs": [],
   "source": []
  }
 ],
 "metadata": {
  "kernelspec": {
   "display_name": "Python 3 (ipykernel)",
   "language": "python",
   "name": "python3"
  },
  "language_info": {
   "codemirror_mode": {
    "name": "ipython",
    "version": 3
   },
   "file_extension": ".py",
   "mimetype": "text/x-python",
   "name": "python",
   "nbconvert_exporter": "python",
   "pygments_lexer": "ipython3",
   "version": "3.12.4"
  }
 },
 "nbformat": 4,
 "nbformat_minor": 5
}
