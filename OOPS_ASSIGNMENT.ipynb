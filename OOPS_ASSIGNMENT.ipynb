{
 "cells": [
  {
   "cell_type": "markdown",
   "id": "0abc9d8b",
   "metadata": {},
   "source": [
    "# 1.Explain the importance of Functions."
   ]
  },
  {
   "cell_type": "markdown",
   "id": "f2b9338f",
   "metadata": {},
   "source": [
    "\n",
    "Functions are an essential aspect of programming, including Python, due to several reasons:\n",
    "1. **Code Reusability:** Functions allow you to reuse code by defining it once and calling it multiple times.\n",
    "2. **Modularity:** Functions help break down complex problems into smaller, manageable pieces.\n",
    "3. **Readability and Maintenance:** Functions make code more organized, readable, and easier to maintain.\n",
    "4. **Abstraction:** Functions allow hiding complex logic behind a simple interface.\n",
    "5. **Ease of Testing:** Functions make it easier to test specific sections of code independently.\n"
   ]
  },
  {
   "cell_type": "markdown",
   "id": "06b1ba4d",
   "metadata": {},
   "source": [
    "# 2.Write a basic function to greet students.\n"
   ]
  },
  {
   "cell_type": "code",
   "execution_count": 5,
   "id": "819a576b",
   "metadata": {},
   "outputs": [
    {
     "data": {
      "text/plain": [
       "'Hello, Alice!'"
      ]
     },
     "execution_count": 5,
     "metadata": {},
     "output_type": "execute_result"
    }
   ],
   "source": [
    "\n",
    "# A simple function to greet students\n",
    "def greet_student(name):\n",
    "    return f\"Hello, {name}!\"\n",
    "\n",
    "# Example usage\n",
    "greet_student(\"Alice\")\n"
   ]
  },
  {
   "cell_type": "markdown",
   "id": "4dde1bbb",
   "metadata": {},
   "source": [
    "## 3.What is the difference between print and return statements?"
   ]
  },
  {
   "cell_type": "code",
   "execution_count": 4,
   "id": "5b7947d9",
   "metadata": {},
   "outputs": [
    {
     "name": "stdout",
     "output_type": "stream",
     "text": [
      "This is printed\n",
      "Output of example_print: None\n",
      "Output of example_return: This is returned\n"
     ]
    }
   ],
   "source": [
    "\n",
    "def example_print():\n",
    "    print(\"This is printed\")\n",
    "\n",
    "def example_return():\n",
    "    return \"This is returned\"\n",
    "\n",
    "# Calling the functions\n",
    "print_output = example_print()  # This will print to the console\n",
    "return_output = example_return()  # This will not print but will store the result\n",
    "\n",
    "print(\"Output of example_print:\", print_output)  # None\n",
    "print(\"Output of example_return:\", return_output)  # The returned string\n"
   ]
  },
  {
   "cell_type": "markdown",
   "id": "1fcd9a58",
   "metadata": {},
   "source": [
    "## 4.What are *args and **kwargs?"
   ]
  },
  {
   "cell_type": "code",
   "execution_count": 3,
   "id": "63367f7d",
   "metadata": {},
   "outputs": [
    {
     "name": "stdout",
     "output_type": "stream",
     "text": [
      "Arguments: (1, 2, 3, 'hello')\n",
      "Keyword Arguments: {'name': 'Alice', 'age': 25}\n"
     ]
    }
   ],
   "source": [
    "\n",
    "def show_args(*args):\n",
    "    print(\"Arguments:\", args)\n",
    "\n",
    "def show_kwargs(**kwargs):\n",
    "    print(\"Keyword Arguments:\", kwargs)\n",
    "\n",
    "# Example usage\n",
    "show_args(1, 2, 3, \"hello\")\n",
    "show_kwargs(name=\"Alice\", age=25)\n"
   ]
  },
  {
   "cell_type": "markdown",
   "id": "0b4d5326",
   "metadata": {},
   "source": [
    "## 5.Explain the iterator function."
   ]
  },
  {
   "cell_type": "markdown",
   "id": "9cbc784a-c763-443c-8793-6a292a0b2e11",
   "metadata": {},
   "source": [
    "An iterator is an object that can be iterated over (loops through its elements). Python has several built-in iterators like lists, tuples, dictionaries, and sets."
   ]
  },
  {
   "cell_type": "code",
   "execution_count": 2,
   "id": "f274336f-7c39-4c91-a54d-0fb6ebf43c77",
   "metadata": {},
   "outputs": [
    {
     "name": "stdout",
     "output_type": "stream",
     "text": [
      "1\n",
      "2\n"
     ]
    }
   ],
   "source": [
    "my_list = [1, 2, 3, 4]\n",
    "my_iter = iter(my_list)\n",
    "\n",
    "print(next(my_iter))\n",
    "print(next(my_iter))\n"
   ]
  },
  {
   "cell_type": "markdown",
   "id": "b4b7cd5a-d314-4da1-8203-4df557b6cd50",
   "metadata": {},
   "source": [
    "## 6.Write a code that generates the squares of numbers from 1 to n using a generator."
   ]
  },
  {
   "cell_type": "code",
   "execution_count": 6,
   "id": "2ada2f97-9a74-4cd2-97f7-ac3015a2e8b8",
   "metadata": {},
   "outputs": [
    {
     "name": "stdout",
     "output_type": "stream",
     "text": [
      "[1, 4, 9, 16, 25]\n"
     ]
    }
   ],
   "source": [
    "def generate_squares(n):\n",
    "    for i in range(1, n+1):\n",
    "        yield i ** 2\n",
    "\n",
    "# Example usage:\n",
    "squares = generate_squares(5)\n",
    "print(list(squares))  # Output: [1, 4, 9, 16, 25]\n"
   ]
  },
  {
   "cell_type": "markdown",
   "id": "3dd4c306-7789-4e43-95d9-3d99d432b0e5",
   "metadata": {},
   "source": [
    "## 7.Write a code that generates palindromic numbers up to n using a generator."
   ]
  },
  {
   "cell_type": "code",
   "execution_count": 7,
   "id": "9a86ed62-2928-4818-88d0-e3322ec51e7a",
   "metadata": {},
   "outputs": [
    {
     "name": "stdout",
     "output_type": "stream",
     "text": [
      "[1, 2, 3, 4, 5, 6, 7, 8, 9, 11, 22, 33, 44, 55, 66, 77, 88, 99]\n"
     ]
    }
   ],
   "source": [
    "def generate_palindromes(n):\n",
    "    for i in range(1, n+1):\n",
    "        if str(i) == str(i)[::-1]:\n",
    "            yield i\n",
    "\n",
    "# Example usage:\n",
    "palindromes = generate_palindromes(100)\n",
    "print(list(palindromes))  # Output: [1, 2, 3, ..., 99]\n"
   ]
  },
  {
   "cell_type": "markdown",
   "id": "3f28e8e3-e373-46cd-a2ba-694139742fcb",
   "metadata": {},
   "source": [
    "## 8.Write a code that generates even numbers from 2 to n using a generator."
   ]
  },
  {
   "cell_type": "code",
   "execution_count": 8,
   "id": "45a3bead-ad83-4e63-8536-65de59c7ac92",
   "metadata": {},
   "outputs": [
    {
     "name": "stdout",
     "output_type": "stream",
     "text": [
      "[2, 4, 6, 8, 10]\n"
     ]
    }
   ],
   "source": [
    "def generate_even_numbers(n):\n",
    "    for i in range(2, n+1, 2):\n",
    "        yield i\n",
    "\n",
    "# Example usage:\n",
    "evens = generate_even_numbers(10)\n",
    "print(list(evens))  # Output: [2, 4, 6, 8, 10]\n"
   ]
  },
  {
   "cell_type": "markdown",
   "id": "c1e48fd9-ca61-41ac-868a-366f0d181493",
   "metadata": {},
   "source": [
    "## 9.Write a code that generates powers of two up to n using a generator."
   ]
  },
  {
   "cell_type": "code",
   "execution_count": 9,
   "id": "df5a50ea-c5ec-4506-807d-4e9a9588364a",
   "metadata": {},
   "outputs": [
    {
     "name": "stdout",
     "output_type": "stream",
     "text": [
      "[1, 2, 4, 8, 16, 32]\n"
     ]
    }
   ],
   "source": [
    "def generate_powers_of_two(n):\n",
    "    power = 1\n",
    "    while power <= n:\n",
    "        yield power\n",
    "        power *= 2\n",
    "\n",
    "# Example usage:\n",
    "powers = generate_powers_of_two(32)\n",
    "print(list(powers))  # Output: [1, 2, 4, 8, 16, 32]\n"
   ]
  },
  {
   "cell_type": "markdown",
   "id": "d672b383-9e6e-4b5a-b201-1cc5364b5f17",
   "metadata": {},
   "source": [
    "## 10.Write a code that generates prime numbers up to n using a generator."
   ]
  },
  {
   "cell_type": "code",
   "execution_count": 10,
   "id": "c1dc25d9-e997-4ec3-9e5c-28f672b8541d",
   "metadata": {},
   "outputs": [
    {
     "name": "stdout",
     "output_type": "stream",
     "text": [
      "[2, 3, 5, 7, 11, 13, 17, 19]\n"
     ]
    }
   ],
   "source": [
    "def generate_primes(n):\n",
    "    primes = []\n",
    "    for num in range(2, n + 1):\n",
    "        if all(num % prime != 0 for prime in primes):\n",
    "            primes.append(num)\n",
    "            yield num\n",
    "\n",
    "# Example usage:\n",
    "primes = generate_primes(20)\n",
    "print(list(primes))  # Output: [2, 3, 5, 7, 11, 13, 17, 19]\n"
   ]
  },
  {
   "cell_type": "markdown",
   "id": "743d61cc-3d01-41f9-a45f-60a8939004a5",
   "metadata": {},
   "source": [
    "## 11.Write a code that uses a lambda function to calculate the sum of two numbers."
   ]
  },
  {
   "cell_type": "code",
   "execution_count": 11,
   "id": "ceedb551-d0e9-4ed4-ba9d-8cf1af57f3ae",
   "metadata": {},
   "outputs": [
    {
     "name": "stdout",
     "output_type": "stream",
     "text": [
      "8\n"
     ]
    }
   ],
   "source": [
    "sum_two_numbers = lambda a, b: a + b\n",
    "print(sum_two_numbers(5, 3))  # Output: 8\n"
   ]
  },
  {
   "cell_type": "markdown",
   "id": "dbe552db-0cdd-4378-9f22-ff506409f122",
   "metadata": {},
   "source": [
    "## 12.Write a code that uses a lambda function to calculate the square of a given number."
   ]
  },
  {
   "cell_type": "code",
   "execution_count": 12,
   "id": "6160b8d7-ba9b-4af7-9899-10d4247e36a8",
   "metadata": {},
   "outputs": [
    {
     "name": "stdout",
     "output_type": "stream",
     "text": [
      "16\n"
     ]
    }
   ],
   "source": [
    "square_number = lambda x: x ** 2\n",
    "print(square_number(4))  # Output: 16\n"
   ]
  },
  {
   "cell_type": "markdown",
   "id": "cede2b1b-07ae-4025-80b1-2adce94cf50c",
   "metadata": {},
   "source": [
    "## 13.Write a code that uses a lambda function to check whether a given number is even or odd."
   ]
  },
  {
   "cell_type": "code",
   "execution_count": 13,
   "id": "0bd3add2-23bc-4939-95c6-8c0585e4978b",
   "metadata": {},
   "outputs": [
    {
     "name": "stdout",
     "output_type": "stream",
     "text": [
      "Odd\n"
     ]
    }
   ],
   "source": [
    "is_even = lambda x: \"Even\" if x % 2 == 0 else \"Odd\"\n",
    "print(is_even(7))  # Output: Odd\n"
   ]
  },
  {
   "cell_type": "markdown",
   "id": "4eb60958-3b34-4782-a88b-beeadb6253c2",
   "metadata": {},
   "source": [
    "## 15.Write a code that uses a lambda function to concatenate two strings."
   ]
  },
  {
   "cell_type": "code",
   "execution_count": 14,
   "id": "f9e93fd6-48d3-433f-b431-d031e9ad02f9",
   "metadata": {},
   "outputs": [
    {
     "name": "stdout",
     "output_type": "stream",
     "text": [
      "Hello, World!\n"
     ]
    }
   ],
   "source": [
    "concatenate_strings = lambda a, b: a + b\n",
    "print(concatenate_strings(\"Hello, \", \"World!\"))  # Output: Hello, World!\n"
   ]
  },
  {
   "cell_type": "markdown",
   "id": "1155fa2e-f1dc-44de-994a-94b98323ffab",
   "metadata": {},
   "source": [
    "## 16.Write a code that uses a lambda function to find the maximum of three given numbers."
   ]
  },
  {
   "cell_type": "code",
   "execution_count": 15,
   "id": "d5a5489a-f912-4733-b31b-78422e84d6bb",
   "metadata": {},
   "outputs": [
    {
     "name": "stdout",
     "output_type": "stream",
     "text": [
      "12\n"
     ]
    }
   ],
   "source": [
    "max_of_three = lambda a, b, c: max(a, b, c)\n",
    "print(max_of_three(5, 12, 9))  # Output: 12\n"
   ]
  },
  {
   "cell_type": "markdown",
   "id": "86af5026-94c6-4d42-b16d-9b33cdc5494b",
   "metadata": {},
   "source": [
    "## 17.Write a code that generates the squares of even numbers from a given list."
   ]
  },
  {
   "cell_type": "code",
   "execution_count": 16,
   "id": "793412b6-af3e-4493-9bd2-05fbbbfbc1d4",
   "metadata": {},
   "outputs": [
    {
     "name": "stdout",
     "output_type": "stream",
     "text": [
      "[4, 16, 36, 64, 100]\n"
     ]
    }
   ],
   "source": [
    "def squares_of_even_numbers(numbers):\n",
    "    # Generate squares of even numbers using list comprehension\n",
    "    return [x**2 for x in numbers if x % 2 == 0]\n",
    "\n",
    "# Example usage:\n",
    "given_list = [1, 2, 3, 4, 5, 6, 7, 8, 9, 10]\n",
    "result = squares_of_even_numbers(given_list)\n",
    "print(result)  # Output: [4, 16, 36, 64, 100]\n"
   ]
  },
  {
   "cell_type": "markdown",
   "id": "fc87c317-3f1a-4f5b-ad2a-81ca43a79604",
   "metadata": {},
   "source": [
    "## 18.Write a code that calculates the product of positive numbers from a given list."
   ]
  },
  {
   "cell_type": "code",
   "execution_count": 17,
   "id": "0dd80779-f906-43fe-97bd-5456e0a801a9",
   "metadata": {},
   "outputs": [
    {
     "name": "stdout",
     "output_type": "stream",
     "text": [
      "30\n"
     ]
    }
   ],
   "source": [
    "from functools import reduce\n",
    "\n",
    "def product_of_positive_numbers(numbers):\n",
    "    # Filter positive numbers and calculate their product using reduce\n",
    "    positive_numbers = [x for x in numbers if x > 0]\n",
    "    if not positive_numbers:\n",
    "        return 0  # Return 0 if there are no positive numbers\n",
    "    return reduce(lambda a, b: a * b, positive_numbers)\n",
    "\n",
    "# Example usage:\n",
    "given_list = [-1, 2, 3, -4, 5, -6, 0]\n",
    "result = product_of_positive_numbers(given_list)\n",
    "print(result)  # Output: 30\n"
   ]
  },
  {
   "cell_type": "markdown",
   "id": "f0cb169d-8525-4c7c-a481-a1bc39c80da2",
   "metadata": {},
   "source": [
    "## 19.Write a code that doubles the values of odd numbers from a given list."
   ]
  },
  {
   "cell_type": "code",
   "execution_count": 18,
   "id": "6963e9ce-85d9-4f62-a015-b654da6aecf5",
   "metadata": {},
   "outputs": [
    {
     "name": "stdout",
     "output_type": "stream",
     "text": [
      "[2, 2, 6, 4, 10, 6, 14, 8, 18, 10]\n"
     ]
    }
   ],
   "source": [
    "def double_odd_numbers(numbers):\n",
    "    # Double the odd numbers using list comprehension\n",
    "    return [x * 2 if x % 2 != 0 else x for x in numbers]\n",
    "\n",
    "# Example usage:\n",
    "given_list = [1, 2, 3, 4, 5, 6, 7, 8, 9, 10]\n",
    "result = double_odd_numbers(given_list)\n",
    "print(result)  # Output: [2, 2, 6, 4, 10, 6, 14, 8, 18, 10]\n"
   ]
  },
  {
   "cell_type": "markdown",
   "id": "dd0b7345-888b-4f6e-a673-aa394bbc5831",
   "metadata": {},
   "source": [
    "## 20.Write a code that calculates the sum of cubes of numbers from a given list."
   ]
  },
  {
   "cell_type": "code",
   "execution_count": 19,
   "id": "cccde962-b184-4250-a189-d04cb85cec9b",
   "metadata": {},
   "outputs": [
    {
     "name": "stdout",
     "output_type": "stream",
     "text": [
      "225\n"
     ]
    }
   ],
   "source": [
    "def sum_of_cubes(numbers):\n",
    "    # Calculate the sum of cubes using list comprehension and sum function\n",
    "    return sum(x**3 for x in numbers)\n",
    "\n",
    "# Example usage:\n",
    "given_list = [1, 2, 3, 4, 5]\n",
    "result = sum_of_cubes(given_list)\n",
    "print(result)  # Output: 225\n"
   ]
  },
  {
   "cell_type": "markdown",
   "id": "44cd6d31-ef34-4bb4-8ac4-11c9ebc46fd2",
   "metadata": {},
   "source": [
    "## 21.Write a code that filters out prime numbers from a given list."
   ]
  },
  {
   "cell_type": "code",
   "execution_count": 20,
   "id": "e0a14ec5-cdd9-4b21-914a-d4e856cd9977",
   "metadata": {},
   "outputs": [
    {
     "name": "stdout",
     "output_type": "stream",
     "text": [
      "[4, 6, 8, 9, 10]\n"
     ]
    }
   ],
   "source": [
    "def is_prime(n):\n",
    "    \"\"\"Check if a number is prime.\"\"\"\n",
    "    if n <= 1:\n",
    "        return False\n",
    "    for i in range(2, int(n**0.5) + 1):\n",
    "        if n % i == 0:\n",
    "            return False\n",
    "    return True\n",
    "\n",
    "def filter_primes(numbers):\n",
    "    # Filter out prime numbers using list comprehension\n",
    "    return [x for x in numbers if not is_prime(x)]\n",
    "\n",
    "# Example usage:\n",
    "given_list = [2, 3, 4, 5, 6, 7, 8, 9, 10, 11]\n",
    "result = filter_primes(given_list)\n",
    "print(result)  # Output: [4, 6, 8, 9, 10]\n"
   ]
  },
  {
   "cell_type": "markdown",
   "id": "8096beb7-3234-4f39-9950-c61c431d91b3",
   "metadata": {},
   "source": [
    "## 22,23,24,25,26 are all repeat ,so all these questions already done above"
   ]
  },
  {
   "cell_type": "markdown",
   "id": "647f1a20-8efc-4562-9f85-b69cbd6a0055",
   "metadata": {},
   "source": [
    "## 27.What is encapsulation in OOP?"
   ]
  },
  {
   "cell_type": "markdown",
   "id": "9748b718-61f4-4e37-934c-8d00160a88ed",
   "metadata": {},
   "source": [
    "Encapsulation in Object-Oriented Programming (OOP) is the concept of bundling data (attributes) and methods that operate on the data within a single unit or class, restricting direct access to some of an object's components and protecting the integrity of the data."
   ]
  },
  {
   "cell_type": "code",
   "execution_count": 21,
   "id": "19a91543-5b1b-4243-8bd1-23bbaf644c2a",
   "metadata": {},
   "outputs": [
    {
     "name": "stdout",
     "output_type": "stream",
     "text": [
      "Alice\n"
     ]
    }
   ],
   "source": [
    "class Person:\n",
    "    def __init__(self, name, age):\n",
    "        self.__name = name  # Private attribute\n",
    "        self.__age = age    # Private attribute\n",
    "\n",
    "    def get_name(self):\n",
    "        return self.__name  # Getter method\n",
    "\n",
    "    def set_age(self, age):\n",
    "        if age > 0:\n",
    "            self.__age = age  # Setter method\n",
    "        else:\n",
    "            print(\"Invalid age\")\n",
    "\n",
    "# Example usage:\n",
    "p = Person(\"Alice\", 30)\n",
    "print(p.get_name())  # Output: Alice\n",
    "p.set_age(35)        # Sets age to 35\n"
   ]
  },
  {
   "cell_type": "markdown",
   "id": "9a867ab2-718b-4459-8ae9-9514aefc7a6f",
   "metadata": {},
   "source": [
    "## 28.Explain the use of access modifiers in Python classes."
   ]
  },
  {
   "cell_type": "markdown",
   "id": "9832e533-5661-4fe2-88d2-be5fb7bcc15c",
   "metadata": {},
   "source": [
    "In Python, access modifiers are used to control the accessibility of class attributes and methods. Python has three types of access modifiers:\n",
    "\n",
    "**Public (no underscore)**: Members are accessible from anywhere, both inside and outside the class.\n",
    "\n",
    "**Protected (_single underscore)**: Members are accessible within the class and its subclasses. They are meant to be used within the class or derived classes, but not considered truly private.\n",
    "\n",
    "**Private (__double underscore)**: Members are accessible only within the class itself. They are not accessible directly from outside the class and are intended to restrict access to the internal implementation details of the class."
   ]
  },
  {
   "cell_type": "code",
   "execution_count": 22,
   "id": "5b8999be-58bd-4e97-a457-cd51064f19c6",
   "metadata": {},
   "outputs": [
    {
     "name": "stdout",
     "output_type": "stream",
     "text": [
      "I am Public\n",
      "I am Protected\n",
      "I am Private\n"
     ]
    }
   ],
   "source": [
    "class Example:\n",
    "    # Public attribute\n",
    "    public_var = \"I am Public\"\n",
    "    \n",
    "    # Protected attribute\n",
    "    _protected_var = \"I am Protected\"\n",
    "    \n",
    "    # Private attribute\n",
    "    __private_var = \"I am Private\"\n",
    "\n",
    "    def display(self):\n",
    "        print(self.public_var)       # Accessible inside the class\n",
    "        print(self._protected_var)   # Accessible inside the class\n",
    "        print(self.__private_var)    # Accessible inside the class\n",
    "\n",
    "# Example usage:\n",
    "obj = Example()\n",
    "\n",
    "# Accessing public member\n",
    "print(obj.public_var)  # Output: I am Public\n",
    "\n",
    "# Accessing protected member (not recommended)\n",
    "print(obj._protected_var)  # Output: I am Protected\n",
    "\n",
    "# Accessing private member (raises an AttributeError)\n",
    "# print(obj.__private_var)  # Uncommenting this line will raise an AttributeError\n",
    "\n",
    "# Private members can still be accessed using name mangling\n",
    "print(obj._Example__private_var)  # Output: I am Private\n"
   ]
  },
  {
   "cell_type": "markdown",
   "id": "02e849a5-ab72-482a-b91c-28f111796969",
   "metadata": {},
   "source": [
    "## 29.What is inheritance in OOP?"
   ]
  },
  {
   "cell_type": "markdown",
   "id": "e4a59410-5f23-42df-9b64-96fa12f12e7a",
   "metadata": {},
   "source": [
    "Inheritance in Object-Oriented Programming (OOP) is a mechanism where a new class, called a child class (or subclass), derives or inherits attributes and methods from an existing class, called a parent class (or superclass). This allows for code reusability and the creation of a hierarchical relationship between classes."
   ]
  },
  {
   "cell_type": "code",
   "execution_count": 23,
   "id": "38091559-a0dd-43cf-ace7-cfb05b83c97b",
   "metadata": {},
   "outputs": [
    {
     "name": "stdout",
     "output_type": "stream",
     "text": [
      "Woof!\n"
     ]
    }
   ],
   "source": [
    "# Parent class\n",
    "class Animal:\n",
    "    def make_sound(self):\n",
    "        print(\"Generic animal sound\")\n",
    "\n",
    "# Child class inheriting from Animal\n",
    "class Dog(Animal):\n",
    "    def make_sound(self):\n",
    "        print(\"Woof!\")  # Overriding the parent class method\n",
    "\n",
    "# Example usage:\n",
    "my_dog = Dog()\n",
    "my_dog.make_sound()  # Output: Woof!\n"
   ]
  },
  {
   "cell_type": "markdown",
   "id": "3bfc7c8d-8c04-4335-86b2-1664905c36d7",
   "metadata": {},
   "source": [
    "## 30.Define polymorphism in OOP."
   ]
  },
  {
   "cell_type": "markdown",
   "id": "3a7a7a49-aa84-4cf3-899b-42665ccdca23",
   "metadata": {},
   "source": [
    "Polymorphism in Object-Oriented Programming (OOP) allows objects of different classes to be treated as objects of a common superclass. It enables a single function or method to operate in different ways depending on the object it is called on."
   ]
  },
  {
   "cell_type": "code",
   "execution_count": 24,
   "id": "6b59ba3d-dd96-4d75-8aa2-74f0ea64f8d7",
   "metadata": {},
   "outputs": [
    {
     "name": "stdout",
     "output_type": "stream",
     "text": [
      "Bark\n",
      "Meow\n"
     ]
    }
   ],
   "source": [
    "class Animal:\n",
    "    def makeSound(self):\n",
    "        pass\n",
    "\n",
    "class Dog(Animal):\n",
    "    def makeSound(self):\n",
    "        return \"Bark\"\n",
    "\n",
    "class Cat(Animal):\n",
    "    def makeSound(self):\n",
    "        return \"Meow\"\n",
    "\n",
    "animals = [Dog(), Cat()]\n",
    "\n",
    "for animal in animals:\n",
    "    print(animal.makeSound())\n"
   ]
  },
  {
   "cell_type": "markdown",
   "id": "814d879c-3bab-47f3-ad10-c40e332ecb83",
   "metadata": {},
   "source": [
    "## 31.Explain method overriding in Python."
   ]
  },
  {
   "cell_type": "markdown",
   "id": "44bd3cde-b5a9-49ec-9809-b61d4e0360d7",
   "metadata": {},
   "source": [
    "Method overriding in Python occurs when a subclass provides a specific implementation of a method that is already defined in its superclass. This allows the subclass to customize or extend the behavior of the inherited method.\n",
    "\n",
    "How It Works:\n",
    "\n",
    "**Inheritance:** A subclass inherits methods from its superclass.\n",
    "\n",
    "**Override:** The subclass defines a method with the same name as the one in the superclass.\n",
    "\n",
    "**Execution:** When the method is called on an instance of the subclass, the overridden method in the subclass is executed, not the one in the superclass."
   ]
  },
  {
   "cell_type": "code",
   "execution_count": 25,
   "id": "1a08c4ad-84af-43ff-a1fa-d368f9e69e35",
   "metadata": {},
   "outputs": [
    {
     "name": "stdout",
     "output_type": "stream",
     "text": [
      "Hello from Parent\n",
      "Hello from Child\n"
     ]
    }
   ],
   "source": [
    "class Parent:\n",
    "    def greet(self):\n",
    "        print(\"Hello from Parent\")\n",
    "\n",
    "class Child(Parent):\n",
    "    def greet(self):\n",
    "        print(\"Hello from Child\")\n",
    "\n",
    "# Create instances of Parent and Child\n",
    "p = Parent()\n",
    "c = Child()\n",
    "\n",
    "# Call greet method\n",
    "p.greet()  # Output: Hello from Parent\n",
    "c.greet()  # Output: Hello from Child\n"
   ]
  },
  {
   "cell_type": "markdown",
   "id": "d47e3690-6213-4d28-9617-c317ef150a33",
   "metadata": {},
   "source": [
    "## 32.Define a parent class Animal with a method make_sound that prints \"Generic animal sound\". Create a child class Dog inheriting from Animal with a method make_sound that prints \"Woof!\"."
   ]
  },
  {
   "cell_type": "code",
   "execution_count": 26,
   "id": "314e0378-f576-40d1-a3d2-7cd7901e2d25",
   "metadata": {},
   "outputs": [
    {
     "name": "stdout",
     "output_type": "stream",
     "text": [
      "Generic animal sound\n",
      "Woof!\n"
     ]
    }
   ],
   "source": [
    "class Animal:\n",
    "    def make_sound(self):\n",
    "        print(\"Generic animal sound\")\n",
    "\n",
    "class Dog(Animal):\n",
    "    def make_sound(self):\n",
    "        print(\"Woof!\")\n",
    "\n",
    "# Example usage\n",
    "a = Animal()\n",
    "d = Dog()\n",
    "\n",
    "a.make_sound()  # Output: Generic animal sound\n",
    "d.make_sound()  # Output: Woof!\n"
   ]
  },
  {
   "cell_type": "markdown",
   "id": "3f8592cc-ba98-4c8c-aabf-c370fc6abf92",
   "metadata": {},
   "source": [
    "## 33.Define a method move in the Animal class that prints \"Animal moves\". Override the move method in the Dog class to print \"Dog runs\"."
   ]
  },
  {
   "cell_type": "code",
   "execution_count": 28,
   "id": "ba2c6785-7d4d-42cc-84d5-771fd3784a5b",
   "metadata": {},
   "outputs": [
    {
     "name": "stdout",
     "output_type": "stream",
     "text": [
      "Animal moves\n",
      "Dog runs\n"
     ]
    }
   ],
   "source": [
    "class Animal:\n",
    "    def move(self):\n",
    "        print(\"Animal moves\")\n",
    "\n",
    "class Dog(Animal):\n",
    "    def move(self):\n",
    "        print(\"Dog runs\")\n",
    "\n",
    "# Example usage\n",
    "a = Animal()\n",
    "d = Dog()\n",
    "\n",
    "a.move()  # Output: Animal moves\n",
    "d.move()  # Output: Dog runs\n"
   ]
  },
  {
   "cell_type": "markdown",
   "id": "90152e27-1215-40df-87e8-3e22e1170a9b",
   "metadata": {},
   "source": [
    "## 34.Create a class Mammal with a method reproduce that prints \"Giving birth to live young.\" Create a class DogMammal inheriting from both Dog and Mammal."
   ]
  },
  {
   "cell_type": "code",
   "execution_count": 29,
   "id": "b2524b98-60ce-44a7-a78a-208a6208de3c",
   "metadata": {},
   "outputs": [
    {
     "name": "stdout",
     "output_type": "stream",
     "text": [
      "Dog runs\n",
      "Giving birth to live young.\n"
     ]
    }
   ],
   "source": [
    "class Animal:\n",
    "    def move(self):\n",
    "        print(\"Animal moves\")\n",
    "\n",
    "class Dog(Animal):\n",
    "    def move(self):\n",
    "        print(\"Dog runs\")\n",
    "\n",
    "class Mammal:\n",
    "    def reproduce(self):\n",
    "        print(\"Giving birth to live young.\")\n",
    "\n",
    "class DogMammal(Dog, Mammal):\n",
    "    pass\n",
    "\n",
    "# Example usage\n",
    "dm = DogMammal()\n",
    "\n",
    "dm.move()        # Output: Dog runs\n",
    "dm.reproduce()   # Output: Giving birth to live young.\n"
   ]
  },
  {
   "cell_type": "markdown",
   "id": "b71a4071-2bf5-47f5-b72a-9156e50ef87f",
   "metadata": {},
   "source": [
    "## 35.Create a class GermanShepherd inheriting from Dog and override the make_sound method to print \"Bark!\"."
   ]
  },
  {
   "cell_type": "code",
   "execution_count": 30,
   "id": "197e5db4-a5cc-48c2-a76b-9b1a42498fdf",
   "metadata": {},
   "outputs": [
    {
     "name": "stdout",
     "output_type": "stream",
     "text": [
      "Dog runs\n",
      "Bark!\n"
     ]
    }
   ],
   "source": [
    "class Animal:\n",
    "    def move(self):\n",
    "        print(\"Animal moves\")\n",
    "\n",
    "class Dog(Animal):\n",
    "    def move(self):\n",
    "        print(\"Dog runs\")\n",
    "    def make_sound(self):\n",
    "        print(\"Generic dog sound\")\n",
    "\n",
    "class GermanShepherd(Dog):\n",
    "    def make_sound(self):\n",
    "        print(\"Bark!\")\n",
    "\n",
    "# Example usage\n",
    "gs = GermanShepherd()\n",
    "\n",
    "gs.move()        # Output: Dog runs\n",
    "gs.make_sound()  # Output: Bark!\n"
   ]
  },
  {
   "cell_type": "markdown",
   "id": "96587309-d481-4beb-a36f-bacf90befd6b",
   "metadata": {},
   "source": [
    "## 36.Define constructors in both the Animal and Dog classes with different initialization parameters."
   ]
  },
  {
   "cell_type": "code",
   "execution_count": 31,
   "id": "c98b974f-7903-4849-a86f-1154a56d3a21",
   "metadata": {},
   "outputs": [
    {
     "name": "stdout",
     "output_type": "stream",
     "text": [
      "Lion\n",
      "Lion moves\n",
      "German Shepherd\n",
      "German Shepherd runs\n",
      "Generic dog sound\n"
     ]
    }
   ],
   "source": [
    "class Animal:\n",
    "    def __init__(self, species):\n",
    "        self.species = species\n",
    "    \n",
    "    def move(self):\n",
    "        print(f\"{self.species} moves\")\n",
    "\n",
    "class Dog(Animal):\n",
    "    def __init__(self, breed, species=\"Dog\"):\n",
    "        super().__init__(species)\n",
    "        self.breed = breed\n",
    "    \n",
    "    def move(self):\n",
    "        print(f\"{self.breed} runs\")\n",
    "    \n",
    "    def make_sound(self):\n",
    "        print(\"Generic dog sound\")\n",
    "\n",
    "# Example usage\n",
    "a = Animal(\"Lion\")\n",
    "d = Dog(breed=\"German Shepherd\")\n",
    "\n",
    "print(a.species)    # Output: Lion\n",
    "a.move()            # Output: Lion moves\n",
    "\n",
    "print(d.breed)      # Output: German Shepherd\n",
    "d.move()            # Output: German Shepherd runs\n",
    "d.make_sound()     # Output: Generic dog sound\n"
   ]
  },
  {
   "cell_type": "markdown",
   "id": "31d10f12-2b62-491a-b105-69f9a121b4f5",
   "metadata": {},
   "source": [
    "## 37.What is abstraction in Python? How is it implemented?"
   ]
  },
  {
   "cell_type": "markdown",
   "id": "d327fe7a-f238-4cee-83f8-e4075af506c5",
   "metadata": {},
   "source": [
    "Abstraction in Python is a concept that allows you to hide complex implementation details and show only the necessary features of an object. It helps in reducing complexity by focusing on the high-level functionalities rather than the underlying implementation.\n",
    "\n",
    "Implementation of Abstraction:\n",
    "\n",
    "**Abstract Base Classes (ABCs):** Python provides the abc module (Abstract Base Classes) to define abstract classes. An abstract class can contain abstract methods, which are methods that must be implemented by any subclass.\n",
    "\n",
    "**Abstract Methods:** These are methods defined in an abstract class but without an implementation. Subclasses that inherit from an abstract class must provide implementations for these abstract methods."
   ]
  },
  {
   "cell_type": "code",
   "execution_count": 32,
   "id": "f3278cc8-a97b-4375-9c66-5ad4c310a13c",
   "metadata": {},
   "outputs": [
    {
     "name": "stdout",
     "output_type": "stream",
     "text": [
      "Woof!\n",
      "Dog runs\n"
     ]
    }
   ],
   "source": [
    "from abc import ABC, abstractmethod\n",
    "\n",
    "class Animal(ABC):\n",
    "    @abstractmethod\n",
    "    def make_sound(self):\n",
    "        pass\n",
    "\n",
    "    @abstractmethod\n",
    "    def move(self):\n",
    "        pass\n",
    "\n",
    "class Dog(Animal):\n",
    "    def make_sound(self):\n",
    "        print(\"Woof!\")\n",
    "\n",
    "    def move(self):\n",
    "        print(\"Dog runs\")\n",
    "\n",
    "# Example usage\n",
    "d = Dog()\n",
    "d.make_sound()  # Output: Woof!\n",
    "d.move()        # Output: Dog runs\n",
    "\n",
    "# Uncommenting the following line will raise an error because you cannot instantiate an abstract class\n",
    "# a = Animal()\n"
   ]
  },
  {
   "cell_type": "markdown",
   "id": "3dd049e3-05a4-4b99-8df5-a9b7e31f3b56",
   "metadata": {},
   "source": [
    "## 38.Explain the importance of abstraction in object-oriented programming."
   ]
  },
  {
   "cell_type": "markdown",
   "id": "4f874636-529c-4660-9d1e-347e1fcb8715",
   "metadata": {},
   "source": [
    "Abstraction in object-oriented programming simplifies complexity by hiding implementation details and exposing only necessary features. It improves code reusability, maintainability, and flexibility by allowing developers to focus on what an object does rather than how it does it. This approach also supports modular design and encourages the use of common interfaces across different classes."
   ]
  },
  {
   "cell_type": "markdown",
   "id": "0756f4ce-bf29-4bf3-8388-0136118c276c",
   "metadata": {},
   "source": [
    "## 39.How are abstract methods different from regular methods in Python?"
   ]
  },
  {
   "cell_type": "markdown",
   "id": "e7699a45-634f-4deb-90c8-e592fbcaeff8",
   "metadata": {},
   "source": [
    "Abstract methods in Python are defined in abstract classes and lack implementations; they must be implemented by any subclass. Regular methods have full implementations and can be used directly or overridden in subclasses."
   ]
  },
  {
   "cell_type": "markdown",
   "id": "65b98af6-67ef-47af-9dc6-ee57a665e316",
   "metadata": {},
   "source": [
    "## 40.How can you achieve abstraction using interfaces in Python?"
   ]
  },
  {
   "cell_type": "code",
   "execution_count": 33,
   "id": "9a24f3ad-ef01-4a98-b7e0-dea4087547b6",
   "metadata": {},
   "outputs": [
    {
     "name": "stdout",
     "output_type": "stream",
     "text": [
      "Implementation of method\n"
     ]
    }
   ],
   "source": [
    "from abc import ABC, abstractmethod\n",
    "\n",
    "class Interface(ABC):\n",
    "    @abstractmethod\n",
    "    def method(self):\n",
    "        pass\n",
    "\n",
    "class ConcreteClass(Interface):\n",
    "    def method(self):\n",
    "        print(\"Implementation of method\")\n",
    "\n",
    "# Example usage\n",
    "obj = ConcreteClass()\n",
    "obj.method()  # Output: Implementation of method\n"
   ]
  },
  {
   "cell_type": "markdown",
   "id": "b9742a7d-bbf2-4673-9384-3e87b3ba3b49",
   "metadata": {},
   "source": [
    "## 41.Can you provide an example of how abstraction can be utilized to create a common interface for a group of related classes in Python?"
   ]
  },
  {
   "cell_type": "code",
   "execution_count": 34,
   "id": "d2bfef16-db7e-4a36-9485-513703bdc8c4",
   "metadata": {},
   "outputs": [
    {
     "name": "stdout",
     "output_type": "stream",
     "text": [
      "Area: 78.53981633974483\n",
      "Area: 24\n"
     ]
    }
   ],
   "source": [
    "from abc import ABC, abstractmethod\n",
    "import math\n",
    "\n",
    "class Shape(ABC):\n",
    "    @abstractmethod\n",
    "    def area(self):\n",
    "        pass\n",
    "\n",
    "class Circle(Shape):\n",
    "    def __init__(self, radius):\n",
    "        self.radius = radius\n",
    "\n",
    "    def area(self):\n",
    "        return math.pi * self.radius ** 2\n",
    "\n",
    "class Rectangle(Shape):\n",
    "    def __init__(self, width, height):\n",
    "        self.width = width\n",
    "        self.height = height\n",
    "\n",
    "    def area(self):\n",
    "        return self.width * self.height\n",
    "\n",
    "# Example usage\n",
    "shapes = [Circle(radius=5), Rectangle(width=4, height=6)]\n",
    "\n",
    "for shape in shapes:\n",
    "    print(f\"Area: {shape.area()}\")\n"
   ]
  },
  {
   "cell_type": "markdown",
   "id": "1a69ab3a-d670-45db-8c3a-e68c0e15dde9",
   "metadata": {},
   "source": [
    "## 42.How does Python achieve polymorphism through method overriding?"
   ]
  },
  {
   "cell_type": "code",
   "execution_count": 35,
   "id": "20fa444d-54ad-42bb-8992-70ffbb472c88",
   "metadata": {},
   "outputs": [
    {
     "name": "stdout",
     "output_type": "stream",
     "text": [
      "Woof!\n",
      "Meow\n"
     ]
    }
   ],
   "source": [
    "class Animal:\n",
    "    def make_sound(self):\n",
    "        print(\"Some generic animal sound\")\n",
    "\n",
    "class Dog(Animal):\n",
    "    def make_sound(self):\n",
    "        print(\"Woof!\")\n",
    "\n",
    "class Cat(Animal):\n",
    "    def make_sound(self):\n",
    "        print(\"Meow\")\n",
    "\n",
    "# Example usage\n",
    "animals = [Dog(), Cat()]\n",
    "\n",
    "for animal in animals:\n",
    "    animal.make_sound()\n"
   ]
  },
  {
   "cell_type": "markdown",
   "id": "f9c745a5-93e5-46e1-9ab9-33644dc2d560",
   "metadata": {},
   "source": [
    "## 43.Define a base class with a method and a subclass that overrides the method."
   ]
  },
  {
   "cell_type": "code",
   "execution_count": 36,
   "id": "759b78ac-9cd5-403a-8f30-18f3a171f4a7",
   "metadata": {},
   "outputs": [
    {
     "name": "stdout",
     "output_type": "stream",
     "text": [
      "Starting the vehicle's engine\n",
      "Starting the car's engine\n"
     ]
    }
   ],
   "source": [
    "class Vehicle:\n",
    "    def start_engine(self):\n",
    "        print(\"Starting the vehicle's engine\")\n",
    "\n",
    "class Car(Vehicle):\n",
    "    def start_engine(self):\n",
    "        print(\"Starting the car's engine\")\n",
    "\n",
    "# Example usage\n",
    "v = Vehicle()\n",
    "c = Car()\n",
    "\n",
    "v.start_engine()  # Output: Starting the vehicle's engine\n",
    "c.start_engine()  # Output: Starting the car's engine\n"
   ]
  },
  {
   "cell_type": "markdown",
   "id": "a31cbc92-e900-4791-b4d4-949f6a7943c6",
   "metadata": {},
   "source": [
    "## 44.Define a base class and multiple subclasses with overridden methods."
   ]
  },
  {
   "cell_type": "code",
   "execution_count": 37,
   "id": "2dad37b0-9194-4263-bb85-1167e1e350d8",
   "metadata": {},
   "outputs": [
    {
     "name": "stdout",
     "output_type": "stream",
     "text": [
      "Drawing a circle\n",
      "Drawing a rectangle\n",
      "Drawing a triangle\n"
     ]
    }
   ],
   "source": [
    "class Shape:\n",
    "    def draw(self):\n",
    "        print(\"Drawing a shape\")\n",
    "\n",
    "class Circle(Shape):\n",
    "    def draw(self):\n",
    "        print(\"Drawing a circle\")\n",
    "\n",
    "class Rectangle(Shape):\n",
    "    def draw(self):\n",
    "        print(\"Drawing a rectangle\")\n",
    "\n",
    "class Triangle(Shape):\n",
    "    def draw(self):\n",
    "        print(\"Drawing a triangle\")\n",
    "\n",
    "# Example usage\n",
    "shapes = [Circle(), Rectangle(), Triangle()]\n",
    "\n",
    "for shape in shapes:\n",
    "    shape.draw()\n"
   ]
  },
  {
   "cell_type": "markdown",
   "id": "485a9202-d96c-49f5-962f-fad0e7a9f940",
   "metadata": {},
   "source": [
    "## 45.How does polymorphism improve code readability and reusability?"
   ]
  },
  {
   "cell_type": "markdown",
   "id": "0385289b-5328-44de-9afb-697ab3dc5a3e",
   "metadata": {},
   "source": [
    "Polymorphism improves code readability and reusability by allowing different classes to use a common interface. This simplifies the code, making it easier to understand and maintain, while also enabling code to work with new subclasses without modification."
   ]
  },
  {
   "cell_type": "code",
   "execution_count": 38,
   "id": "9957544a-32ac-4fa6-a348-a2434f9c8ba4",
   "metadata": {},
   "outputs": [
    {
     "name": "stdout",
     "output_type": "stream",
     "text": [
      "Woof!\n",
      "Meow\n"
     ]
    }
   ],
   "source": [
    "class Animal:\n",
    "    def make_sound(self):\n",
    "        pass\n",
    "\n",
    "class Dog(Animal):\n",
    "    def make_sound(self):\n",
    "        return \"Woof!\"\n",
    "\n",
    "class Cat(Animal):\n",
    "    def make_sound(self):\n",
    "        return \"Meow\"\n",
    "\n",
    "def print_animal_sound(animal):\n",
    "    print(animal.make_sound())\n",
    "\n",
    "# Example usage\n",
    "animals = [Dog(), Cat()]\n",
    "\n",
    "for animal in animals:\n",
    "    print_animal_sound(animal)\n"
   ]
  },
  {
   "cell_type": "markdown",
   "id": "38667f18-03be-4a02-845a-64bf118c429b",
   "metadata": {},
   "source": [
    "## 46.Describe how Python supports polymorphism with duck typing."
   ]
  },
  {
   "cell_type": "markdown",
   "id": "ffae8c04-6897-479a-a30a-7bb485e70be5",
   "metadata": {},
   "source": [
    "Python supports polymorphism through duck typing, which means that an object's suitability for a particular use is determined by its behavior (methods and properties) rather than its explicit type.\n",
    "\n",
    "In essence, if an object implements the necessary methods or behaviors, it can be used interchangeably, regardless of its actual class. This allows for flexible and dynamic code where type checking is done at runtime based on the object's capabilities."
   ]
  },
  {
   "cell_type": "code",
   "execution_count": 39,
   "id": "6a069ccc-e55b-40a1-a48a-81efcd181771",
   "metadata": {},
   "outputs": [
    {
     "name": "stdout",
     "output_type": "stream",
     "text": [
      "Quack!\n",
      "I'm pretending to be a duck!\n"
     ]
    }
   ],
   "source": [
    "class Duck:\n",
    "    def quack(self):\n",
    "        print(\"Quack!\")\n",
    "\n",
    "class Person:\n",
    "    def quack(self):\n",
    "        print(\"I'm pretending to be a duck!\")\n",
    "\n",
    "def make_it_quack(thing):\n",
    "    thing.quack()\n",
    "\n",
    "# Example usage\n",
    "duck = Duck()\n",
    "person = Person()\n",
    "\n",
    "make_it_quack(duck)   # Output: Quack!\n",
    "make_it_quack(person) # Output: I'm pretending to be a duck!\n"
   ]
  },
  {
   "cell_type": "markdown",
   "id": "8af7706e-47f0-42cd-a6af-e26ee714dd2d",
   "metadata": {},
   "source": [
    "## 47.How do you achieve encapsulation in Python?"
   ]
  },
  {
   "cell_type": "code",
   "execution_count": 40,
   "id": "1fcb8cbb-ef77-4d41-b3ae-ce2af9da3232",
   "metadata": {},
   "outputs": [
    {
     "name": "stdout",
     "output_type": "stream",
     "text": [
      "Name: Alice, Age: 30\n",
      "30\n",
      "Name: Alice, Age: 35\n",
      "Alice\n"
     ]
    }
   ],
   "source": [
    "class Person:\n",
    "    def __init__(self, name, age):\n",
    "        self._name = name  # Protected attribute\n",
    "        self.__age = age   # Private attribute\n",
    "\n",
    "    # Getter method for __age\n",
    "    def get_age(self):\n",
    "        return self.__age\n",
    "\n",
    "    # Setter method for __age\n",
    "    def set_age(self, age):\n",
    "        if age > 0:\n",
    "            self.__age = age\n",
    "        else:\n",
    "            print(\"Age must be positive.\")\n",
    "\n",
    "    def display(self):\n",
    "        print(f\"Name: {self._name}, Age: {self.__age}\")\n",
    "\n",
    "# Example usage\n",
    "person = Person(\"Alice\", 30)\n",
    "person.display()           # Output: Name: Alice, Age: 30\n",
    "\n",
    "print(person.get_age())    # Output: 30\n",
    "person.set_age(35)\n",
    "person.display()           # Output: Name: Alice, Age: 35\n",
    "\n",
    "# Direct access (not recommended)\n",
    "print(person._name)        # Output: Alice\n",
    "# print(person.__age)      # AttributeError: 'Person' object has no attribute '__age'\n"
   ]
  },
  {
   "cell_type": "markdown",
   "id": "9c22fa0d-ec5e-4693-b2b8-d7a9b453c6a0",
   "metadata": {},
   "source": [
    "## 48.Can encapsulation be bypassed in Python? If so, how?"
   ]
  },
  {
   "cell_type": "markdown",
   "id": "527a6eee-45c5-476a-be3c-d6ceb0ef84c6",
   "metadata": {},
   "source": [
    "\n",
    "Yes, encapsulation can be bypassed in Python due to its flexible and dynamic nature. Although encapsulation is enforced through naming conventions and access control mechanisms, it is not as strict as in some other languages. Here’s how encapsulation can be bypassed:\n",
    "\n",
    "**Accessing Protected Attributes:** Attributes prefixed with a single underscore (_) are meant to be protected but can still be accessed from outside the class.\n",
    "\n",
    "**Accessing Private Attributes:** Attributes prefixed with double underscores (__) are intended to be private, but Python uses name mangling to make them harder to access, not completely inaccessible. You can still access them using their mangled names."
   ]
  },
  {
   "cell_type": "code",
   "execution_count": 41,
   "id": "157fffbe-7d88-4406-ab8c-e63d8ff28c1c",
   "metadata": {},
   "outputs": [
    {
     "name": "stdout",
     "output_type": "stream",
     "text": [
      "Protected\n",
      "Private\n"
     ]
    }
   ],
   "source": [
    "class Example:\n",
    "    def __init__(self):\n",
    "        self._protected = \"Protected\"\n",
    "        self.__private = \"Private\"\n",
    "\n",
    "example = Example()\n",
    "\n",
    "# Accessing protected attribute\n",
    "print(example._protected)  # Output: Protected\n",
    "\n",
    "# Accessing private attribute (bypassing encapsulation)\n",
    "print(example._Example__private)  # Output: Private\n"
   ]
  },
  {
   "cell_type": "markdown",
   "id": "52d93397-8d9d-47e6-9bd3-e3440dfd73e1",
   "metadata": {},
   "source": [
    "## 49.Implement a class BankAccount with a private balance attribute. Include methods to deposit, withdraw, and check the balance."
   ]
  },
  {
   "cell_type": "code",
   "execution_count": 42,
   "id": "2ceaa586-6ded-42b0-8627-eaaffad16bf9",
   "metadata": {},
   "outputs": [
    {
     "name": "stdout",
     "output_type": "stream",
     "text": [
      "Current balance: $100\n",
      "Deposited: $50\n",
      "Withdrew: $30\n",
      "Current balance: $120\n"
     ]
    }
   ],
   "source": [
    "class BankAccount:\n",
    "    def __init__(self, initial_balance=0):\n",
    "        self.__balance = initial_balance  # Private attribute\n",
    "\n",
    "    def deposit(self, amount):\n",
    "        if amount > 0:\n",
    "            self.__balance += amount\n",
    "            print(f\"Deposited: ${amount}\")\n",
    "        else:\n",
    "            print(\"Deposit amount must be positive.\")\n",
    "\n",
    "    def withdraw(self, amount):\n",
    "        if amount > 0:\n",
    "            if amount <= self.__balance:\n",
    "                self.__balance -= amount\n",
    "                print(f\"Withdrew: ${amount}\")\n",
    "            else:\n",
    "                print(\"Insufficient funds.\")\n",
    "        else:\n",
    "            print(\"Withdrawal amount must be positive.\")\n",
    "\n",
    "    def check_balance(self):\n",
    "        print(f\"Current balance: ${self.__balance}\")\n",
    "\n",
    "# Example usage\n",
    "account = BankAccount(100)  # Initial balance of $100\n",
    "\n",
    "account.check_balance()  # Output: Current balance: $100\n",
    "account.deposit(50)       # Output: Deposited: $50\n",
    "account.withdraw(30)      # Output: Withdrew: $30\n",
    "account.check_balance()  # Output: Current balance: $120\n",
    "\n",
    "# Attempting to directly access the private attribute (not recommended)\n",
    "# print(account.__balance)  # AttributeError: 'BankAccount' object has no attribute '__balance'\n"
   ]
  },
  {
   "cell_type": "markdown",
   "id": "87a3c4bb-d508-41c8-add5-7e0fc85a7455",
   "metadata": {},
   "source": [
    "## 50.Develop a Person class with private attributes name and email, and methods to set and get the email."
   ]
  },
  {
   "cell_type": "code",
   "execution_count": 43,
   "id": "e76b8062-6a06-4917-bab5-ca051f529ad1",
   "metadata": {},
   "outputs": [
    {
     "name": "stdout",
     "output_type": "stream",
     "text": [
      "alice@example.com\n",
      "Email updated successfully.\n",
      "alice.new@example.com\n"
     ]
    }
   ],
   "source": [
    "class Person:\n",
    "    def __init__(self, name, email):\n",
    "        self.__name = name      # Private attribute\n",
    "        self.__email = email    # Private attribute\n",
    "\n",
    "    def set_email(self, email):\n",
    "        if \"@\" in email and \".\" in email:\n",
    "            self.__email = email\n",
    "            print(\"Email updated successfully.\")\n",
    "        else:\n",
    "            print(\"Invalid email address.\")\n",
    "\n",
    "    def get_email(self):\n",
    "        return self.__email\n",
    "\n",
    "# Example usage\n",
    "person = Person(\"Alice\", \"alice@example.com\")\n",
    "\n",
    "# Accessing and updating the email\n",
    "print(person.get_email())  # Output: alice@example.com\n",
    "person.set_email(\"alice.new@example.com\")  # Output: Email updated successfully.\n",
    "print(person.get_email())  # Output: alice.new@example.com\n",
    "\n",
    "# Attempting to directly access private attributes (not recommended)\n",
    "# print(person.__name)   # AttributeError: 'Person' object has no attribute '__name'\n",
    "# print(person.__email)  # AttributeError: 'Person' object has no attribute '__email'\n"
   ]
  },
  {
   "cell_type": "markdown",
   "id": "56c4a0bb-df44-4168-9320-1c4441eee9b7",
   "metadata": {},
   "source": [
    "## 51.Why is encapsulation considered a pillar of object-oriented programming (OOP)?"
   ]
  },
  {
   "cell_type": "markdown",
   "id": "a9d4aa1b-ed02-4afe-a569-4b1b2aeec3d2",
   "metadata": {},
   "source": [
    "Encapsulation is considered a pillar of OOP because it bundles data and methods that operate on the data into a single unit (class), hiding internal details and exposing a controlled interface. This promotes data integrity, reduces complexity, and enhances modularity, making the system more maintainable and robust."
   ]
  },
  {
   "cell_type": "markdown",
   "id": "1cb0c4e3-29d6-47e5-b875-1f3ed26df7a9",
   "metadata": {},
   "source": [
    "## 52.Create a decorator in Python that adds functionality to a simple function by printing a message before and after the function execution."
   ]
  },
  {
   "cell_type": "code",
   "execution_count": 45,
   "id": "ef20f8f4-1bbc-4454-ac21-61fbdde54c7b",
   "metadata": {},
   "outputs": [
    {
     "name": "stdout",
     "output_type": "stream",
     "text": [
      "Before function execution\n",
      "Hello, Alice!\n",
      "After function execution\n"
     ]
    }
   ],
   "source": [
    "def my_decorator(func):\n",
    "    def wrapper(*args, **kwargs):\n",
    "        print(\"Before function execution\")\n",
    "        result = func(*args, **kwargs)\n",
    "        print(\"After function execution\")\n",
    "        return result\n",
    "    return wrapper\n",
    "\n",
    "@my_decorator\n",
    "def say_hello(name):\n",
    "    print(f\"Hello, {name}!\")\n",
    "\n",
    "# Example usage\n",
    "say_hello(\"Alice\")\n"
   ]
  },
  {
   "cell_type": "markdown",
   "id": "0eb50114-4e0c-4b45-b531-3ad5ccd4cbb1",
   "metadata": {},
   "source": [
    "## 52.Modify the decorator to accept arguments and print the function name along with the message."
   ]
  },
  {
   "cell_type": "code",
   "execution_count": 46,
   "id": "46a33193-7c78-4b76-ac32-90cbf381f6fd",
   "metadata": {},
   "outputs": [
    {
     "name": "stdout",
     "output_type": "stream",
     "text": [
      "Starting execution - Function: say_hello\n",
      "Hello, Alice!\n",
      "Ending execution - Function: say_hello\n"
     ]
    }
   ],
   "source": [
    "def my_decorator(message_before, message_after):\n",
    "    def decorator(func):\n",
    "        def wrapper(*args, **kwargs):\n",
    "            print(f\"{message_before} - Function: {func.__name__}\")\n",
    "            result = func(*args, **kwargs)\n",
    "            print(f\"{message_after} - Function: {func.__name__}\")\n",
    "            return result\n",
    "        return wrapper\n",
    "    return decorator\n",
    "\n",
    "@my_decorator(\"Starting execution\", \"Ending execution\")\n",
    "def say_hello(name):\n",
    "    print(f\"Hello, {name}!\")\n",
    "\n",
    "# Example usage\n",
    "say_hello(\"Alice\")\n"
   ]
  },
  {
   "cell_type": "markdown",
   "id": "587fc9b6-d087-411c-9e98-9a5af87193c3",
   "metadata": {},
   "source": [
    "## 54.Create two decorators, and apply them to a single function. Ensure that they execute in the order they are applied."
   ]
  },
  {
   "cell_type": "code",
   "execution_count": 47,
   "id": "90c32b9e-d443-447c-8882-6dac74afc507",
   "metadata": {},
   "outputs": [
    {
     "name": "stdout",
     "output_type": "stream",
     "text": [
      "Decorator One: Before function execution\n",
      "Decorator Two: Before function execution\n",
      "Hello, Alice!\n",
      "Decorator Two: After function execution\n",
      "Decorator One: After function execution\n"
     ]
    }
   ],
   "source": [
    "def decorator_one(func):\n",
    "    def wrapper(*args, **kwargs):\n",
    "        print(\"Decorator One: Before function execution\")\n",
    "        result = func(*args, **kwargs)\n",
    "        print(\"Decorator One: After function execution\")\n",
    "        return result\n",
    "    return wrapper\n",
    "\n",
    "def decorator_two(func):\n",
    "    def wrapper(*args, **kwargs):\n",
    "        print(\"Decorator Two: Before function execution\")\n",
    "        result = func(*args, **kwargs)\n",
    "        print(\"Decorator Two: After function execution\")\n",
    "        return result\n",
    "    return wrapper\n",
    "\n",
    "@decorator_one\n",
    "@decorator_two\n",
    "def say_hello(name):\n",
    "    print(f\"Hello, {name}!\")\n",
    "\n",
    "# Example usage\n",
    "say_hello(\"Alice\")\n"
   ]
  },
  {
   "cell_type": "markdown",
   "id": "7fe04cc1-e0e8-4cd9-a337-1a8fd582362e",
   "metadata": {},
   "source": [
    "## 55.Modify the decorator to accept and pass function arguments to the wrapped function."
   ]
  },
  {
   "cell_type": "code",
   "execution_count": 48,
   "id": "e8ac2993-03a6-4c27-90ba-e03000ccf25d",
   "metadata": {},
   "outputs": [
    {
     "name": "stdout",
     "output_type": "stream",
     "text": [
      "Decorator One: Before function execution\n",
      "Decorator Two: Before function execution\n",
      "Hi, Alice!\n",
      "Decorator Two: After function execution\n",
      "Decorator One: After function execution\n"
     ]
    }
   ],
   "source": [
    "def decorator_one(func):\n",
    "    def wrapper(*args, **kwargs):\n",
    "        print(\"Decorator One: Before function execution\")\n",
    "        result = func(*args, **kwargs)  # Pass arguments to the wrapped function\n",
    "        print(\"Decorator One: After function execution\")\n",
    "        return result\n",
    "    return wrapper\n",
    "\n",
    "def decorator_two(func):\n",
    "    def wrapper(*args, **kwargs):\n",
    "        print(\"Decorator Two: Before function execution\")\n",
    "        result = func(*args, **kwargs)  # Pass arguments to the wrapped function\n",
    "        print(\"Decorator Two: After function execution\")\n",
    "        return result\n",
    "    return wrapper\n",
    "\n",
    "@decorator_one\n",
    "@decorator_two\n",
    "def say_hello(name, greeting=\"Hello\"):\n",
    "    print(f\"{greeting}, {name}!\")\n",
    "\n",
    "# Example usage\n",
    "say_hello(\"Alice\", greeting=\"Hi\")\n"
   ]
  },
  {
   "cell_type": "markdown",
   "id": "603ef547-c297-471d-8883-d929a8846a0d",
   "metadata": {},
   "source": [
    "## 56.Create a decorator that preserves the metadata of the original function."
   ]
  },
  {
   "cell_type": "code",
   "execution_count": 49,
   "id": "bf777564-c727-41b8-8a96-917920d0d0b7",
   "metadata": {},
   "outputs": [
    {
     "name": "stdout",
     "output_type": "stream",
     "text": [
      "Function greet is being called\n",
      "Hello, Alice!\n",
      "Function greet has been executed\n",
      "Function name: greet\n",
      "Function docstring: Greet the person by name.\n"
     ]
    }
   ],
   "source": [
    "from functools import wraps\n",
    "\n",
    "def preserve_metadata(func):\n",
    "    @wraps(func)\n",
    "    def wrapper(*args, **kwargs):\n",
    "        print(f\"Function {func.__name__} is being called\")\n",
    "        result = func(*args, **kwargs)\n",
    "        print(f\"Function {func.__name__} has been executed\")\n",
    "        return result\n",
    "    return wrapper\n",
    "\n",
    "@preserve_metadata\n",
    "def greet(name):\n",
    "    \"\"\"Greet the person by name.\"\"\"\n",
    "    print(f\"Hello, {name}!\")\n",
    "\n",
    "# Example usage\n",
    "greet(\"Alice\")\n",
    "\n",
    "# Check metadata\n",
    "print(f\"Function name: {greet.__name__}\")         # Output: greet\n",
    "print(f\"Function docstring: {greet.__doc__}\")     # Output: Greet the person by name.\n"
   ]
  },
  {
   "cell_type": "markdown",
   "id": "4efe9b32-7064-49b2-bee2-16b02723727b",
   "metadata": {},
   "source": [
    "## 57.Create a Python class Calculator with a static method add that takes in two numbers and returns their sum."
   ]
  },
  {
   "cell_type": "code",
   "execution_count": 50,
   "id": "11b02574-dab2-4bd9-bb78-da39a0c47e41",
   "metadata": {},
   "outputs": [
    {
     "name": "stdout",
     "output_type": "stream",
     "text": [
      "8\n"
     ]
    }
   ],
   "source": [
    "class Calculator:\n",
    "    @staticmethod\n",
    "    def add(x, y):\n",
    "        return x + y\n",
    "\n",
    "# Example usage\n",
    "result = Calculator.add(5, 3)\n",
    "print(result)  # Output: 8\n"
   ]
  },
  {
   "cell_type": "markdown",
   "id": "f7c7bd3e-c85b-4214-8ece-a53071bcae71",
   "metadata": {},
   "source": [
    "## 58.Create a Python class Employee with a class method get_employee_count that returns the total number of employees created."
   ]
  },
  {
   "cell_type": "code",
   "execution_count": 51,
   "id": "7d48bde8-844e-477b-b19e-785d05c6b33a",
   "metadata": {},
   "outputs": [
    {
     "name": "stdout",
     "output_type": "stream",
     "text": [
      "2\n"
     ]
    }
   ],
   "source": [
    "class Employee:\n",
    "    employee_count = 0  # Class variable to keep track of the number of employees\n",
    "\n",
    "    def __init__(self, name):\n",
    "        self.name = name\n",
    "        Employee.employee_count += 1  # Increment count when a new employee is created\n",
    "\n",
    "    @classmethod\n",
    "    def get_employee_count(cls):\n",
    "        return cls.employee_count\n",
    "\n",
    "# Example usage\n",
    "e1 = Employee(\"Alice\")\n",
    "e2 = Employee(\"Bob\")\n",
    "\n",
    "print(Employee.get_employee_count())  # Output: 2\n"
   ]
  },
  {
   "cell_type": "markdown",
   "id": "8605ec90-9e27-44f9-8de4-9840b0b4ab79",
   "metadata": {},
   "source": [
    "## 59.Create a Python class StringFormatter with a static method reverse_string that takes a string as input and returns its reverse.\n"
   ]
  },
  {
   "cell_type": "code",
   "execution_count": 52,
   "id": "fcb6476b-c01c-47eb-b6fd-72c1b317ddf7",
   "metadata": {},
   "outputs": [
    {
     "name": "stdout",
     "output_type": "stream",
     "text": [
      "olleh\n"
     ]
    }
   ],
   "source": [
    "class StringFormatter:\n",
    "    @staticmethod\n",
    "    def reverse_string(s):\n",
    "        return s[::-1]\n",
    "\n",
    "# Example usage\n",
    "formatted_string = StringFormatter.reverse_string(\"hello\")\n",
    "print(formatted_string)  # Output: \"olleh\"\n"
   ]
  },
  {
   "cell_type": "markdown",
   "id": "5cfd754e-17c3-4f96-bddc-e27432725ac7",
   "metadata": {},
   "source": [
    "## 60.Create a Python class Circle with a class method calculate_area that calculates the area of a circle given its radius."
   ]
  },
  {
   "cell_type": "code",
   "execution_count": 53,
   "id": "288ea6b2-bebc-4ff7-b7a9-774bdf10b204",
   "metadata": {},
   "outputs": [
    {
     "name": "stdout",
     "output_type": "stream",
     "text": [
      "The area of the circle with radius 5 is 78.54\n"
     ]
    }
   ],
   "source": [
    "import math\n",
    "\n",
    "class Circle:\n",
    "    @classmethod\n",
    "    def calculate_area(cls, radius):\n",
    "        return math.pi * radius * radius\n",
    "\n",
    "# Example usage\n",
    "radius = 5\n",
    "area = Circle.calculate_area(radius)\n",
    "print(f\"The area of the circle with radius {radius} is {area:.2f}\")\n"
   ]
  },
  {
   "cell_type": "markdown",
   "id": "f5854c34-1ba4-4f37-b639-9e915b904178",
   "metadata": {},
   "source": [
    "## 61.Create a Python class TemperatureConverter with a static method celsius_to_fahrenheit that converts Celsius to Fahrenheit."
   ]
  },
  {
   "cell_type": "code",
   "execution_count": 54,
   "id": "52461c4d-382a-4f2c-9b07-deea2a15385a",
   "metadata": {},
   "outputs": [
    {
     "name": "stdout",
     "output_type": "stream",
     "text": [
      "25°C is equal to 77.0°F\n"
     ]
    }
   ],
   "source": [
    "class TemperatureConverter:\n",
    "    @staticmethod\n",
    "    def celsius_to_fahrenheit(celsius):\n",
    "        return (celsius * 9/5) + 32\n",
    "\n",
    "# Example usage\n",
    "celsius_temp = 25\n",
    "fahrenheit_temp = TemperatureConverter.celsius_to_fahrenheit(celsius_temp)\n",
    "print(f\"{celsius_temp}°C is equal to {fahrenheit_temp}°F\")\n"
   ]
  },
  {
   "cell_type": "markdown",
   "id": "ea95429f-c252-4ef9-a09c-44970cf750a3",
   "metadata": {},
   "source": [
    "## 62.What is the purpose of the __str__() method in Python classes? Provide an example."
   ]
  },
  {
   "cell_type": "code",
   "execution_count": 55,
   "id": "900dc7d3-0867-49f5-9847-19a9afb51b38",
   "metadata": {},
   "outputs": [
    {
     "name": "stdout",
     "output_type": "stream",
     "text": [
      "Person(name=Alice, age=30)\n"
     ]
    }
   ],
   "source": [
    "class Person:\n",
    "    def __init__(self, name, age):\n",
    "        self.name = name\n",
    "        self.age = age\n",
    "\n",
    "    def __str__(self):\n",
    "        return f\"Person(name={self.name}, age={self.age})\"\n",
    "\n",
    "# Example usage\n",
    "person = Person(\"Alice\", 30)\n",
    "print(person)  # Output: Person(name=Alice, age=30)\n"
   ]
  },
  {
   "cell_type": "markdown",
   "id": "7fd8c6b7-8e52-4ff8-bcff-d8cec68ea36d",
   "metadata": {},
   "source": [
    "## 63.How does the __len__() method work in Python? Provide an example."
   ]
  },
  {
   "cell_type": "code",
   "execution_count": 56,
   "id": "6b374362-78c4-4671-bc54-ee18b2f6b15a",
   "metadata": {},
   "outputs": [
    {
     "name": "stdout",
     "output_type": "stream",
     "text": [
      "5\n",
      "13\n",
      "3\n",
      "4\n"
     ]
    }
   ],
   "source": [
    "# Example with built-in types\n",
    "my_list = [1, 2, 3, 4, 5]\n",
    "print(len(my_list))  # Output: 5\n",
    "\n",
    "my_string = \"Hello, world!\"\n",
    "print(len(my_string))  # Output: 13\n",
    "\n",
    "my_dict = {\"a\": 1, \"b\": 2, \"c\": 3}\n",
    "print(len(my_dict))  # Output: 3\n",
    "\n",
    "# Example with a custom class\n",
    "class CustomCollection:\n",
    "    def __init__(self, items):\n",
    "        self.items = items\n",
    "\n",
    "    def __len__(self):\n",
    "        return len(self.items)\n",
    "\n",
    "collection = CustomCollection([1, 2, 3, 4])\n",
    "print(len(collection))  # Output: 4\n"
   ]
  },
  {
   "cell_type": "markdown",
   "id": "4aa47d63-292d-4a9a-a74c-fd9b82baa285",
   "metadata": {},
   "source": [
    "## 64.Explain the usage of the __add__() method in Python classes. Provide an example."
   ]
  },
  {
   "cell_type": "code",
   "execution_count": 57,
   "id": "16e5021e-9133-4477-93b2-72b24fff3ea9",
   "metadata": {},
   "outputs": [
    {
     "name": "stdout",
     "output_type": "stream",
     "text": [
      "8\n",
      "Added: 1\n",
      "Added: 2\n",
      "{1, 2}\n",
      "Item added: apple\n",
      "Item added: banana\n",
      "['apple', 'banana']\n"
     ]
    }
   ],
   "source": [
    "# Adding Numbers\n",
    "class Calculator:\n",
    "    def add(self, x, y):\n",
    "        return x + y\n",
    "\n",
    "calc = Calculator()\n",
    "print(calc.add(5, 3))  # Output: 8\n",
    "\n",
    "# Adding an Item to a Set\n",
    "class CustomSet:\n",
    "    def __init__(self):\n",
    "        self._set = set()\n",
    "\n",
    "    def add(self, item):\n",
    "        self._set.add(item)\n",
    "        print(f\"Added: {item}\")\n",
    "\n",
    "    def get_items(self):\n",
    "        return self._set\n",
    "\n",
    "my_set = CustomSet()\n",
    "my_set.add(1)  # Output: Added: 1\n",
    "my_set.add(2)  # Output: Added: 2\n",
    "print(my_set.get_items())  # Output: {1, 2}\n",
    "\n",
    "# Adding an Item to a List\n",
    "class ListManager:\n",
    "    def __init__(self):\n",
    "        self._list = []\n",
    "\n",
    "    def add(self, item):\n",
    "        self._list.append(item)\n",
    "        print(f\"Item added: {item}\")\n",
    "\n",
    "    def get_list(self):\n",
    "        return self._list\n",
    "\n",
    "manager = ListManager()\n",
    "manager.add(\"apple\")  # Output: Item added: apple\n",
    "manager.add(\"banana\")  # Output: Item added: banana\n",
    "print(manager.get_list())  # Output: ['apple', 'banana']\n"
   ]
  },
  {
   "cell_type": "markdown",
   "id": "454817c5-8434-4515-a8b6-426743410fb4",
   "metadata": {},
   "source": [
    "## 65.What is the purpose of the __getitem__() method in Python? Provide an example."
   ]
  },
  {
   "cell_type": "markdown",
   "id": "ed5deaed-1b0d-4033-b03d-4ef180a45c0d",
   "metadata": {},
   "source": [
    "\n",
    "The __getitem__() method in Python is used to define how objects of a class should respond to indexing or key access, similar to how list and dictionary indexing works. It allows objects to support the obj[index] syntax, enabling the use of square brackets to access elements or items.\n",
    "\n",
    "**Purpose:**\n",
    "\n",
    "To enable custom objects to be accessed using indexing or key-based access.\n",
    "\n",
    "To provide a way to retrieve elements or values from an object based on an index or key."
   ]
  },
  {
   "cell_type": "code",
   "execution_count": 58,
   "id": "e4adfe4b-7103-43e8-8ad9-2b41f4cb80dc",
   "metadata": {},
   "outputs": [
    {
     "name": "stdout",
     "output_type": "stream",
     "text": [
      "30\n",
      "10\n"
     ]
    }
   ],
   "source": [
    "class CustomList:\n",
    "    def __init__(self, items):\n",
    "        self._items = items\n",
    "\n",
    "    def __getitem__(self, index):\n",
    "        if isinstance(index, int):\n",
    "            if 0 <= index < len(self._items):\n",
    "                return self._items[index]\n",
    "            else:\n",
    "                raise IndexError(\"Index out of range\")\n",
    "        else:\n",
    "            raise TypeError(\"Index must be an integer\")\n",
    "\n",
    "# Example usage\n",
    "custom_list = CustomList([10, 20, 30, 40, 50])\n",
    "\n",
    "print(custom_list[2])  # Output: 30\n",
    "print(custom_list[0])  # Output: 10\n",
    "\n",
    "# Attempting to access an out-of-range index or using a non-integer index will raise an error\n",
    "# print(custom_list[10])  # Raises IndexError\n",
    "# print(custom_list[\"a\"])  # Raises TypeError\n"
   ]
  },
  {
   "cell_type": "markdown",
   "id": "2a292ad3-287a-4f56-bb5a-66c2363aed17",
   "metadata": {},
   "source": [
    "## 66.Explain the usage of the __iter__() and __next__() methods in Python. Provide an example using iterators."
   ]
  },
  {
   "cell_type": "markdown",
   "id": "fb179027-6d6d-41e9-9751-0972afa75cb4",
   "metadata": {},
   "source": [
    "In Python, iter() and next() are used to work with iterators, which allow you to traverse through elements of a collection one at a time.\n",
    "\n",
    "**Usage:**\n",
    "\n",
    "**iter():** This function is used to obtain an iterator object from an iterable (e.g., lists, tuples, strings). An iterator is an object that implements the __iter__() and __next__() methods.\n",
    "\n",
    "**next():** This function is used to retrieve the next item from an iterator. It calls the __next__() method of the iterator. If there are no more items, it raises a StopIteration exception."
   ]
  },
  {
   "cell_type": "code",
   "execution_count": 59,
   "id": "e35e2bbb-6839-4c5a-a49c-554ed33d3c66",
   "metadata": {},
   "outputs": [
    {
     "name": "stdout",
     "output_type": "stream",
     "text": [
      "5\n",
      "4\n",
      "3\n",
      "2\n",
      "1\n"
     ]
    }
   ],
   "source": [
    "class CountDown:\n",
    "    def __init__(self, start):\n",
    "        self.start = start\n",
    "\n",
    "    def __iter__(self):\n",
    "        self.current = self.start\n",
    "        return self\n",
    "\n",
    "    def __next__(self):\n",
    "        if self.current <= 0:\n",
    "            raise StopIteration\n",
    "        self.current -= 1\n",
    "        return self.current + 1\n",
    "\n",
    "# Example usage\n",
    "countdown = CountDown(5)\n",
    "iterator = iter(countdown)\n",
    "\n",
    "print(next(iterator))  # Output: 5\n",
    "print(next(iterator))  # Output: 4\n",
    "print(next(iterator))  # Output: 3\n",
    "print(next(iterator))  # Output: 2\n",
    "print(next(iterator))  # Output: 1\n",
    "\n",
    "# The following line will raise StopIteration as the iterator is exhausted\n",
    "# print(next(iterator))  # Raises StopIteration\n"
   ]
  },
  {
   "cell_type": "markdown",
   "id": "bb552d83-f557-47b6-811f-a917828b7fb6",
   "metadata": {},
   "source": [
    "## 67.What is the purpose of a getter method in Python? Provide an example demonstrating the use of a getter method using property decorators."
   ]
  },
  {
   "cell_type": "markdown",
   "id": "cc0a2346-87bd-4ca6-adef-c4896fc8df18",
   "metadata": {},
   "source": [
    "\n",
    "In Python, a getter method is used to access the value of a private attribute of a class. The purpose of a getter method is to provide controlled access to the private attributes of an object, ensuring encapsulation and data protection. By using getter methods, you can control how attributes are accessed and optionally perform additional operations when retrieving their values.\n",
    "\n",
    "**Purpose:**\n",
    "\n",
    "To provide read-only access to private attributes.\n",
    "To encapsulate and protect internal data from external modifications.\n",
    "To allow controlled access to attributes with additional logic if needed."
   ]
  },
  {
   "cell_type": "code",
   "execution_count": 60,
   "id": "686a36eb-821f-425b-a483-1747cd60e706",
   "metadata": {},
   "outputs": [
    {
     "name": "stdout",
     "output_type": "stream",
     "text": [
      "Alice\n",
      "30\n",
      "Bob\n",
      "35\n"
     ]
    }
   ],
   "source": [
    "class Person:\n",
    "    def __init__(self, name, age):\n",
    "        self._name = name\n",
    "        self._age = age\n",
    "\n",
    "    @property\n",
    "    def name(self):\n",
    "        return self._name\n",
    "\n",
    "    @property\n",
    "    def age(self):\n",
    "        return self._age\n",
    "\n",
    "    @name.setter\n",
    "    def name(self, value):\n",
    "        if isinstance(value, str) and value:\n",
    "            self._name = value\n",
    "        else:\n",
    "            raise ValueError(\"Name must be a non-empty string\")\n",
    "\n",
    "    @age.setter\n",
    "    def age(self, value):\n",
    "        if isinstance(value, int) and value > 0:\n",
    "            self._age = value\n",
    "        else:\n",
    "            raise ValueError(\"Age must be a positive integer\")\n",
    "\n",
    "# Example usage\n",
    "person = Person(\"Alice\", 30)\n",
    "\n",
    "print(person.name)  # Output: Alice\n",
    "print(person.age)   # Output: 30\n",
    "\n",
    "# Modify attributes using setters\n",
    "person.name = \"Bob\"\n",
    "person.age = 35\n",
    "\n",
    "print(person.name)  # Output: Bob\n",
    "print(person.age)   # Output: 35\n",
    "\n",
    "# Attempting to set invalid values will raise an error\n",
    "# person.name = \"\"   # Raises ValueError\n",
    "# person.age = -5    # Raises ValueError\n"
   ]
  },
  {
   "cell_type": "markdown",
   "id": "8feb424b-8b1f-4c15-b922-4d8979684769",
   "metadata": {},
   "source": [
    "## 68.Explain the role of setter methods in Python. Demonstrate how to use a setter method to modify a class attribute using property decorators."
   ]
  },
  {
   "cell_type": "markdown",
   "id": "84bb554c-c3b7-4115-8733-ee9c304a1a81",
   "metadata": {},
   "source": [
    "In Python, setter methods are used to control how attributes of a class are modified. They provide a way to set the value of private or protected attributes while allowing for additional logic or validation before the actual assignment takes place.\n",
    "\n",
    "**Role of Setter Methods:**\n",
    "\n",
    "**Control:** They allow you to control how an attribute is set, providing an opportunity to validate or transform the input data.\n",
    "\n",
    "**Encapsulation:** They help maintain the integrity of the object's state by ensuring that attributes adhere to certain rules or constraints.\n",
    "\n",
    "**Flexibility:** They can execute additional code when an attribute is modified, such as updating related attributes or triggering other side effects."
   ]
  },
  {
   "cell_type": "code",
   "execution_count": 61,
   "id": "fe2e1783-8c18-48bb-b9bf-393fa75e58a4",
   "metadata": {},
   "outputs": [
    {
     "name": "stdout",
     "output_type": "stream",
     "text": [
      "Alice\n",
      "30\n",
      "Bob\n",
      "35\n",
      "Name must be a non-empty string\n",
      "Age must be a positive integer\n"
     ]
    }
   ],
   "source": [
    "class Person:\n",
    "    def __init__(self, name, age):\n",
    "        self._name = name\n",
    "        self._age = age\n",
    "\n",
    "    @property\n",
    "    def name(self):\n",
    "        return self._name\n",
    "\n",
    "    @name.setter\n",
    "    def name(self, value):\n",
    "        if isinstance(value, str) and value:\n",
    "            self._name = value\n",
    "        else:\n",
    "            raise ValueError(\"Name must be a non-empty string\")\n",
    "\n",
    "    @property\n",
    "    def age(self):\n",
    "        return self._age\n",
    "\n",
    "    @age.setter\n",
    "    def age(self, value):\n",
    "        if isinstance(value, int) and value > 0:\n",
    "            self._age = value\n",
    "        else:\n",
    "            raise ValueError(\"Age must be a positive integer\")\n",
    "\n",
    "# Example usage\n",
    "person = Person(\"Alice\", 30)\n",
    "\n",
    "print(person.name)  # Output: Alice\n",
    "print(person.age)   # Output: 30\n",
    "\n",
    "# Modify attributes using setters\n",
    "person.name = \"Bob\"   # Valid\n",
    "person.age = 35       # Valid\n",
    "\n",
    "print(person.name)  # Output: Bob\n",
    "print(person.age)   # Output: 35\n",
    "\n",
    "# Attempting to set invalid values will raise an error\n",
    "try:\n",
    "    person.name = \"\"  # Raises ValueError\n",
    "except ValueError as e:\n",
    "    print(e)\n",
    "\n",
    "try:\n",
    "    person.age = -5   # Raises ValueError\n",
    "except ValueError as e:\n",
    "    print(e)\n"
   ]
  },
  {
   "cell_type": "markdown",
   "id": "4742c814-aa63-4809-8227-173bb8348e17",
   "metadata": {},
   "source": [
    "## 69.What is the purpose of the @property decorator in Python? Provide an example illustrating its usage."
   ]
  },
  {
   "cell_type": "markdown",
   "id": "a4212fb9-472e-48c4-85c9-0b96d4d46777",
   "metadata": {},
   "source": [
    "\n",
    "The @property decorator in Python is used to define a method in a class that behaves like an attribute. It allows you to create read-only or computed attributes that are accessed using dot notation, providing a way to encapsulate data and control how attributes are retrieved.\n",
    "\n",
    "**Purpose of @property:**\n",
    "\n",
    "**Encapsulation:** It helps encapsulate data by allowing controlled access to private attributes.\n",
    "**Read-Only Attributes:** It provides a way to create attributes that can be accessed but not directly modified.\n",
    "**Computed Properties:** It allows you to define attributes that are derived from other attributes or computed dynamically."
   ]
  },
  {
   "cell_type": "code",
   "execution_count": 62,
   "id": "a2ecc38d-c02a-472a-b8b5-0af6432037ec",
   "metadata": {},
   "outputs": [
    {
     "name": "stdout",
     "output_type": "stream",
     "text": [
      "5\n",
      "78.53975\n",
      "10\n",
      "314.159\n",
      "Radius must be a positive number\n"
     ]
    }
   ],
   "source": [
    "class Circle:\n",
    "    def __init__(self, radius):\n",
    "        self._radius = radius\n",
    "\n",
    "    @property\n",
    "    def radius(self):\n",
    "        return self._radius\n",
    "\n",
    "    @radius.setter\n",
    "    def radius(self, value):\n",
    "        if value > 0:\n",
    "            self._radius = value\n",
    "        else:\n",
    "            raise ValueError(\"Radius must be a positive number\")\n",
    "\n",
    "    @property\n",
    "    def area(self):\n",
    "        return 3.14159 * (self._radius ** 2)\n",
    "\n",
    "# Example usage\n",
    "circle = Circle(5)\n",
    "\n",
    "print(circle.radius)  # Output: 5\n",
    "print(circle.area)    # Output: 78.53975\n",
    "\n",
    "# Modify radius using the setter\n",
    "circle.radius = 10\n",
    "print(circle.radius)  # Output: 10\n",
    "print(circle.area)    # Output: 314.159\n",
    "\n",
    "# Attempting to set an invalid radius value will raise an error\n",
    "try:\n",
    "    circle.radius = -5  # Raises ValueError\n",
    "except ValueError as e:\n",
    "    print(e)\n"
   ]
  },
  {
   "cell_type": "markdown",
   "id": "f4cffd7a-9596-4e37-a50b-7924c9fff81a",
   "metadata": {},
   "source": [
    "## 70.Explain the use of the @deleter decorator in Python property decorators. Provide a code example demonstrating its application"
   ]
  },
  {
   "cell_type": "markdown",
   "id": "e2a78d8f-b443-4e08-9c14-36fca8c3cfd9",
   "metadata": {},
   "source": [
    "The @deleter decorator in Python is used in property decorators to define a method that will be called when a property is deleted using the del statement. This allows you to control or customize the behavior when an attribute is removed from an instance, including cleanup or logging operations.\n",
    "\n",
    "**Purpose of @deleter:**\n",
    "\n",
    "**Custom Deletion Logic:** Implement custom actions that should occur when a property is deleted.\n",
    "**Resource Management:** Handle resource cleanup or state management when an attribute is removed.\n",
    "**Encapsulation:** Maintain control over how attributes are managed and deleted."
   ]
  },
  {
   "cell_type": "code",
   "execution_count": 63,
   "id": "cb496511-1ea5-41cc-ae96-71013eb2aaee",
   "metadata": {},
   "outputs": [
    {
     "name": "stdout",
     "output_type": "stream",
     "text": [
      "TempFile created: example.txt\n",
      "example.txt\n",
      "Deleting file: example.txt\n",
      "None\n"
     ]
    }
   ],
   "source": [
    "class TempFile:\n",
    "    def __init__(self, filename):\n",
    "        self._filename = filename\n",
    "        print(f\"TempFile created: {self._filename}\")\n",
    "\n",
    "    @property\n",
    "    def filename(self):\n",
    "        return self._filename\n",
    "\n",
    "    @filename.deleter\n",
    "    def filename(self):\n",
    "        print(f\"Deleting file: {self._filename}\")\n",
    "        self._filename = None\n",
    "\n",
    "# Example usage\n",
    "temp_file = TempFile(\"example.txt\")\n",
    "\n",
    "print(temp_file.filename)  # Output: example.txt\n",
    "\n",
    "# Deleting the property\n",
    "del temp_file.filename  # Output: Deleting file: example.txt\n",
    "\n",
    "print(temp_file.filename)  # Output: None\n"
   ]
  },
  {
   "cell_type": "markdown",
   "id": "f56fd73e-eb6b-46ef-a14e-4469b04622b4",
   "metadata": {},
   "source": [
    "## 71.How does encapsulation relate to property decorators in Python? Provide an example showcasing encapsulation using property decorators."
   ]
  },
  {
   "cell_type": "markdown",
   "id": "e67bfbd3-7eb8-496b-8f00-e2202230c70e",
   "metadata": {},
   "source": [
    "Encapsulation in Python refers to the practice of hiding the internal state and implementation details of an object while exposing a controlled interface to the outside world. Property decorators (@property, @property.setter, and @property.deleter) are a way to implement encapsulation by allowing controlled access to private attributes.\n",
    "\n",
    "**How Property Decorators Relate to Encapsulation:**\n",
    "\n",
    "**Controlled Access: Property decorators provide getter, setter, and deleter methods that control how attributes are accessed and modified.\n",
    "Data Validation: They allow for validation or transformation of data when setting or retrieving attribute values.\n",
    "Read-Only Attributes: They enable the creation of read-only attributes by defining only a getter method."
   ]
  },
  {
   "cell_type": "code",
   "execution_count": null,
   "id": "ecbb06d0-2175-4443-9595-04d983376fb0",
   "metadata": {},
   "outputs": [],
   "source": []
  }
 ],
 "metadata": {
  "kernelspec": {
   "display_name": "Python 3 (ipykernel)",
   "language": "python",
   "name": "python3"
  },
  "language_info": {
   "codemirror_mode": {
    "name": "ipython",
    "version": 3
   },
   "file_extension": ".py",
   "mimetype": "text/x-python",
   "name": "python",
   "nbconvert_exporter": "python",
   "pygments_lexer": "ipython3",
   "version": "3.12.4"
  }
 },
 "nbformat": 4,
 "nbformat_minor": 5
}
