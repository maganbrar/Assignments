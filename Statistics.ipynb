{
 "cells": [
  {
   "cell_type": "markdown",
   "id": "9614ef8a-0b17-4933-9007-6f66ff4d0ee2",
   "metadata": {},
   "source": [
    "## 1.Generate a list of 100 integers containing values between 90 to 130 and store it in the variable 'int_list'. After generating the list ,find the following\n",
    "\n",
    " (i) Write a Python function to calculate the mean of a given list of numbers.\n",
    "\n",
    "Create a function to find the median of a list of numbers.\n",
    "\n",
    "  \n",
    "\n",
    "  (ii) Develop a program to compute the mode of a list of integers.\n",
    "\n",
    "  \n",
    "\n",
    "  (iii) Implement a function to calculate the weighted mean of a list of values and their corresponding weights.\n",
    "\n",
    "  \n",
    "\n",
    "  (iv) Write a Python function to find the geometric mean of a list of positive numbers.\n",
    "\n",
    "  \n",
    "\n",
    "  (v) Create a program to calculate the harmonic mean of a list of values.\n",
    "\n",
    "  \n",
    "\n",
    "  (vi) Build a function to determine the midrange of a list of numbers (average of the minimum and maximum).\n",
    "\n",
    "  \n",
    "\n",
    "  (vii) Implement a Python program to find the trimmed mean of a list, excluding a certain percentage of\n",
    "outliers\n"
   ]
  },
  {
   "cell_type": "code",
   "execution_count": 3,
   "id": "d89d08d1-4f9f-45f6-a163-ab37ee8e3dfe",
   "metadata": {},
   "outputs": [
    {
     "data": {
      "text/plain": [
       "[107,\n",
       " 90,\n",
       " 110,\n",
       " 117,\n",
       " 122,\n",
       " 105,\n",
       " 110,\n",
       " 91,\n",
       " 121,\n",
       " 102,\n",
       " 95,\n",
       " 106,\n",
       " 115,\n",
       " 128,\n",
       " 91,\n",
       " 120,\n",
       " 95,\n",
       " 91,\n",
       " 91,\n",
       " 113,\n",
       " 111,\n",
       " 92,\n",
       " 108,\n",
       " 92,\n",
       " 112,\n",
       " 120,\n",
       " 130,\n",
       " 116,\n",
       " 109,\n",
       " 109,\n",
       " 107,\n",
       " 100,\n",
       " 123,\n",
       " 96,\n",
       " 105,\n",
       " 110,\n",
       " 128,\n",
       " 121,\n",
       " 128,\n",
       " 98,\n",
       " 108,\n",
       " 107,\n",
       " 100,\n",
       " 91,\n",
       " 105,\n",
       " 101,\n",
       " 112,\n",
       " 110,\n",
       " 123,\n",
       " 97,\n",
       " 101,\n",
       " 110,\n",
       " 121,\n",
       " 123,\n",
       " 97,\n",
       " 98,\n",
       " 129,\n",
       " 116,\n",
       " 111,\n",
       " 111,\n",
       " 125,\n",
       " 129,\n",
       " 107,\n",
       " 110,\n",
       " 95,\n",
       " 94,\n",
       " 100,\n",
       " 99,\n",
       " 115,\n",
       " 97,\n",
       " 114,\n",
       " 128,\n",
       " 109,\n",
       " 121,\n",
       " 90,\n",
       " 130,\n",
       " 101,\n",
       " 112,\n",
       " 105,\n",
       " 130,\n",
       " 90,\n",
       " 94,\n",
       " 118,\n",
       " 130,\n",
       " 130,\n",
       " 93,\n",
       " 108,\n",
       " 126,\n",
       " 109,\n",
       " 120,\n",
       " 119,\n",
       " 98,\n",
       " 102,\n",
       " 93,\n",
       " 111,\n",
       " 117,\n",
       " 94,\n",
       " 126,\n",
       " 113,\n",
       " 97]"
      ]
     },
     "execution_count": 3,
     "metadata": {},
     "output_type": "execute_result"
    }
   ],
   "source": [
    "import numpy as np\n",
    "\n",
    "# Generate a list of 100 integers between 90 and 130\n",
    "int_list = np.random.randint(90, 131, size=100).tolist()\n",
    "int_list"
   ]
  },
  {
   "cell_type": "code",
   "execution_count": 6,
   "id": "86be960b-ea84-4f26-b43b-56b828a434a2",
   "metadata": {},
   "outputs": [
    {
     "name": "stdout",
     "output_type": "stream",
     "text": [
      "Mean:  109.05\n",
      "Median:  109.0\n"
     ]
    }
   ],
   "source": [
    "#Mean and Median Calculation\n",
    "def calculate_mean(numbers):\n",
    "    return sum(numbers) / len(numbers)\n",
    "\n",
    "def calculate_median(numbers):\n",
    "    sorted_numbers = sorted(numbers)\n",
    "    n = len(sorted_numbers)\n",
    "    mid = n // 2\n",
    "    if n % 2 == 0:\n",
    "        return (sorted_numbers[mid - 1] + sorted_numbers[mid]) / 2\n",
    "    else:\n",
    "        return sorted_numbers[mid]\n",
    "\n",
    "mean=calculate_mean(int_list)\n",
    "median=calculate_median(int_list)\n",
    "\n",
    "print('Mean: ',mean)\n",
    "print('Median: ',median)"
   ]
  },
  {
   "cell_type": "code",
   "execution_count": 7,
   "id": "b88e198c-755f-496e-980f-2e086fc08c9a",
   "metadata": {},
   "outputs": [
    {
     "name": "stdout",
     "output_type": "stream",
     "text": [
      "Mode:  [110]\n"
     ]
    }
   ],
   "source": [
    "# (ii) Mode Calculation\n",
    "\n",
    "from collections import Counter\n",
    "\n",
    "def calculate_mode(numbers):\n",
    "    count = Counter(numbers)\n",
    "    max_count = max(count.values())\n",
    "    modes = [k for k, v in count.items() if v == max_count]\n",
    "    return modes\n",
    "print('Mode: ',calculate_mode(int_list))"
   ]
  },
  {
   "cell_type": "code",
   "execution_count": 8,
   "id": "90224850-9b91-40b8-aa1b-dc7eb2606d99",
   "metadata": {},
   "outputs": [
    {
     "name": "stdout",
     "output_type": "stream",
     "text": [
      "Weighted Mean: 21.0\n"
     ]
    }
   ],
   "source": [
    "# (iii) Weighted Mean Calculation\n",
    "\n",
    "def calculate_weighted_mean(values, weights):\n",
    "    return sum(v * w for v, w in zip(values, weights)) / sum(weights)\n",
    "\n",
    "values = [10, 20, 30]\n",
    "weights = [0.2, 0.5, 0.3]\n",
    "weighted_mean = calculate_weighted_mean(values, weights)\n",
    "print(f\"Weighted Mean: {weighted_mean}\")\n"
   ]
  },
  {
   "cell_type": "code",
   "execution_count": 9,
   "id": "40057a30-ad05-45c4-90e4-e88f3fab8322",
   "metadata": {},
   "outputs": [
    {
     "name": "stdout",
     "output_type": "stream",
     "text": [
      "Geometric Mean: 108.38786366247514\n"
     ]
    }
   ],
   "source": [
    "#(iv) Geometric Mean Calculation\n",
    "from scipy.stats import gmean\n",
    "\n",
    "def calculate_geometric_mean(numbers):\n",
    "    return gmean(numbers)\n",
    "geometric_mean = calculate_geometric_mean(int_list)\n",
    "print(f\"Geometric Mean: {geometric_mean}\")\n",
    "\n"
   ]
  },
  {
   "cell_type": "code",
   "execution_count": 10,
   "id": "248c2129-17ec-4f55-a463-592a3a103dfb",
   "metadata": {},
   "outputs": [
    {
     "name": "stdout",
     "output_type": "stream",
     "text": [
      "Harmonic Mean: 107.72865600816677\n"
     ]
    }
   ],
   "source": [
    "#(v) Harmonic Mean Calculation\n",
    "\n",
    "from scipy.stats import hmean\n",
    "\n",
    "def calculate_harmonic_mean(numbers):\n",
    "    return hmean(numbers)\n",
    "harmonic_mean = calculate_harmonic_mean(int_list)\n",
    "print(f\"Harmonic Mean: {harmonic_mean}\")\n"
   ]
  },
  {
   "cell_type": "code",
   "execution_count": 11,
   "id": "a4c446c3-9b65-4add-988f-2ae1e2aca1ed",
   "metadata": {},
   "outputs": [
    {
     "name": "stdout",
     "output_type": "stream",
     "text": [
      "Midrange: 110.0\n"
     ]
    }
   ],
   "source": [
    "# (vi) Midrange Calculation\n",
    "\n",
    "def calculate_midrange(numbers):\n",
    "    return (min(numbers) + max(numbers)) / 2\n",
    "\n",
    "midrange_value = calculate_midrange(int_list)\n",
    "print(f\"Midrange: {midrange_value}\")\n",
    "\n"
   ]
  },
  {
   "cell_type": "code",
   "execution_count": 12,
   "id": "2f1bacb1-9d3a-4aa7-b769-54aa36743a9f",
   "metadata": {},
   "outputs": [
    {
     "name": "stdout",
     "output_type": "stream",
     "text": [
      "Trimmed Mean: 108.8\n"
     ]
    }
   ],
   "source": [
    "#(vii) Trimmed Mean Calculation\n",
    "def calculate_trimmed_mean(numbers, proportion_to_trim):\n",
    "    sorted_numbers = sorted(numbers)\n",
    "    n = len(sorted_numbers)\n",
    "    k = int(n * proportion_to_trim)\n",
    "    trimmed_numbers = sorted_numbers[k:-k]\n",
    "    return sum(trimmed_numbers) / len(trimmed_numbers)\n",
    "trimmed_mean_value = calculate_trimmed_mean(int_list, 0.1)  # Trim 10% from both ends\n",
    "print(f\"Trimmed Mean: {trimmed_mean_value}\")\n"
   ]
  },
  {
   "cell_type": "markdown",
   "id": "2ab5e34f-ec7a-444c-9338-d3f261124cf1",
   "metadata": {},
   "source": [
    "## 2.Generate a list of 500 integers containing values between 200 to 300 and store it in the variable 'int_list2',after generating the list ,find the following\n",
    "(i) Compare the given list of visualization for the given data:\n",
    "\n",
    "    \n",
    "\n",
    "    1. Frequency & Gaussian distribution\n",
    "\n",
    "    2. Frequency smoothened KDE plot\n",
    "\n",
    "    3. Gaussian distribution & smoothened KDE plot\n",
    "\n",
    "\n",
    "  (ii) Write a Python function to calculate the range of a given list of numbers.\n",
    "\n",
    "\n",
    "  (iii) Create a program to find the variance and standard deviation of a list of numbers.\n",
    "\n",
    "\n",
    "  (iv) Implement a function to compute the interquartile range (IQR) of a list of values.\n",
    "\n",
    "\n",
    "  (v) Build a program to calculate the coefficient of variation for a dataset.\n",
    "\n",
    "  \n",
    "\n",
    "  (vi) Write a Python function to find the mean absolute deviation (MAD) of a list of numbers.\n",
    "\n",
    "\n",
    "  (vii) Create a program to calculate the quartile deviation of a list of values.\n",
    "\n",
    "  \n",
    "\n",
    "  (viii) Implement a function to find the range-based coefficient of dispersion for a dataset\n"
   ]
  },
  {
   "cell_type": "code",
   "execution_count": 13,
   "id": "c9107145-11a0-4c8f-a13d-cc6d044cc90f",
   "metadata": {},
   "outputs": [
    {
     "name": "stdout",
     "output_type": "stream",
     "text": [
      "Generated List: [257, 216, 265, 277, 224, 255, 240, 294, 283, 293]\n"
     ]
    }
   ],
   "source": [
    "#Generate a List of 500 Integers\n",
    "import numpy as np\n",
    "import pandas as pd\n",
    "import matplotlib.pyplot as plt\n",
    "import seaborn as sns\n",
    "\n",
    "# Generate a list of 500 integers between 200 and 300\n",
    "int_list2 = np.random.randint(200, 301, size=500).tolist()\n",
    "print(\"Generated List:\", int_list2[:10])  # Displaying only first 10 elements for brevity\n"
   ]
  },
  {
   "cell_type": "code",
   "execution_count": 14,
   "id": "159aa2b1-3830-4ba6-a6cc-67d45c93d3d6",
   "metadata": {},
   "outputs": [
    {
     "data": {
      "image/png": "[encoded data removed]",
      "text/plain": [
       "<Figure size 1200x600 with 1 Axes>"
      ]
     },
     "metadata": {},
     "output_type": "display_data"
    }
   ],
   "source": [
    "#(i) Comparing Visualizations\n",
    "\n",
    "# 1.Frequency & Gaussian Distribution:\n",
    "\n",
    "# Plot Frequency Histogram with Gaussian Distribution\n",
    "plt.figure(figsize=(12, 6))\n",
    "sns.histplot(int_list2, kde=False, bins=30, color='skyblue', label='Frequency', stat='density')\n",
    "sns.kdeplot(int_list2, color='red', label='Gaussian Distribution')\n",
    "plt.title('Frequency & Gaussian Distribution')\n",
    "plt.xlabel('Values')\n",
    "plt.ylabel('Density')\n",
    "plt.legend()\n",
    "plt.show()\n",
    "\n"
   ]
  },
  {
   "cell_type": "code",
   "execution_count": 15,
   "id": "646f1dd5-4101-40fb-8171-690c958d4bbc",
   "metadata": {},
   "outputs": [
    {
     "data": {
      "image/png": "[encoded data removed]",
      "text/plain": [
       "<Figure size 1200x600 with 1 Axes>"
      ]
     },
     "metadata": {},
     "output_type": "display_data"
    }
   ],
   "source": [
    "#2. Frequency Smoothened KDE Plot:\n",
    "\n",
    "# Plot Frequency Histogram with Smoothened KDE Plot\n",
    "plt.figure(figsize=(12, 6))\n",
    "sns.histplot(int_list2, kde=True, bins=30, color='skyblue', label='Frequency')\n",
    "plt.title('Frequency Smoothened KDE Plot')\n",
    "plt.xlabel('Values')\n",
    "plt.ylabel('Density')\n",
    "plt.legend()\n",
    "plt.show()\n",
    "\n"
   ]
  },
  {
   "cell_type": "code",
   "execution_count": 16,
   "id": "28cdee8e-a712-444a-a53f-57b7697afea2",
   "metadata": {},
   "outputs": [
    {
     "data": {
      "image/png": "[encoded data removed]",
      "text/plain": [
       "<Figure size 1200x600 with 1 Axes>"
      ]
     },
     "metadata": {},
     "output_type": "display_data"
    }
   ],
   "source": [
    "# 3. Gaussian Distribution & Smoothened KDE Plot:\n",
    "# Plot Gaussian Distribution with Smoothened KDE Plot\n",
    "plt.figure(figsize=(12, 6))\n",
    "sns.kdeplot(int_list2, color='red', label='Gaussian Distribution')\n",
    "sns.kdeplot(int_list2, color='blue', label='Smoothened KDE Plot')\n",
    "plt.title('Gaussian Distribution & Smoothened KDE Plot')\n",
    "plt.xlabel('Values')\n",
    "plt.ylabel('Density')\n",
    "plt.legend()\n",
    "plt.show()\n"
   ]
  },
  {
   "cell_type": "code",
   "execution_count": 17,
   "id": "b64bb021-dc52-473a-8a07-2688f28c990a",
   "metadata": {},
   "outputs": [
    {
     "name": "stdout",
     "output_type": "stream",
     "text": [
      "Range: 100\n"
     ]
    }
   ],
   "source": [
    "#(ii) Range Calculation\n",
    "def calculate_range(numbers):\n",
    "    return max(numbers) - min(numbers)\n",
    "\n",
    "range_value = calculate_range(int_list2)\n",
    "print(\"Range:\", range_value)\n"
   ]
  },
  {
   "cell_type": "code",
   "execution_count": 18,
   "id": "bbf33528-db1d-49ae-a456-b0e167ac0bb8",
   "metadata": {},
   "outputs": [
    {
     "name": "stdout",
     "output_type": "stream",
     "text": [
      "Variance: 782.8024159999993\n",
      "Standard Deviation: 27.978606398460936\n"
     ]
    }
   ],
   "source": [
    "# (iii) Variance and Standard Deviation\n",
    "def calculate_variance(numbers):\n",
    "    mean = np.mean(numbers)\n",
    "    return sum((x - mean) ** 2 for x in numbers) / len(numbers)\n",
    "\n",
    "def calculate_std_dev(numbers):\n",
    "    return np.sqrt(calculate_variance(numbers))\n",
    "\n",
    "variance_value = calculate_variance(int_list2)\n",
    "std_dev_value = calculate_std_dev(int_list2)\n",
    "print(\"Variance:\", variance_value)\n",
    "print(\"Standard Deviation:\", std_dev_value)\n"
   ]
  },
  {
   "cell_type": "code",
   "execution_count": 19,
   "id": "7bfaa71a-8368-4f4c-92b2-bd87d544987d",
   "metadata": {},
   "outputs": [
    {
     "name": "stdout",
     "output_type": "stream",
     "text": [
      "Interquartile Range (IQR): 47.5\n"
     ]
    }
   ],
   "source": [
    "# (iv) Interquartile Range (IQR)\n",
    "\n",
    "def calculate_iqr(numbers):\n",
    "    q1 = np.percentile(numbers, 25)\n",
    "    q3 = np.percentile(numbers, 75)\n",
    "    return q3 - q1\n",
    "\n",
    "iqr_value = calculate_iqr(int_list2)\n",
    "print(\"Interquartile Range (IQR):\", iqr_value)\n"
   ]
  },
  {
   "cell_type": "code",
   "execution_count": 20,
   "id": "e4563819-f1ed-40b9-a46c-2274f6adbd7f",
   "metadata": {},
   "outputs": [
    {
     "name": "stdout",
     "output_type": "stream",
     "text": [
      "Coefficient of Variation: 11.11020474230862\n"
     ]
    }
   ],
   "source": [
    "# (v) Coefficient of Variation\n",
    "\n",
    "def calculate_coefficient_of_variation(numbers):\n",
    "    mean = np.mean(numbers)\n",
    "    std_dev = np.std(numbers)\n",
    "    return (std_dev / mean) * 100\n",
    "\n",
    "cov_value = calculate_coefficient_of_variation(int_list2)\n",
    "print(\"Coefficient of Variation:\", cov_value)\n"
   ]
  },
  {
   "cell_type": "code",
   "execution_count": 21,
   "id": "9293a73f-b406-4835-85f3-9c95febd8f4f",
   "metadata": {},
   "outputs": [
    {
     "name": "stdout",
     "output_type": "stream",
     "text": [
      "Mean Absolute Deviation (MAD): 24.174063999999998\n"
     ]
    }
   ],
   "source": [
    "# (vi) Mean Absolute Deviation (MAD)\n",
    "def calculate_mad(numbers):\n",
    "    mean = np.mean(numbers)\n",
    "    return np.mean([abs(x - mean) for x in numbers])\n",
    "\n",
    "mad_value = calculate_mad(int_list2)\n",
    "print(\"Mean Absolute Deviation (MAD):\", mad_value)\n"
   ]
  },
  {
   "cell_type": "code",
   "execution_count": 22,
   "id": "770597d9-d71f-45fe-adc0-853fa35967e2",
   "metadata": {},
   "outputs": [
    {
     "name": "stdout",
     "output_type": "stream",
     "text": [
      "Quartile Deviation: 23.75\n"
     ]
    }
   ],
   "source": [
    "# (vii) Quartile Deviation\n",
    "\n",
    "def calculate_quartile_deviation(numbers):\n",
    "    return calculate_iqr(numbers) / 2\n",
    "\n",
    "quartile_deviation_value = calculate_quartile_deviation(int_list2)\n",
    "print(\"Quartile Deviation:\", quartile_deviation_value)\n"
   ]
  },
  {
   "cell_type": "code",
   "execution_count": 23,
   "id": "fc5a1e45-9012-4d7a-a834-d91dc2f0c403",
   "metadata": {},
   "outputs": [
    {
     "name": "stdout",
     "output_type": "stream",
     "text": [
      "Range-Based Coefficient of Dispersion: 0.2\n"
     ]
    }
   ],
   "source": [
    "# (viii) Range-Based Coefficient of Dispersion\n",
    "\n",
    "def calculate_range_based_coefficient_of_dispersion(numbers):\n",
    "    range_val = calculate_range(numbers)\n",
    "    min_val = min(numbers)\n",
    "    max_val = max(numbers)\n",
    "    return range_val / (max_val + min_val)\n",
    "\n",
    "dispersion_value = calculate_range_based_coefficient_of_dispersion(int_list2)\n",
    "print(\"Range-Based Coefficient of Dispersion:\", dispersion_value)\n"
   ]
  },
  {
   "cell_type": "markdown",
   "id": "7442ef7b-de75-4c0f-9024-50fb4e5d26ea",
   "metadata": {},
   "source": [
    "## 3. Write a Python class representing a discrete random variable with methods to calculate its expected value and variance."
   ]
  },
  {
   "cell_type": "code",
   "execution_count": 1,
   "id": "8ec7615a-9198-421d-ba72-af5e49dda8b2",
   "metadata": {},
   "outputs": [
    {
     "name": "stdout",
     "output_type": "stream",
     "text": [
      "Expected Value: 2.9000000000000004\n",
      "Variance: 0.89\n"
     ]
    }
   ],
   "source": [
    "class DiscreteRandomVariable:\n",
    "    def __init__(self, values, probabilities):\n",
    "        \n",
    "        if len(values) != len(probabilities):\n",
    "            raise ValueError(\"The number of values must match the number of probabilities.\")\n",
    "        if not all(0 <= p <= 1 for p in probabilities):\n",
    "            raise ValueError(\"Probabilities must be between 0 and 1.\")\n",
    "        if abs(sum(probabilities) - 1) > 1e-9:  # Allowing a small tolerance for floating-point precision\n",
    "            raise ValueError(\"Probabilities must sum to 1.\")\n",
    "\n",
    "        self.values = values\n",
    "        self.probabilities = probabilities\n",
    "\n",
    "    def expected_value(self):\n",
    "        \"\"\"\n",
    "        Calculates the expected value (mean) of the random variable.\n",
    "\n",
    "        :return: The expected value.\n",
    "        \"\"\"\n",
    "        return sum(value * prob for value, prob in zip(self.values, self.probabilities))\n",
    "\n",
    "    def variance(self):\n",
    "        \"\"\"\n",
    "        Calculates the variance of the random variable.\n",
    "\n",
    "        :return: The variance.\n",
    "        \"\"\"\n",
    "        mean = self.expected_value()\n",
    "        return sum((value - mean) ** 2 * prob for value, prob in zip(self.values, self.probabilities))\n",
    "\n",
    "\n",
    "# Example usage:\n",
    "values = [1, 2, 3, 4]\n",
    "probabilities = [0.1, 0.2, 0.4, 0.3]\n",
    "\n",
    "random_variable = DiscreteRandomVariable(values, probabilities)\n",
    "print(\"Expected Value:\", random_variable.expected_value())\n",
    "print(\"Variance:\", random_variable.variance())\n"
   ]
  },
  {
   "cell_type": "markdown",
   "id": "24a45e03-c194-4705-920d-d67c037de065",
   "metadata": {},
   "source": [
    "## 4.Implement a program to simulate the rolling of a fair six-sided die and calculate the expected value and variance of the outcomes."
   ]
  },
  {
   "cell_type": "code",
   "execution_count": 2,
   "id": "8dde1320-248d-4eb3-8f51-e2785f7ac9f2",
   "metadata": {},
   "outputs": [
    {
     "name": "stdout",
     "output_type": "stream",
     "text": [
      "Expected Value: 3.5\n",
      "Variance: 2.9166666666666665\n"
     ]
    }
   ],
   "source": [
    "import random\n",
    "\n",
    "class DiscreteRandomVariable:\n",
    "    def __init__(self, values, probabilities):\n",
    "        self.values = values\n",
    "        self.probabilities = probabilities\n",
    "\n",
    "    def expected_value(self):\n",
    "        return sum(value * prob for value, prob in zip(self.values, self.probabilities))\n",
    "\n",
    "    def variance(self):\n",
    "        mean = self.expected_value()\n",
    "        return sum((value - mean) ** 2 * prob for value, prob in zip(self.values, self.probabilities))\n",
    "\n",
    "# Simulating a fair six-sided die\n",
    "values = [1, 2, 3, 4, 5, 6]\n",
    "probabilities = [1/6] * 6  # Equal probability for each outcome\n",
    "\n",
    "die = DiscreteRandomVariable(values, probabilities)\n",
    "print(\"Expected Value:\", die.expected_value())\n",
    "print(\"Variance:\", die.variance())\n"
   ]
  },
  {
   "cell_type": "markdown",
   "id": "f1ecbf69-b9ba-4344-9d45-4b4f9f38aabf",
   "metadata": {},
   "source": [
    "## 5.Create a python function to generate random samples from a given probability distribution (e.g., binomial,poisson) and calculate their mean and variance."
   ]
  },
  {
   "cell_type": "code",
   "execution_count": 3,
   "id": "7428f0ac-c805-48e9-ae2c-da481d82f9d0",
   "metadata": {},
   "outputs": [
    {
     "name": "stdout",
     "output_type": "stream",
     "text": [
      "Binomial Distribution - Mean: 5.003 Variance: 2.4709909999999997\n",
      "Poisson Distribution - Mean: 2.97 Variance: 2.8571\n"
     ]
    }
   ],
   "source": [
    "import numpy as np\n",
    "\n",
    "def generate_samples(distribution, params, sample_size=1000):\n",
    "    \n",
    "    if distribution == 'binomial':\n",
    "        n = params.get('n', 1)\n",
    "        p = params.get('p', 0.5)\n",
    "        samples = np.random.binomial(n, p, sample_size)\n",
    "    elif distribution == 'poisson':\n",
    "        lam = params.get('lambda', 1)\n",
    "        samples = np.random.poisson(lam, sample_size)\n",
    "    else:\n",
    "        raise ValueError(\"Unsupported distribution. Use 'binomial' or 'poisson'.\")\n",
    "\n",
    "    mean = np.mean(samples)\n",
    "    variance = np.var(samples)\n",
    "    return mean, variance\n",
    "\n",
    "# Example usage\n",
    "# Binomial distribution with n=10 trials and p=0.5 probability of success\n",
    "binomial_mean, binomial_variance = generate_samples('binomial', {'n': 10, 'p': 0.5}, 1000)\n",
    "print(\"Binomial Distribution - Mean:\", binomial_mean, \"Variance:\", binomial_variance)\n",
    "\n",
    "# Poisson distribution with λ=3\n",
    "poisson_mean, poisson_variance = generate_samples('poisson', {'lambda': 3}, 1000)\n",
    "print(\"Poisson Distribution - Mean:\", poisson_mean, \"Variance:\", poisson_variance)\n"
   ]
  },
  {
   "cell_type": "markdown",
   "id": "cb323829-dd0d-4da3-821d-d3a55df991d6",
   "metadata": {},
   "source": [
    "## 6.Write a python script to generate random numbers from a Gaussian(normal) distribution and compute the mean ,variance , and standard deviation of the samples."
   ]
  },
  {
   "cell_type": "code",
   "execution_count": 4,
   "id": "2db837ff-3ac7-4d32-bdb5-77a598311235",
   "metadata": {},
   "outputs": [
    {
     "name": "stdout",
     "output_type": "stream",
     "text": [
      "Gaussian Distribution - Mean: -0.03294505127575364\n",
      "Variance: 0.9229140424650322\n",
      "Standard Deviation: 0.9606841533329423\n"
     ]
    }
   ],
   "source": [
    "import numpy as np\n",
    "\n",
    "def gaussian_statistics(mean, std_dev, sample_size=1000):\n",
    "    \n",
    "    samples = np.random.normal(mean, std_dev, sample_size)\n",
    "    \n",
    "    calculated_mean = np.mean(samples)\n",
    "    calculated_variance = np.var(samples)\n",
    "    calculated_std_dev = np.std(samples)\n",
    "    \n",
    "    return calculated_mean, calculated_variance, calculated_std_dev\n",
    "\n",
    "# Example usage\n",
    "# Gaussian distribution with mean=0 and standard deviation=1\n",
    "mean, variance, std_dev = gaussian_statistics(0, 1, 1000)\n",
    "print(\"Gaussian Distribution - Mean:\", mean)\n",
    "print(\"Variance:\", variance)\n",
    "print(\"Standard Deviation:\", std_dev)\n"
   ]
  },
  {
   "cell_type": "markdown",
   "id": "00ed61e0-f86a-4c4b-8db7-5b7e1826f9c9",
   "metadata": {},
   "source": [
    "## 7. Use seaborn library to load 'tips' dataset.Find the following from the dataset for the columns 'total_bill' and 'tip':\n",
    "(i) Write a python function that calculates their skewness.\n",
    "\n",
    "(ii) Create a program that determines whether the columns exhibit positive skewness, negative skewness,or is approximately symmetric.\n",
    "\n",
    "(iii) Write a function that calculates the covariance between two columns.\n",
    "\n",
    "(iv) Implement a python program that calculates the Pearson correlation coefficient between two columns.\n",
    "\n",
    "(v) Write a script to visualize the correlation between two specific columns in a Pandas DataFrame using scatter plots.\n",
    "\n"
   ]
  },
  {
   "cell_type": "code",
   "execution_count": 5,
   "id": "6e24a18c-d1fd-4a4b-9f7a-1f42872aa5d4",
   "metadata": {},
   "outputs": [],
   "source": [
    "import seaborn as sns\n",
    "import pandas as pd\n",
    "import numpy as np\n",
    "from scipy.stats import skew\n",
    "import matplotlib.pyplot as plt\n",
    "\n",
    "# Load the 'tips' dataset\n",
    "tips = sns.load_dataset('tips')"
   ]
  },
  {
   "cell_type": "code",
   "execution_count": 6,
   "id": "42a93e13-d640-4de2-945a-447634f03d0d",
   "metadata": {},
   "outputs": [
    {
     "name": "stdout",
     "output_type": "stream",
     "text": [
      "Skewness of 'total_bill': 1.1262346334818638\n",
      "Skewness of 'tip': 1.4564266884221506\n"
     ]
    }
   ],
   "source": [
    "# (i) Function to calculate skewness\n",
    "def calculate_skewness(column):\n",
    "    \"\"\"\n",
    "    Calculates the skewness of a given column.\n",
    "\n",
    "    :param column: A Pandas Series for which to calculate skewness.\n",
    "    :return: Skewness value.\n",
    "    \"\"\"\n",
    "    return skew(column)\n",
    "\n",
    "# Skewness of 'total_bill' and 'tip'\n",
    "total_bill_skewness = calculate_skewness(tips['total_bill'])\n",
    "tip_skewness = calculate_skewness(tips['tip'])\n",
    "\n",
    "print(\"Skewness of 'total_bill':\", total_bill_skewness)\n",
    "print(\"Skewness of 'tip':\", tip_skewness)"
   ]
  },
  {
   "cell_type": "code",
   "execution_count": 7,
   "id": "d9edc938-ecee-438f-b8eb-775391616f8c",
   "metadata": {},
   "outputs": [
    {
     "name": "stdout",
     "output_type": "stream",
     "text": [
      "'total_bill' Skewness Type: Positive skewness\n",
      "'tip' Skewness Type: Positive skewness\n"
     ]
    }
   ],
   "source": [
    "# (ii) Determine the type of skewness\n",
    "def skewness_type(skewness):\n",
    "    \"\"\"\n",
    "    Determines the type of skewness based on the skewness value.\n",
    "\n",
    "    :param skewness: The skewness value.\n",
    "    :return: A string describing the skewness type.\n",
    "    \"\"\"\n",
    "    if skewness > 0:\n",
    "        return \"Positive skewness\"\n",
    "    elif skewness < 0:\n",
    "        return \"Negative skewness\"\n",
    "    else:\n",
    "        return \"Approximately symmetric\"\n",
    "\n",
    "# Check skewness type for 'total_bill' and 'tip'\n",
    "print(\"'total_bill' Skewness Type:\", skewness_type(total_bill_skewness))\n",
    "print(\"'tip' Skewness Type:\", skewness_type(tip_skewness))"
   ]
  },
  {
   "cell_type": "code",
   "execution_count": 8,
   "id": "62651890-fcb6-46d9-bf0e-e1f96124deb9",
   "metadata": {},
   "outputs": [
    {
     "name": "stdout",
     "output_type": "stream",
     "text": [
      "Covariance between 'total_bill' and 'tip': 8.323501629224854\n"
     ]
    }
   ],
   "source": [
    "# (iii) Function to calculate covariance between two columns\n",
    "def calculate_covariance(column1, column2):\n",
    "    \"\"\"\n",
    "    Calculates the covariance between two columns.\n",
    "\n",
    "    :param column1: First Pandas Series.\n",
    "    :param column2: Second Pandas Series.\n",
    "    :return: Covariance value.\n",
    "    \"\"\"\n",
    "    return np.cov(column1, column2)[0, 1]\n",
    "\n",
    "# Covariance between 'total_bill' and 'tip'\n",
    "covariance = calculate_covariance(tips['total_bill'], tips['tip'])\n",
    "print(\"Covariance between 'total_bill' and 'tip':\", covariance)"
   ]
  },
  {
   "cell_type": "code",
   "execution_count": 9,
   "id": "40bbe5cf-d722-411a-bc79-7a877445538e",
   "metadata": {},
   "outputs": [
    {
     "name": "stdout",
     "output_type": "stream",
     "text": [
      "Pearson Correlation Coefficient between 'total_bill' and 'tip': 0.6757341092113645\n"
     ]
    }
   ],
   "source": [
    "# (iv) Function to calculate Pearson correlation coefficient\n",
    "def calculate_pearson_correlation(column1, column2):\n",
    "    \"\"\"\n",
    "    Calculates the Pearson correlation coefficient between two columns.\n",
    "\n",
    "    :param column1: First Pandas Series.\n",
    "    :param column2: Second Pandas Series.\n",
    "    :return: Pearson correlation coefficient.\n",
    "    \"\"\"\n",
    "    return np.corrcoef(column1, column2)[0, 1]\n",
    "\n",
    "# Pearson correlation coefficient between 'total_bill' and 'tip'\n",
    "pearson_correlation = calculate_pearson_correlation(tips['total_bill'], tips['tip'])\n",
    "print(\"Pearson Correlation Coefficient between 'total_bill' and 'tip':\", pearson_correlation)"
   ]
  },
  {
   "cell_type": "code",
   "execution_count": 10,
   "id": "2d324a67-bea1-4e62-b1fe-3ecf28b0db79",
   "metadata": {},
   "outputs": [
    {
     "data": {
      "image/png": "[encoded data removed]",
      "text/plain": [
       "<Figure size 800x600 with 1 Axes>"
      ]
     },
     "metadata": {},
     "output_type": "display_data"
    }
   ],
   "source": [
    "# (v) Visualize correlation using scatter plot\n",
    "plt.figure(figsize=(8, 6))\n",
    "plt.scatter(tips['total_bill'], tips['tip'], alpha=0.6)\n",
    "plt.title(\"Scatter Plot of 'total_bill' vs 'tip'\")\n",
    "plt.xlabel('Total Bill')\n",
    "plt.ylabel('Tip')\n",
    "plt.grid(True)\n",
    "plt.show()"
   ]
  },
  {
   "cell_type": "markdown",
   "id": "fbfe8eee-71de-4360-82d3-9988466826ce",
   "metadata": {},
   "source": [
    "## 8. Write a python function to calculate the probability density function(PDF) of a continuous random variable for a given normal distribution."
   ]
  },
  {
   "cell_type": "code",
   "execution_count": 11,
   "id": "748c9ee6-0464-4c64-b993-01b5eff09e47",
   "metadata": {},
   "outputs": [
    {
     "name": "stdout",
     "output_type": "stream",
     "text": [
      "PDF value at x = 1.5 for N(0, 1^2): 0.12951759566589174\n"
     ]
    }
   ],
   "source": [
    "import math\n",
    "\n",
    "def normal_pdf(x, mean, std_dev):\n",
    "  \n",
    "    coefficient = 1 / (std_dev * math.sqrt(2 * math.pi))\n",
    "    exponent = -((x - mean) ** 2) / (2 * std_dev ** 2)\n",
    "    pdf_value = coefficient * math.exp(exponent)\n",
    "    return pdf_value\n",
    "\n",
    "# Example usage\n",
    "x = 1.5\n",
    "mean = 0\n",
    "std_dev = 1\n",
    "pdf_value = normal_pdf(x, mean, std_dev)\n",
    "print(f\"PDF value at x = {x} for N({mean}, {std_dev}^2):\", pdf_value)\n"
   ]
  },
  {
   "cell_type": "markdown",
   "id": "e301ff78-bc3c-41e1-97fa-5670db214467",
   "metadata": {},
   "source": [
    "## 9.Create  a program to calculate the cumulative distribution function(CDF) of exponential distribution."
   ]
  },
  {
   "cell_type": "code",
   "execution_count": 12,
   "id": "c27205a3-d8ec-4f87-91d7-6bd2827cc360",
   "metadata": {},
   "outputs": [
    {
     "name": "stdout",
     "output_type": "stream",
     "text": [
      "CDF value at x = 2 for exponential distribution with rate λ = 0.5: 0.6321205588285577\n"
     ]
    }
   ],
   "source": [
    "import math\n",
    "\n",
    "def exponential_cdf(x, rate):\n",
    "    if x < 0:\n",
    "        return 0  # CDF is 0 for x < 0 in exponential distribution\n",
    "    cdf_value = 1 - math.exp(-rate * x)\n",
    "    return cdf_value\n",
    "\n",
    "# Example usage\n",
    "x = 2\n",
    "rate = 0.5  # λ = 0.5, mean = 1/λ = 2\n",
    "cdf_value = exponential_cdf(x, rate)\n",
    "print(f\"CDF value at x = {x} for exponential distribution with rate λ = {rate}:\", cdf_value)\n"
   ]
  },
  {
   "cell_type": "markdown",
   "id": "81d0b98e-c69c-4862-816f-61dd8444453f",
   "metadata": {},
   "source": [
    "## 10. Write a python function to calculate the probability mass function(PMF) of poisson distribution."
   ]
  },
  {
   "cell_type": "code",
   "execution_count": 13,
   "id": "cc9bf2a0-9d95-45ac-ac76-97b74e881137",
   "metadata": {},
   "outputs": [
    {
     "name": "stdout",
     "output_type": "stream",
     "text": [
      "PMF value at k = 3 for Poisson distribution with rate λ = 2.5: 0.21376301724973645\n"
     ]
    }
   ],
   "source": [
    "import math\n",
    "\n",
    "def poisson_pmf(k, rate):\n",
    "    if k < 0 or not isinstance(k, int):\n",
    "        raise ValueError(\"k must be a non-negative integer.\")\n",
    "    if rate <= 0:\n",
    "        raise ValueError(\"Rate parameter λ must be greater than 0.\")\n",
    "    \n",
    "    pmf_value = (rate ** k * math.exp(-rate)) / math.factorial(k)\n",
    "    return pmf_value\n",
    "\n",
    "# Example usage\n",
    "k = 3\n",
    "rate = 2.5  # λ = 2.5\n",
    "pmf_value = poisson_pmf(k, rate)\n",
    "print(f\"PMF value at k = {k} for Poisson distribution with rate λ = {rate}:\", pmf_value)\n"
   ]
  },
  {
   "cell_type": "markdown",
   "id": "21a9b689-d5c0-48e4-b7c3-6db848b417b6",
   "metadata": {},
   "source": [
    "## 11. A company wants to test if a new website layout leads to a higher conversion rate (percentage of visitors who make a purchase). They collect data from both the old and new layouts to compare.\n",
    "\n",
    "import numpy as np\n",
    "\n",
    " 50 purchases out of 1000 visitors\n",
    "old_layout = np.array([1] * 50 + [0] * 950)\n",
    "\n",
    " 70 purchases out of 1000 visitors  \n",
    "new_layout = np.array([1] * 70 + [0] * 930)\n",
    "\n",
    "Apply a z-test to determine which layout is more successful.\n"
   ]
  },
  {
   "cell_type": "code",
   "execution_count": 14,
   "id": "96702e23-7cb3-4435-aa33-8a66977ab7e0",
   "metadata": {},
   "outputs": [
    {
     "name": "stdout",
     "output_type": "stream",
     "text": [
      "Z-statistic: -1.8831\n",
      "P-value: 0.9702\n",
      "Fail to reject the null hypothesis: There is no evidence that the new layout is better.\n"
     ]
    }
   ],
   "source": [
    "import numpy as np\n",
    "from statsmodels.stats.proportion import proportions_ztest\n",
    "\n",
    "# Data\n",
    "old_layout = np.array([1] * 50 + [0] * 950)  # 50 purchases out of 1000 visitors\n",
    "new_layout = np.array([1] * 70 + [0] * 930)  # 70 purchases out of 1000 visitors\n",
    "\n",
    "# Number of successes and sample sizes\n",
    "successes = np.array([old_layout.sum(), new_layout.sum()])\n",
    "n = np.array([len(old_layout), len(new_layout)])\n",
    "\n",
    "# Perform the two-proportion z-test\n",
    "z_stat, p_value = proportions_ztest(successes, n, alternative='larger')\n",
    "\n",
    "print(f\"Z-statistic: {z_stat:.4f}\")\n",
    "print(f\"P-value: {p_value:.4f}\")\n",
    "\n",
    "# Interpretation\n",
    "alpha = 0.05  # Significance level\n",
    "if p_value < alpha:\n",
    "    print(\"Reject the null hypothesis: The new layout leads to a higher conversion rate.\")\n",
    "else:\n",
    "    print(\"Fail to reject the null hypothesis: There is no evidence that the new layout is better.\")\n"
   ]
  },
  {
   "cell_type": "markdown",
   "id": "3d569ca5-1ddf-40d5-ae2a-543a0f6d3e3e",
   "metadata": {},
   "source": [
    "## 12. A tutoring service claims that its program improves students' exam scores. A sample of students who participated in the program was taken, and their scores before and after the program were recorded.\n",
    "Use the following code to generate the respective arrays of marks:\n",
    "\n",
    "import numpy as np\n",
    "\n",
    "before_program = np.array([75, 80, 85, 70, 90, 78, 92, 88, 82, 87])\n",
    "\n",
    "after_program = np.array([80, 85, 90, 80, 92, 80, 95, 90, 85, 88])\n",
    "\n",
    "Use a z-test to determine if the claims made by the tutor are true or false."
   ]
  },
  {
   "cell_type": "code",
   "execution_count": 15,
   "id": "36271416-b673-4ee5-b72a-c0842545c2ef",
   "metadata": {},
   "outputs": [
    {
     "name": "stdout",
     "output_type": "stream",
     "text": [
      "T-statistic: 4.5932\n",
      "P-value: 0.0013\n",
      "Reject the null hypothesis: The tutoring program significantly improves exam scores.\n"
     ]
    }
   ],
   "source": [
    "import numpy as np\n",
    "from scipy import stats\n",
    "\n",
    "# Data\n",
    "before_program = np.array([75, 80, 85, 70, 90, 78, 92, 88, 82, 87])\n",
    "after_program = np.array([80, 85, 90, 80, 92, 80, 95, 90, 85, 88])\n",
    "\n",
    "# Compute differences\n",
    "differences = after_program - before_program\n",
    "\n",
    "# Perform the paired sample t-test\n",
    "t_stat, p_value = stats.ttest_rel(after_program, before_program)\n",
    "\n",
    "print(f\"T-statistic: {t_stat:.4f}\")\n",
    "print(f\"P-value: {p_value:.4f}\")\n",
    "\n",
    "# Interpretation\n",
    "alpha = 0.05  # Significance level\n",
    "if p_value < alpha:\n",
    "    print(\"Reject the null hypothesis: The tutoring program significantly improves exam scores.\")\n",
    "else:\n",
    "    print(\"Fail to reject the null hypothesis: There is no significant evidence that the tutoring program improves exam scores.\")\n"
   ]
  },
  {
   "cell_type": "markdown",
   "id": "ae09fa16-b73c-449c-9344-ea6086efd8c6",
   "metadata": {},
   "source": [
    "## 13. A  pharmaceutical company wants to determine if a new drug is effective in reducing blood pressure. They conduct a study and record blood pressure measurement before and after administering the drug.\n",
    "Use the below code to ge<erate samples of respective arrays of blood pressure:\n",
    "\n",
    "\n",
    "```python\n",
    "\n",
    "before_drug = np.array([145, 150, 140, 135, 155, 160, 152, 148, 130, 138])\n",
    "\n",
    "after_drug = np.array([130, 140, 132, 128, 145, 148, 138, 136, 125, 130])\n",
    "\n",
    "  ```\n",
    "\n",
    "\n",
    "Implement  z-test to find if the drug really works or not\n"
   ]
  },
  {
   "cell_type": "code",
   "execution_count": 16,
   "id": "fa7eac2c-d1c5-450f-9b67-fd2f719c251a",
   "metadata": {},
   "outputs": [
    {
     "name": "stdout",
     "output_type": "stream",
     "text": [
      "Z-statistic: -10.5935\n",
      "P-value: 0.0000\n",
      "Reject the null hypothesis: The drug significantly reduces blood pressure.\n"
     ]
    }
   ],
   "source": [
    "import numpy as np\n",
    "from scipy import stats\n",
    "\n",
    "# Data\n",
    "before_drug = np.array([145, 150, 140, 135, 155, 160, 152, 148, 130, 138])\n",
    "after_drug = np.array([130, 140, 132, 128, 145, 148, 138, 136, 125, 130])\n",
    "\n",
    "# Compute differences\n",
    "differences = after_drug - before_drug\n",
    "\n",
    "# Mean and standard deviation of the differences\n",
    "mean_diff = np.mean(differences)\n",
    "std_diff = np.std(differences, ddof=0)  # Population standard deviation\n",
    "\n",
    "# Sample size\n",
    "n = len(differences)\n",
    "\n",
    "# Calculate the z-statistic\n",
    "z_stat = mean_diff / (std_diff / np.sqrt(n))\n",
    "\n",
    "# Compute the p-value for a one-tailed test (since we're testing if the drug reduces blood pressure)\n",
    "p_value = stats.norm.cdf(z_stat)\n",
    "\n",
    "print(f\"Z-statistic: {z_stat:.4f}\")\n",
    "print(f\"P-value: {p_value:.4f}\")\n",
    "\n",
    "# Interpretation\n",
    "alpha = 0.05  # Significance level\n",
    "if p_value < alpha:\n",
    "    print(\"Reject the null hypothesis: The drug significantly reduces blood pressure.\")\n",
    "else:\n",
    "    print(\"Fail to reject the null hypothesis: There is no significant evidence that the drug reduces blood pressure.\")\n"
   ]
  },
  {
   "cell_type": "markdown",
   "id": "488ea34d-67e3-42a3-bc7a-6ac50f374b52",
   "metadata": {},
   "source": [
    "## 14. A customer service department claims that their average response time is less than 5 minutes. A sample of  recent customer interactions was taken , and the response times were recorded.\n",
    "\n",
    "Implement the below code to ge3erate the array of response time:\n",
    "\n",
    "```python\n",
    "\n",
    "response_times = np.array([4.3, 3.8, 5.1, 4.9, 4.7, 4.2, 5.2, 4.5, 4.6, 4.4])\n",
    "\n",
    "```\n",
    "\n",
    "Implement z-test to find the claims made by customer service departmen are true or false."
   ]
  },
  {
   "cell_type": "code",
   "execution_count": 17,
   "id": "88ba33f1-2b75-4949-bcaa-652b32288c3b",
   "metadata": {},
   "outputs": [
    {
     "name": "stdout",
     "output_type": "stream",
     "text": [
      "Z-statistic: -3.3567\n",
      "P-value: 0.0004\n",
      "Reject the null hypothesis: The average response time is significantly less than 5 minutes.\n"
     ]
    }
   ],
   "source": [
    "import numpy as np\n",
    "from scipy import stats\n",
    "\n",
    "# Data\n",
    "response_times = np.array([4.3, 3.8, 5.1, 4.9, 4.7, 4.2, 5.2, 4.5, 4.6, 4.4])\n",
    "\n",
    "# Sample statistics\n",
    "sample_mean = np.mean(response_times)\n",
    "sample_std = np.std(response_times, ddof=0)  # Population standard deviation\n",
    "n = len(response_times)\n",
    "\n",
    "# Hypothesized population mean\n",
    "mu = 5\n",
    "\n",
    "# Calculate the z-statistic\n",
    "z_stat = (sample_mean - mu) / (sample_std / np.sqrt(n))\n",
    "\n",
    "# Compute the p-value for a one-tailed test (since we're testing if the mean is less than 5)\n",
    "p_value = stats.norm.cdf(z_stat)\n",
    "\n",
    "print(f\"Z-statistic: {z_stat:.4f}\")\n",
    "print(f\"P-value: {p_value:.4f}\")\n",
    "\n",
    "# Interpretation\n",
    "alpha = 0.05  # Significance level\n",
    "if p_value < alpha:\n",
    "    print(\"Reject the null hypothesis: The average response time is significantly less than 5 minutes.\")\n",
    "else:\n",
    "    print(\"Fail to reject the null hypothesis: There is no significant evidence that the average response time is less than 5 minutes.\")\n"
   ]
  },
  {
   "cell_type": "markdown",
   "id": "82c42e1a-deae-4f30-9c26-27fabe0bf3a7",
   "metadata": {},
   "source": [
    "## 15. A company is testing two different website layouts to see which one leads to higer click-through rates.Write a python  function to perform an A/B test analysis,including calculating the t-statistic ,degrees of freedom , and p-value.\n",
    "\n",
    "Use the followi3g data:\n",
    "\n",
    "```python\n",
    "\n",
    "layout_a_clicks = [28, 32, 33, 29, 31, 34, 30, 35, 36, 37]\n",
    "\n",
    "layout_b_clicks = [40, 41, 38, 42, 39, 44, 43, 41, 45, 47]"
   ]
  },
  {
   "cell_type": "code",
   "execution_count": 18,
   "id": "6fa31257-376d-48c6-8df2-6ba362bfceb0",
   "metadata": {},
   "outputs": [
    {
     "name": "stdout",
     "output_type": "stream",
     "text": [
      "T-statistic: -7.2981\n",
      "Degrees of Freedom: 17.8799\n",
      "P-value: 0.0000\n",
      "Reject the null hypothesis: There is a significant difference in click-through rates between the two layouts.\n"
     ]
    }
   ],
   "source": [
    "import numpy as np\n",
    "from scipy import stats\n",
    "\n",
    "def perform_ab_test(layout_a_clicks, layout_b_clicks):\n",
    "    # Convert lists to numpy arrays for easier calculations\n",
    "    layout_a_clicks = np.array(layout_a_clicks)\n",
    "    layout_b_clicks = np.array(layout_b_clicks)\n",
    "\n",
    "    # Calculate means\n",
    "    mean_a = np.mean(layout_a_clicks)\n",
    "    mean_b = np.mean(layout_b_clicks)\n",
    "    \n",
    "    # Calculate variances\n",
    "    var_a = np.var(layout_a_clicks, ddof=1)  # Sample variance\n",
    "    var_b = np.var(layout_b_clicks, ddof=1)  # Sample variance\n",
    "    \n",
    "    # Sample sizes\n",
    "    n_a = len(layout_a_clicks)\n",
    "    n_b = len(layout_b_clicks)\n",
    "\n",
    "    # Calculate the t-statistic\n",
    "    t_stat = (mean_a - mean_b) / np.sqrt(var_a / n_a + var_b / n_b)\n",
    "    \n",
    "    # Calculate degrees of freedom\n",
    "    df = ((var_a / n_a + var_b / n_b) ** 2) / \\\n",
    "         (( (var_a / n_a) ** 2 / (n_a - 1) ) + ( (var_b / n_b) ** 2 / (n_b - 1) ))\n",
    "    \n",
    "    # Calculate the p-value for a two-tailed test\n",
    "    p_value = stats.t.sf(np.abs(t_stat), df) * 2  # Multiply by 2 for two-tailed test\n",
    "    \n",
    "    return t_stat, df, p_value\n",
    "\n",
    "# Data\n",
    "layout_a_clicks = [28, 32, 33, 29, 31, 34, 30, 35, 36, 37]\n",
    "layout_b_clicks = [40, 41, 38, 42, 39, 44, 43, 41, 45, 47]\n",
    "\n",
    "# Perform A/B test\n",
    "t_stat, df, p_value = perform_ab_test(layout_a_clicks, layout_b_clicks)\n",
    "\n",
    "print(f\"T-statistic: {t_stat:.4f}\")\n",
    "print(f\"Degrees of Freedom: {df:.4f}\")\n",
    "print(f\"P-value: {p_value:.4f}\")\n",
    "\n",
    "# Interpretation\n",
    "alpha = 0.05  # Significance level\n",
    "if p_value < alpha:\n",
    "    print(\"Reject the null hypothesis: There is a significant difference in click-through rates between the two layouts.\")\n",
    "else:\n",
    "    print(\"Fail to reject the null hypothesis: There is no significant difference in click-through rates between the two layouts.\")\n"
   ]
  },
  {
   "cell_type": "markdown",
   "id": "37166974-6de2-4c1d-ac9c-c9405fbab702",
   "metadata": {},
   "source": [
    "## 16. A pharmaceutical company wants to determine if a new drug is more effective than an existing drug in reducing cholesterol levels.Create a program to analyze the clinical trial data and calculate the t-statistic and p-value for the treatment effect.\n",
    "\n",
    "Use the following data of cholestrol level:\n",
    "\n",
    "```python\n",
    "\n",
    "existi3g_drug_levels = [180, 182, 175, 185, 178, 176, 172, 184, 179, 183]\n",
    "\n",
    "new_drug_levels = [170, 172, 165, 168, 175, 173, 170, 178, 172, 176]\n",
    "\n",
    "```"
   ]
  },
  {
   "cell_type": "code",
   "execution_count": 19,
   "id": "f9fd3d7e-b14f-4ae9-93e6-c46bc2767485",
   "metadata": {},
   "outputs": [
    {
     "name": "stdout",
     "output_type": "stream",
     "text": [
      "T-statistic: -4.1405\n",
      "Degrees of Freedom: 17.8668\n",
      "P-value: 0.0003\n",
      "Reject the null hypothesis: The new drug is significantly more effective in reducing cholesterol levels than the existing drug.\n"
     ]
    }
   ],
   "source": [
    "import numpy as np\n",
    "from scipy import stats\n",
    "\n",
    "def analyze_clinical_trial(existing_drug_levels, new_drug_levels):\n",
    "    # Convert lists to numpy arrays for easier calculations\n",
    "    existing_drug_levels = np.array(existing_drug_levels)\n",
    "    new_drug_levels = np.array(new_drug_levels)\n",
    "\n",
    "    # Calculate means\n",
    "    mean_existing = np.mean(existing_drug_levels)\n",
    "    mean_new = np.mean(new_drug_levels)\n",
    "    \n",
    "    # Calculate variances\n",
    "    var_existing = np.var(existing_drug_levels, ddof=1)  # Sample variance\n",
    "    var_new = np.var(new_drug_levels, ddof=1)  # Sample variance\n",
    "    \n",
    "    # Sample sizes\n",
    "    n_existing = len(existing_drug_levels)\n",
    "    n_new = len(new_drug_levels)\n",
    "\n",
    "    # Calculate the t-statistic\n",
    "    t_stat = (mean_new - mean_existing) / np.sqrt(var_new / n_new + var_existing / n_existing)\n",
    "    \n",
    "    # Calculate degrees of freedom\n",
    "    df = ((var_new / n_new + var_existing / n_existing) ** 2) / \\\n",
    "         (( (var_new / n_new) ** 2 / (n_new - 1) ) + ( (var_existing / n_existing) ** 2 / (n_existing - 1) ))\n",
    "    \n",
    "    # Calculate the p-value for a one-tailed test (since we're testing if the new drug is more effective)\n",
    "    p_value = stats.t.cdf(t_stat, df)\n",
    "    \n",
    "    return t_stat, df, p_value\n",
    "\n",
    "# Data\n",
    "existing_drug_levels = [180, 182, 175, 185, 178, 176, 172, 184, 179, 183]\n",
    "new_drug_levels = [170, 172, 165, 168, 175, 173, 170, 178, 172, 176]\n",
    "\n",
    "# Analyze clinical trial data\n",
    "t_stat, df, p_value = analyze_clinical_trial(existing_drug_levels, new_drug_levels)\n",
    "\n",
    "print(f\"T-statistic: {t_stat:.4f}\")\n",
    "print(f\"Degrees of Freedom: {df:.4f}\")\n",
    "print(f\"P-value: {p_value:.4f}\")\n",
    "\n",
    "# Interpretation\n",
    "alpha = 0.05  # Significance level\n",
    "if p_value < alpha:\n",
    "    print(\"Reject the null hypothesis: The new drug is significantly more effective in reducing cholesterol levels than the existing drug.\")\n",
    "else:\n",
    "    print(\"Fail to reject the null hypothesis: There is no significant evidence that the new drug is more effective in reducing cholesterol levels.\")\n"
   ]
  },
  {
   "cell_type": "markdown",
   "id": "a071d27d-c832-49f2-b3a6-7d508d59ec0a",
   "metadata": {},
   "source": [
    "## 17. A school district intoduces an educational intervention program to improve math scores. Write a python function to analyze pre- and post- intervention test scores, calculating the t-statistic and p-value to determine if the intervention  had a significant impact.\n",
    "\n",
    "Use the following data of test score:\n",
    "\n",
    "\n",
    "  ```python\n",
    "\n",
    "  pre_intervention_scores = [80, 85, 90, 75, 88, 82, 92, 78, 85, 87]\n",
    "\n",
    "  post_intervention_scores = [90, 92, 88, 92, 95, 91, 96, 93, 89, 93]\n",
    "\n",
    "  ```"
   ]
  },
  {
   "cell_type": "code",
   "execution_count": 22,
   "id": "318eb954-0e57-48a2-867e-a227df69d0b9",
   "metadata": {},
   "outputs": [
    {
     "name": "stdout",
     "output_type": "stream",
     "text": [
      "T-statistic: 4.4284\n",
      "Degrees of Freedom: 9.0000\n",
      "P-value: 0.0017\n",
      "Reject the null hypothesis: The intervention had a significant impact on math scores.\n"
     ]
    }
   ],
   "source": [
    "import numpy as np\n",
    "from scipy import stats\n",
    "\n",
    "def analyze_intervention(pre_intervention_scores, post_intervention_scores):\n",
    "    # Convert lists to numpy arrays for easier calculations\n",
    "    pre_scores = np.array(pre_intervention_scores)\n",
    "    post_scores = np.array(post_intervention_scores)\n",
    "    \n",
    "    # Calculate the differences between post and pre-intervention scores\n",
    "    differences = post_scores - pre_scores\n",
    "    \n",
    "    # Calculate the mean and standard deviation of the differences\n",
    "    mean_diff = np.mean(differences)\n",
    "    std_diff = np.std(differences, ddof=1)  # Sample standard deviation\n",
    "    \n",
    "    # Sample size\n",
    "    n = len(differences)\n",
    "    \n",
    "    # Calculate the t-statistic\n",
    "    t_stat = mean_diff / (std_diff / np.sqrt(n))\n",
    "    \n",
    "    # Calculate the degrees of freedom\n",
    "    df = n - 1\n",
    "    \n",
    "    # Calculate the p-value for a two-tailed test\n",
    "    p_value = stats.t.sf(np.abs(t_stat), df) * 2\n",
    "    \n",
    "    return t_stat, df, p_value\n",
    "\n",
    "# Data\n",
    "pre_intervention_scores = [80, 85, 90, 75, 88, 82, 92, 78, 85, 87]\n",
    "post_intervention_scores = [90, 92, 88, 92, 95, 91, 96, 93, 89, 93]\n",
    "\n",
    "# Analyze the intervention\n",
    "t_stat, df, p_value = analyze_intervention(pre_intervention_scores, post_intervention_scores)\n",
    "\n",
    "print(f\"T-statistic: {t_stat:.4f}\")\n",
    "print(f\"Degrees of Freedom: {df:.4f}\")\n",
    "print(f\"P-value: {p_value:.4f}\")\n",
    "\n",
    "# Interpretation\n",
    "alpha = 0.05  # Significance level\n",
    "if p_value < alpha:\n",
    "    print(\"Reject the null hypothesis: The intervention had a significant impact on math scores.\")\n",
    "else:\n",
    "    print(\"Fail to reject the null hypothesis: There is no significant evidence that the intervention had an impact on math scores.\")\n",
    "\n"
   ]
  },
  {
   "cell_type": "markdown",
   "id": "8d7de04b-432a-4195-b7f6-bc61fdbba5c2",
   "metadata": {},
   "source": [
    "## 18. An HR department wants to investigate if there's a gender-based salary gap within the company. Develop a program to analyze salary data, calculate the t-statistic, and determine if there's a statistically significant difference between the average salaries of male and female employees.\n",
    "\n",
    "Use the below code to generate synthetic dataY\n",
    "```python\n",
    "\n",
    "# Generate synthetic salary data for male and female employees\n",
    "\n",
    "np.random.seed(0)  # For reproducibility\n",
    "\n",
    "male_salaries = np.random.normal(loc=50000, scale=10000, size=20)\n",
    "\n",
    "female_salaries = np.random.normal(loc=55000, scale=9000, size=20)"
   ]
  },
  {
   "cell_type": "code",
   "execution_count": 23,
   "id": "8096674e-64a4-4d2e-8ed3-93d48c2ba2f9",
   "metadata": {},
   "outputs": [
    {
     "name": "stdout",
     "output_type": "stream",
     "text": [
      "T-statistic: 0.0611\n",
      "Degrees of Freedom: 36.1668\n",
      "P-value: 0.9516\n",
      "Fail to reject the null hypothesis: There is no significant difference in average salaries between male and female employees.\n"
     ]
    }
   ],
   "source": [
    "import numpy as np\n",
    "from scipy import stats\n",
    "\n",
    "def analyze_salary_gap(male_salaries, female_salaries):\n",
    "    # Convert lists to numpy arrays for easier calculations\n",
    "    male_salaries = np.array(male_salaries)\n",
    "    female_salaries = np.array(female_salaries)\n",
    "    \n",
    "    # Calculate means\n",
    "    mean_male = np.mean(male_salaries)\n",
    "    mean_female = np.mean(female_salaries)\n",
    "    \n",
    "    # Calculate variances\n",
    "    var_male = np.var(male_salaries, ddof=1)  # Sample variance\n",
    "    var_female = np.var(female_salaries, ddof=1)  # Sample variance\n",
    "    \n",
    "    # Sample sizes\n",
    "    n_male = len(male_salaries)\n",
    "    n_female = len(female_salaries)\n",
    "\n",
    "    # Calculate the t-statistic\n",
    "    t_stat = (mean_male - mean_female) / np.sqrt(var_male / n_male + var_female / n_female)\n",
    "    \n",
    "    # Calculate degrees of freedom\n",
    "    df = ((var_male / n_male + var_female / n_female) ** 2) / \\\n",
    "         (( (var_male / n_male) ** 2 / (n_male - 1) ) + ( (var_female / n_female) ** 2 / (n_female - 1) ))\n",
    "    \n",
    "    # Calculate the p-value for a two-tailed test\n",
    "    p_value = stats.t.sf(np.abs(t_stat), df) * 2\n",
    "    \n",
    "    return t_stat, df, p_value\n",
    "\n",
    "# Generate synthetic salary data\n",
    "np.random.seed(0)  # For reproducibility\n",
    "male_salaries = np.random.normal(loc=50000, scale=10000, size=20)\n",
    "female_salaries = np.random.normal(loc=55000, scale=9000, size=20)\n",
    "\n",
    "# Analyze the salary data\n",
    "t_stat, df, p_value = analyze_salary_gap(male_salaries, female_salaries)\n",
    "\n",
    "print(f\"T-statistic: {t_stat:.4f}\")\n",
    "print(f\"Degrees of Freedom: {df:.4f}\")\n",
    "print(f\"P-value: {p_value:.4f}\")\n",
    "\n",
    "# Interpretation\n",
    "alpha = 0.05  # Significance level\n",
    "if p_value < alpha:\n",
    "    print(\"Reject the null hypothesis: There is a significant difference in average salaries between male and female employees.\")\n",
    "else:\n",
    "    print(\"Fail to reject the null hypothesis: There is no significant difference in average salaries between male and female employees.\")\n"
   ]
  },
  {
   "cell_type": "markdown",
   "id": "ab3574fd-116a-4646-b74b-581904660a74",
   "metadata": {},
   "source": [
    "## 19. A manufacturer produces two different versions of a product and wants to compare their quality scores. Create a Python function to analyze quality assessment data, calculate the t-statistic, and decide whether there's a significant difference in quality between the two versions. \n",
    "\n",
    "Use the following data.\n",
    "```python\n",
    "\n",
    "version1_scores = [85, 88, 82, 89, 87, 84, 90, 88, 85, 86, 91, 83, 87, 84, 89, 86, 84, 88, 85, 86, 89, 90, 87, 88, 85]\n",
    "\n",
    "version2_scores = [80, 78, 83, 81, 79, 82, 76, 80, 78, 81, 77, 82, 80, 79, 82, 79, 80, 81, 79, 82, 79, 78, 80, 81, 82]\n"
   ]
  },
  {
   "cell_type": "code",
   "execution_count": 24,
   "id": "66049536-5182-481a-83ba-814ad8c6749a",
   "metadata": {},
   "outputs": [
    {
     "name": "stdout",
     "output_type": "stream",
     "text": [
      "T-statistic: 11.3258\n",
      "Degrees of Freedom: 44.4706\n",
      "P-value: 0.0000\n",
      "Reject the null hypothesis: There is a significant difference in quality scores between Version 1 and Version 2.\n"
     ]
    }
   ],
   "source": [
    "import numpy as np\n",
    "from scipy import stats\n",
    "\n",
    "def analyze_quality_scores(version1_scores, version2_scores):\n",
    "    # Convert lists to numpy arrays for easier calculations\n",
    "    version1_scores = np.array(version1_scores)\n",
    "    version2_scores = np.array(version2_scores)\n",
    "    \n",
    "    # Calculate means\n",
    "    mean_version1 = np.mean(version1_scores)\n",
    "    mean_version2 = np.mean(version2_scores)\n",
    "    \n",
    "    # Calculate variances\n",
    "    var_version1 = np.var(version1_scores, ddof=1)  # Sample variance\n",
    "    var_version2 = np.var(version2_scores, ddof=1)  # Sample variance\n",
    "    \n",
    "    # Sample sizes\n",
    "    n_version1 = len(version1_scores)\n",
    "    n_version2 = len(version2_scores)\n",
    "\n",
    "    # Calculate the t-statistic\n",
    "    t_stat = (mean_version1 - mean_version2) / np.sqrt(var_version1 / n_version1 + var_version2 / n_version2)\n",
    "    \n",
    "    # Calculate degrees of freedom\n",
    "    df = ((var_version1 / n_version1 + var_version2 / n_version2) ** 2) / \\\n",
    "         (( (var_version1 / n_version1) ** 2 / (n_version1 - 1) ) + ( (var_version2 / n_version2) ** 2 / (n_version2 - 1) ))\n",
    "    \n",
    "    # Calculate the p-value for a two-tailed test\n",
    "    p_value = stats.t.sf(np.abs(t_stat), df) * 2\n",
    "    \n",
    "    return t_stat, df, p_value\n",
    "\n",
    "# Data\n",
    "version1_scores = [85, 88, 82, 89, 87, 84, 90, 88, 85, 86, 91, 83, 87, 84, 89, 86, 84, 88, 85, 86, 89, 90, 87, 88, 85]\n",
    "version2_scores = [80, 78, 83, 81, 79, 82, 76, 80, 78, 81, 77, 82, 80, 79, 82, 79, 80, 81, 79, 82, 79, 78, 80, 81, 82]\n",
    "\n",
    "# Analyze the quality scores\n",
    "t_stat, df, p_value = analyze_quality_scores(version1_scores, version2_scores)\n",
    "\n",
    "print(f\"T-statistic: {t_stat:.4f}\")\n",
    "print(f\"Degrees of Freedom: {df:.4f}\")\n",
    "print(f\"P-value: {p_value:.4f}\")\n",
    "\n",
    "# Interpretation\n",
    "alpha = 0.05  # Significance level\n",
    "if p_value < alpha:\n",
    "    print(\"Reject the null hypothesis: There is a significant difference in quality scores between Version 1 and Version 2.\")\n",
    "else:\n",
    "    print(\"Fail to reject the null hypothesis: There is no significant difference in quality scores between Version 1 and Version 2.\")\n"
   ]
  },
  {
   "cell_type": "markdown",
   "id": "7abd448a-9c37-44aa-a6a0-0e1df4f86f40",
   "metadata": {},
   "source": [
    "## 20. A restaurant chain collects customer satisfaction scores for two different branches. Write a program to analyze the scores, calculate the t-statistic, and determine if there's a statistically significant difference in customer satisfaction between the branches\n",
    "\n",
    "Use the below data of scores:\n",
    "\n",
    "  ```python\n",
    "\n",
    "branch_a_scores = [4, 5, 3, 4, 5, 4, 5, 3, 4, 4, 5, 4, 4, 3, 4, 5, 5, 4, 3, 4, 5, 4, 3, 5, 4, 4, 5, 3, 4, 5, 4]\n",
    "\n",
    "branch_b_scores = [3, 4, 2, 3, 4, 3, 4, 2, 3, 3, 4, 3, 3, 2, 3, 4, 4, 3, 2, 3, 4, 3, 2, 4, 3, 3, 4, 2, 3, 4, 3]"
   ]
  },
  {
   "cell_type": "code",
   "execution_count": 25,
   "id": "25c2040f-73e0-4d88-bf78-491072b65a44",
   "metadata": {},
   "outputs": [
    {
     "name": "stdout",
     "output_type": "stream",
     "text": [
      "T-statistic: 5.4801\n",
      "Degrees of Freedom: 60.0000\n",
      "P-value: 0.0000\n",
      "Reject the null hypothesis: There is a significant difference in customer satisfaction scores between Branch A and Branch B.\n"
     ]
    }
   ],
   "source": [
    "import numpy as np\n",
    "from scipy import stats\n",
    "\n",
    "def analyze_customer_satisfaction(branch_a_scores, branch_b_scores):\n",
    "    # Convert lists to numpy arrays for easier calculations\n",
    "    branch_a_scores = np.array(branch_a_scores)\n",
    "    branch_b_scores = np.array(branch_b_scores)\n",
    "    \n",
    "    # Calculate means\n",
    "    mean_branch_a = np.mean(branch_a_scores)\n",
    "    mean_branch_b = np.mean(branch_b_scores)\n",
    "    \n",
    "    # Calculate variances\n",
    "    var_branch_a = np.var(branch_a_scores, ddof=1)  # Sample variance\n",
    "    var_branch_b = np.var(branch_b_scores, ddof=1)  # Sample variance\n",
    "    \n",
    "    # Sample sizes\n",
    "    n_branch_a = len(branch_a_scores)\n",
    "    n_branch_b = len(branch_b_scores)\n",
    "\n",
    "    # Calculate the t-statistic\n",
    "    t_stat = (mean_branch_a - mean_branch_b) / np.sqrt(var_branch_a / n_branch_a + var_branch_b / n_branch_b)\n",
    "    \n",
    "    # Calculate degrees of freedom\n",
    "    df = ((var_branch_a / n_branch_a + var_branch_b / n_branch_b) ** 2) / \\\n",
    "         (( (var_branch_a / n_branch_a) ** 2 / (n_branch_a - 1) ) + ( (var_branch_b / n_branch_b) ** 2 / (n_branch_b - 1) ))\n",
    "    \n",
    "    # Calculate the p-value for a two-tailed test\n",
    "    p_value = stats.t.sf(np.abs(t_stat), df) * 2\n",
    "    \n",
    "    return t_stat, df, p_value\n",
    "\n",
    "# Data\n",
    "branch_a_scores = [4, 5, 3, 4, 5, 4, 5, 3, 4, 4, 5, 4, 4, 3, 4, 5, 5, 4, 3, 4, 5, 4, 3, 5, 4, 4, 5, 3, 4, 5, 4]\n",
    "branch_b_scores = [3, 4, 2, 3, 4, 3, 4, 2, 3, 3, 4, 3, 3, 2, 3, 4, 4, 3, 2, 3, 4, 3, 2, 4, 3, 3, 4, 2, 3, 4, 3]\n",
    "\n",
    "# Analyze the customer satisfaction scores\n",
    "t_stat, df, p_value = analyze_customer_satisfaction(branch_a_scores, branch_b_scores)\n",
    "\n",
    "print(f\"T-statistic: {t_stat:.4f}\")\n",
    "print(f\"Degrees of Freedom: {df:.4f}\")\n",
    "print(f\"P-value: {p_value:.4f}\")\n",
    "\n",
    "# Interpretation\n",
    "alpha = 0.05  # Significance level\n",
    "if p_value < alpha:\n",
    "    print(\"Reject the null hypothesis: There is a significant difference in customer satisfaction scores between Branch A and Branch B.\")\n",
    "else:\n",
    "    print(\"Fail to reject the null hypothesis: There is no significant difference in customer satisfaction scores between Branch A and Branch B.\")\n"
   ]
  },
  {
   "cell_type": "markdown",
   "id": "3bdaeb5b-8601-4a1b-b67e-50b96bfd87f0",
   "metadata": {},
   "source": [
    "## 21. A political analyst wants to determine if there is a significant association between age groups and voter preferences FCandidate A or Candidate B). They collect data from a sample of 500 voters and classify them into different age groups and candidate preferences. Perform a Chi-Square test to determine if there is a significant association between age groups and voter\n",
    "\n",
    "Use the below code to generate data:\n",
    "\n",
    "```python\n",
    "\n",
    "np.random.seed(0)\n",
    "\n",
    "age_groups = np.random.choice([ 18 30 , 31 50 , 51+', 51+'], size=30)\n",
    "\n",
    "voter_preferences = np.random.choice(['Candidate A', 'Candidate B'], size=30)"
   ]
  },
  {
   "cell_type": "code",
   "execution_count": 26,
   "id": "ce1d3b2c-b01e-45b8-b21c-ef1da2ea1ca9",
   "metadata": {},
   "outputs": [
    {
     "name": "stdout",
     "output_type": "stream",
     "text": [
      "Contingency Table:\n",
      "Voter Preference  Candidate A  Candidate B\n",
      "Age Group                                 \n",
      "18-30                      95           87\n",
      "31-50                      87           82\n",
      "51+                        84           65\n",
      "\n",
      "Chi-Square Statistic: 0.8780\n",
      "P-Value: 0.6447\n",
      "Degrees of Freedom: 2\n",
      "Expected Frequencies Table:\n",
      "[[96.824 85.176]\n",
      " [89.908 79.092]\n",
      " [79.268 69.732]]\n",
      "\n",
      "Fail to reject the null hypothesis: There is no significant association between age groups and voter preferences.\n"
     ]
    }
   ],
   "source": [
    "import numpy as np\n",
    "import pandas as pd\n",
    "from scipy import stats\n",
    "\n",
    "# Generate synthetic data\n",
    "np.random.seed(0)\n",
    "\n",
    "age_groups = np.random.choice(['18-30', '31-50', '51+'], size=500)\n",
    "voter_preferences = np.random.choice(['Candidate A', 'Candidate B'], size=500)\n",
    "\n",
    "# Create a DataFrame\n",
    "data = pd.DataFrame({'Age Group': age_groups, 'Voter Preference': voter_preferences})\n",
    "\n",
    "# Create a contingency table\n",
    "contingency_table = pd.crosstab(data['Age Group'], data['Voter Preference'])\n",
    "\n",
    "print(\"Contingency Table:\")\n",
    "print(contingency_table)\n",
    "\n",
    "# Perform the Chi-Square test\n",
    "chi2_stat, p_value, dof, expected = stats.chi2_contingency(contingency_table)\n",
    "\n",
    "print(f\"\\nChi-Square Statistic: {chi2_stat:.4f}\")\n",
    "print(f\"P-Value: {p_value:.4f}\")\n",
    "print(f\"Degrees of Freedom: {dof}\")\n",
    "print(f\"Expected Frequencies Table:\")\n",
    "print(expected)\n",
    "\n",
    "# Interpretation\n",
    "alpha = 0.05  # Significance level\n",
    "if p_value < alpha:\n",
    "    print(\"\\nReject the null hypothesis: There is a significant association between age groups and voter preferences.\")\n",
    "else:\n",
    "    print(\"\\nFail to reject the null hypothesis: There is no significant association between age groups and voter preferences.\")\n"
   ]
  },
  {
   "cell_type": "markdown",
   "id": "99f1f8cd-5ef3-49bd-a31c-c6df7f7ffb77",
   "metadata": {},
   "source": [
    "##  22. A company conducted a customer satisfaction survey to determine if there is a significant relationship between product satisfaction levels (Satisfied, Neutral, Dissatisfied) and the region where customers are located (East, West, North, South). The survey data is summarized in a contingency table. Conduct a ChiSquare test to determine if there is a significant relationship between product satisfaction levels and customer regions.\n",
    "\n",
    "Sample data:\n",
    "\n",
    "```python\n",
    "\n",
    "#Sample data: Product satisfaction levels (rows) vs. Customer regions (columns)\n",
    "\n",
    "data = np.array([[50, 30, 40, 20], [30, 40, 30, 50], [20, 30, 40, 30]])"
   ]
  },
  {
   "cell_type": "code",
   "execution_count": 27,
   "id": "0e79fb38-7a7b-4bf5-90f9-04679f8457c5",
   "metadata": {},
   "outputs": [
    {
     "name": "stdout",
     "output_type": "stream",
     "text": [
      "Chi-Square Statistic: 27.7771\n",
      "P-Value: 0.0001\n",
      "Degrees of Freedom: 6\n",
      "Expected Frequencies Table:\n",
      "[[34.14634146 34.14634146 37.56097561 34.14634146]\n",
      " [36.58536585 36.58536585 40.24390244 36.58536585]\n",
      " [29.26829268 29.26829268 32.19512195 29.26829268]]\n",
      "\n",
      "Reject the null hypothesis: There is a significant relationship between product satisfaction levels and customer regions.\n"
     ]
    }
   ],
   "source": [
    "import numpy as np\n",
    "from scipy import stats\n",
    "\n",
    "# Sample data: Product satisfaction levels (rows) vs. Customer regions (columns)\n",
    "data = np.array([[50, 30, 40, 20],\n",
    "                 [30, 40, 30, 50],\n",
    "                 [20, 30, 40, 30]])\n",
    "\n",
    "# Perform the Chi-Square test\n",
    "chi2_stat, p_value, dof, expected = stats.chi2_contingency(data)\n",
    "\n",
    "print(f\"Chi-Square Statistic: {chi2_stat:.4f}\")\n",
    "print(f\"P-Value: {p_value:.4f}\")\n",
    "print(f\"Degrees of Freedom: {dof}\")\n",
    "print(\"Expected Frequencies Table:\")\n",
    "print(expected)\n",
    "\n",
    "# Interpretation\n",
    "alpha = 0.05  # Significance level\n",
    "if p_value < alpha:\n",
    "    print(\"\\nReject the null hypothesis: There is a significant relationship between product satisfaction levels and customer regions.\")\n",
    "else:\n",
    "    print(\"\\nFail to reject the null hypothesis: There is no significant relationship between product satisfaction levels and customer regions.\")\n"
   ]
  },
  {
   "cell_type": "markdown",
   "id": "0aedaeeb-04e1-4968-9235-72541fa57a58",
   "metadata": {},
   "source": [
    "## 23. A company implemented an employee training program to improve job performance (Effective, Neutral, Ineffective). After the training, they collected data from a sample of employees and classified them based on their job performance before and after the training. Perform a Chi-Square test to determine if there is a significant difference between job performance levels before and after the training.\n",
    "\n",
    "Sample data:\n",
    "\n",
    "```python\n",
    "\n",
    "# Sample data: Job performance levels before (rows) and after (columns) training\n",
    "\n",
    "data = np.array([[50, 30, 20], [30, 40, 30], [20, 30, 40]])\n"
   ]
  },
  {
   "cell_type": "code",
   "execution_count": 28,
   "id": "171daee6-ee4b-4367-9091-1af5922b36d5",
   "metadata": {},
   "outputs": [
    {
     "name": "stdout",
     "output_type": "stream",
     "text": [
      "Chi-Square Statistic: 22.1617\n",
      "P-Value: 0.0002\n",
      "Degrees of Freedom: 4\n",
      "Expected Frequencies Table:\n",
      "[[34.48275862 34.48275862 31.03448276]\n",
      " [34.48275862 34.48275862 31.03448276]\n",
      " [31.03448276 31.03448276 27.93103448]]\n",
      "\n",
      "Reject the null hypothesis: There is a significant difference in job performance levels before and after the training.\n"
     ]
    }
   ],
   "source": [
    "import numpy as np\n",
    "from scipy import stats\n",
    "\n",
    "# Sample data: Job performance levels before (rows) and after (columns) training\n",
    "data = np.array([[50, 30, 20],\n",
    "                 [30, 40, 30],\n",
    "                 [20, 30, 40]])\n",
    "\n",
    "# Perform the Chi-Square test\n",
    "chi2_stat, p_value, dof, expected = stats.chi2_contingency(data)\n",
    "\n",
    "print(f\"Chi-Square Statistic: {chi2_stat:.4f}\")\n",
    "print(f\"P-Value: {p_value:.4f}\")\n",
    "print(f\"Degrees of Freedom: {dof}\")\n",
    "print(\"Expected Frequencies Table:\")\n",
    "print(expected)\n",
    "\n",
    "# Interpretation\n",
    "alpha = 0.05  # Significance level\n",
    "if p_value < alpha:\n",
    "    print(\"\\nReject the null hypothesis: There is a significant difference in job performance levels before and after the training.\")\n",
    "else:\n",
    "    print(\"\\nFail to reject the null hypothesis: There is no significant difference in job performance levels before and after the training.\")\n"
   ]
  },
  {
   "cell_type": "markdown",
   "id": "e41a4be1-7e93-4f74-9af9-9b35effc039c",
   "metadata": {},
   "source": [
    "##  24. A company produces three different versions of a product: Standard, Premium, and Deluxe. The company wants to determine if there is a significant difference in customer satisfaction scores among the three product versions. They conducted a survey and collected customer satisfaction scores for each version from a random sample of customers. Perform an ANOVA test to determine if there is a significant difference in customer satisfaction scores.\n",
    "\n",
    " Use the following data:\n",
    "\n",
    "  ```python\n",
    "\n",
    "  # Sample data: Customer satisfaction scores for each product version\n",
    "\n",
    "  standard_scores = [80, 85, 90, 78, 88, 82, 92, 78, 85, 87]\n",
    "\n",
    "  premium_scores = [90, 92, 88, 92, 95, 91, 96, 93, 89, 93]\n",
    "\n",
    "  deluxe_scores = [95, 98, 92, 97, 96, 94, 98, 97, 92, 99]"
   ]
  },
  {
   "cell_type": "code",
   "execution_count": 29,
   "id": "281e709d-0c5b-4baa-9803-e4a5522a6736",
   "metadata": {},
   "outputs": [
    {
     "name": "stdout",
     "output_type": "stream",
     "text": [
      "F-Statistic: 27.0356\n",
      "P-Value: 0.0000\n",
      "\n",
      "Reject the null hypothesis: There is a significant difference in customer satisfaction scores among the three product versions.\n"
     ]
    }
   ],
   "source": [
    "import numpy as np\n",
    "from scipy import stats\n",
    "\n",
    "# Sample data: Customer satisfaction scores for each product version\n",
    "standard_scores = [80, 85, 90, 78, 88, 82, 92, 78, 85, 87]\n",
    "premium_scores = [90, 92, 88, 92, 95, 91, 96, 93, 89, 93]\n",
    "deluxe_scores = [95, 98, 92, 97, 96, 94, 98, 97, 92, 99]\n",
    "\n",
    "# Perform the one-way ANOVA test\n",
    "f_stat, p_value = stats.f_oneway(standard_scores, premium_scores, deluxe_scores)\n",
    "\n",
    "print(f\"F-Statistic: {f_stat:.4f}\")\n",
    "print(f\"P-Value: {p_value:.4f}\")\n",
    "\n",
    "# Interpretation\n",
    "alpha = 0.05  # Significance level\n",
    "if p_value < alpha:\n",
    "    print(\"\\nReject the null hypothesis: There is a significant difference in customer satisfaction scores among the three product versions.\")\n",
    "else:\n",
    "    print(\"\\nFail to reject the null hypothesis: There is no significant difference in customer satisfaction scores among the three product versions.\")\n"
   ]
  },
  {
   "cell_type": "code",
   "execution_count": null,
   "id": "edfc03d6-a933-419b-8f53-bbef23665b90",
   "metadata": {},
   "outputs": [],
   "source": []
  }
 ],
 "metadata": {
  "kernelspec": {
   "display_name": "Python 3 (ipykernel)",
   "language": "python",
   "name": "python3"
  },
  "language_info": {
   "codemirror_mode": {
    "name": "ipython",
    "version": 3
   },
   "file_extension": ".py",
   "mimetype": "text/x-python",
   "name": "python",
   "nbconvert_exporter": "python",
   "pygments_lexer": "ipython3",
   "version": "3.12.4"
  }
 },
 "nbformat": 4,
 "nbformat_minor": 5
}
